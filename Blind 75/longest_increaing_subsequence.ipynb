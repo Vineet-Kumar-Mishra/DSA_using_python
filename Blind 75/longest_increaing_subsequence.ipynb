{
 "cells": [
  {
   "cell_type": "markdown",
   "metadata": {},
   "source": [
    "## Find length of longest increasing subsequence from aray\n",
    "> eg. `arr = [10,9,2,5,3,7,101,18]`  --> o/p = 4 as [2,3,7,101] or [2,5,7,101]"
   ]
  },
  {
   "cell_type": "code",
   "execution_count": null,
   "metadata": {},
   "outputs": [],
   "source": [
    "def longest_subsequence_length(arr):\n",
    "    lis = [1] * len(arr)\n",
    "\n",
    "    # start from reverse\n",
    "    for i in range(len(arr)-1, -1, -1):\n",
    "\n",
    "        # from current location to last we compare\n",
    "        for j in range(i+1, len(arr)):\n",
    "\n",
    "            # only if next element is greater or equal we consider\n",
    "            if arr[i]<=arr[j]:\n",
    "                lis[i] = max(lis[i], 1+lis[j])\n",
    "\n",
    "    return max(lis)"
   ]
  },
  {
   "cell_type": "code",
   "execution_count": null,
   "metadata": {},
   "outputs": [
    {
     "data": {
      "text/plain": [
       "4"
      ]
     },
     "execution_count": 26,
     "metadata": {},
     "output_type": "execute_result"
    }
   ],
   "source": [
    "longest_subsequence_length(arr = [10,9,2,5,3,7,101,18])"
   ]
  },
  {
   "cell_type": "code",
   "execution_count": null,
   "metadata": {},
   "outputs": [
    {
     "data": {
      "text/plain": [
       "3"
      ]
     },
     "execution_count": 27,
     "metadata": {},
     "output_type": "execute_result"
    }
   ],
   "source": [
    "longest_subsequence_length([1,2,4,3])"
   ]
  },
  {
   "cell_type": "code",
   "execution_count": null,
   "metadata": {},
   "outputs": [],
   "source": []
  }
 ],
 "metadata": {
  "kernelspec": {
   "display_name": "Python 3",
   "language": "python",
   "name": "python3"
  },
  "language_info": {
   "codemirror_mode": {
    "name": "ipython",
    "version": 3
   },
   "file_extension": ".py",
   "mimetype": "text/x-python",
   "name": "python",
   "nbconvert_exporter": "python",
   "pygments_lexer": "ipython3",
   "version": "3.9.7"
  }
 },
 "nbformat": 4,
 "nbformat_minor": 2
}
