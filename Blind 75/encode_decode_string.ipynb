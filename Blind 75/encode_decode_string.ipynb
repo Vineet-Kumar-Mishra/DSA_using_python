{
 "cells": [
  {
   "cell_type": "markdown",
   "metadata": {},
   "source": [
    "## Encode and Decode String\n",
    "\n",
    "# The delimiter should be such that after encoder and decoder the op=arr of strings\n",
    "> e.g. ['DSA','is','good'] --> Encoder --> Decoder --> ['DSA','is','good']"
   ]
  },
  {
   "cell_type": "code",
   "execution_count": 3,
   "metadata": {},
   "outputs": [],
   "source": [
    "def encoder(arr):\n",
    "    encoded = \"\"\n",
    "    for item in arr:\n",
    "        length = len(item)\n",
    "        encoded = encoded+str(length)+'#&$'+item\n",
    "\n",
    "    return encoded"
   ]
  },
  {
   "cell_type": "code",
   "execution_count": 6,
   "metadata": {},
   "outputs": [
    {
     "data": {
      "text/plain": [
       "'3#&$DSA2#&$is4#&$good'"
      ]
     },
     "execution_count": 6,
     "metadata": {},
     "output_type": "execute_result"
    }
   ],
   "source": [
    "en_str = encoder(['DSA','is','good'])\n",
    "en_str"
   ]
  },
  {
   "cell_type": "code",
   "execution_count": 13,
   "metadata": {},
   "outputs": [],
   "source": [
    "def decoder(s):\n",
    "    delimiter = '#&$'\n",
    "    len_delim = len(delimiter)\n",
    "    res = []\n",
    "    i = 0\n",
    "    while i<len(s):\n",
    "        # start searching for delimter\n",
    "        j=i\n",
    "\n",
    "        while s[j:j+len_delim]!=delimiter:\n",
    "            j+=1\n",
    "\n",
    "        \n",
    "        length_word = int(s[i:j])\n",
    "        word = s[j+len_delim:j+len_delim+length_word]\n",
    "        res.append(word)\n",
    "        i = j+len_delim+length_word\n",
    "\n",
    "    return res\n"
   ]
  },
  {
   "cell_type": "code",
   "execution_count": 14,
   "metadata": {},
   "outputs": [
    {
     "data": {
      "text/plain": [
       "['DSA', 'is', 'good']"
      ]
     },
     "execution_count": 14,
     "metadata": {},
     "output_type": "execute_result"
    }
   ],
   "source": [
    "decoder(en_str)"
   ]
  },
  {
   "cell_type": "code",
   "execution_count": null,
   "metadata": {},
   "outputs": [],
   "source": []
  }
 ],
 "metadata": {
  "kernelspec": {
   "display_name": "Python 3",
   "language": "python",
   "name": "python3"
  },
  "language_info": {
   "codemirror_mode": {
    "name": "ipython",
    "version": 3
   },
   "file_extension": ".py",
   "mimetype": "text/x-python",
   "name": "python",
   "nbconvert_exporter": "python",
   "pygments_lexer": "ipython3",
   "version": "3.9.7"
  }
 },
 "nbformat": 4,
 "nbformat_minor": 2
}
