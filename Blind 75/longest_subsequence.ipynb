{
 "cells": [
  {
   "cell_type": "markdown",
   "metadata": {},
   "source": [
    "## Longest subsequence: Given an unsorted array. Find length of longest consecutive subsequence\n",
    ">\n",
    "e.g a = [100,2,1,200,3,4] --> op = 4 since [1,2,3,4] is longest\n",
    ">\n",
    "> other sequences detected are [100], [200]"
   ]
  },
  {
   "cell_type": "code",
   "execution_count": 3,
   "metadata": {},
   "outputs": [],
   "source": [
    "def longest_consecutive_subsequence(arr):\n",
    "    lookup_set = set()\n",
    "\n",
    "    for item in arr:\n",
    "        lookup_set.add(item)\n",
    "\n",
    "    longest = 0\n",
    "\n",
    "    for item in arr:\n",
    "        # look if it's starting of subsequence\n",
    "        if (item-1) not in lookup_set:\n",
    "            current_length = 0\n",
    "            while(item+current_length) in lookup_set:\n",
    "                current_length +=1\n",
    "            \n",
    "            longest = max(longest, current_length)\n",
    "    return longest\n"
   ]
  },
  {
   "cell_type": "code",
   "execution_count": 4,
   "metadata": {},
   "outputs": [
    {
     "data": {
      "text/plain": [
       "4"
      ]
     },
     "execution_count": 4,
     "metadata": {},
     "output_type": "execute_result"
    }
   ],
   "source": [
    "longest_consecutive_subsequence([100,2,1,200,3,4])"
   ]
  },
  {
   "cell_type": "code",
   "execution_count": 5,
   "metadata": {},
   "outputs": [
    {
     "data": {
      "text/plain": [
       "5"
      ]
     },
     "execution_count": 5,
     "metadata": {},
     "output_type": "execute_result"
    }
   ],
   "source": [
    "longest_consecutive_subsequence([2,3,4,100,201,204,203,202,200])"
   ]
  },
  {
   "cell_type": "code",
   "execution_count": null,
   "metadata": {},
   "outputs": [],
   "source": []
  }
 ],
 "metadata": {
  "kernelspec": {
   "display_name": "Python 3",
   "language": "python",
   "name": "python3"
  },
  "language_info": {
   "codemirror_mode": {
    "name": "ipython",
    "version": 3
   },
   "file_extension": ".py",
   "mimetype": "text/x-python",
   "name": "python",
   "nbconvert_exporter": "python",
   "pygments_lexer": "ipython3",
   "version": "3.9.7"
  }
 },
 "nbformat": 4,
 "nbformat_minor": 2
}
