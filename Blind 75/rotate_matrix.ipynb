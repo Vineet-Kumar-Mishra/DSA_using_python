{
 "cells": [
  {
   "cell_type": "markdown",
   "metadata": {},
   "source": [
    "## Rotate image:\n",
    "# rotate 90 degree in clockwise direction\n",
    "\n",
    "> e.g. `mat = [[1,2,3],[4,5,6],[7,8,9]]`  `op = [[7,4,1],[8,5,2],[9,6,3]]`"
   ]
  },
  {
   "cell_type": "code",
   "execution_count": 11,
   "metadata": {},
   "outputs": [],
   "source": [
    "def rotate_mat(mat):\n",
    "    l,r = 0,len(mat)-1\n",
    "\n",
    "    while l<r:\n",
    "        \n",
    "        for i in range(r-l):\n",
    "            t=l\n",
    "            b=r\n",
    "            # save top left element in tmp\n",
    "            tmp = mat[t][l+i]\n",
    "\n",
    "            # reverse updation\n",
    "            # bottom left to top left\n",
    "            mat[t][l+i] = mat[b-i][l]\n",
    "\n",
    "            # bottom right to bottom left\n",
    "            mat[b-i][l] = mat[b][r-i]\n",
    "\n",
    "            # top right to bottom right\n",
    "            mat[b][r-i] = mat[t+i][r]\n",
    "\n",
    "            # tmp to top right\n",
    "            mat[t+i][r] = tmp\n",
    "        l+=1\n",
    "        r-=1\n",
    "\n",
    "    return mat\n"
   ]
  },
  {
   "cell_type": "code",
   "execution_count": 10,
   "metadata": {},
   "outputs": [
    {
     "data": {
      "text/plain": [
       "[[7, 4, 1], [8, 5, 2], [9, 6, 3]]"
      ]
     },
     "execution_count": 10,
     "metadata": {},
     "output_type": "execute_result"
    }
   ],
   "source": [
    "rotate_mat([[1,2,3],[4,5,6],[7,8,9]])"
   ]
  },
  {
   "cell_type": "code",
   "execution_count": null,
   "metadata": {},
   "outputs": [],
   "source": []
  }
 ],
 "metadata": {
  "kernelspec": {
   "display_name": "Python 3",
   "language": "python",
   "name": "python3"
  },
  "language_info": {
   "codemirror_mode": {
    "name": "ipython",
    "version": 3
   },
   "file_extension": ".py",
   "mimetype": "text/x-python",
   "name": "python",
   "nbconvert_exporter": "python",
   "pygments_lexer": "ipython3",
   "version": "3.9.7"
  }
 },
 "nbformat": 4,
 "nbformat_minor": 2
}
