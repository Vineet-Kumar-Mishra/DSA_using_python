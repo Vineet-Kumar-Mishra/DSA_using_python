{
 "cells": [
  {
   "cell_type": "markdown",
   "metadata": {},
   "source": [
    "## Find connected components:\n",
    "## n is number of nodes and edges given\n",
    "> e.g. n = 5  edges = [[0,1],[1,2],[3,4]]\n",
    ">\n",
    ">\n",
    "o/p = 2"
   ]
  },
  {
   "cell_type": "code",
   "execution_count": 1,
   "metadata": {},
   "outputs": [],
   "source": [
    "## Solution with simple dFS\n",
    "def num_components_dfs(n, edges):\n",
    "    adj = {c:set() for c in range(n)}\n",
    "    for c,j in edges:\n",
    "        adj[c].add(j)\n",
    "\n",
    "    visited = set()\n",
    "    def dfs(node):\n",
    "        if node in visited:\n",
    "            return\n",
    "\n",
    "        visited.add(node)\n",
    "        for neib in adj[node]:\n",
    "            dfs(neib)\n",
    "\n",
    "    res = 0\n",
    "    for i in range(n):\n",
    "        if i not in visited:\n",
    "            dfs(i)\n",
    "            res+=1\n",
    "\n",
    "    return res\n"
   ]
  },
  {
   "cell_type": "code",
   "execution_count": 2,
   "metadata": {},
   "outputs": [
    {
     "data": {
      "text/plain": [
       "2"
      ]
     },
     "execution_count": 2,
     "metadata": {},
     "output_type": "execute_result"
    }
   ],
   "source": [
    "num_components_dfs(5, [[0,1],[1,2],[3,4]])"
   ]
  },
  {
   "cell_type": "markdown",
   "metadata": {},
   "source": [
    "## Union Find Method"
   ]
  },
  {
   "cell_type": "code",
   "execution_count": null,
   "metadata": {},
   "outputs": [],
   "source": [
    "def num_components(n, edges):\n",
    "    # Consider that all nodes are disconnected\n",
    "    # a node become parent of itself\n",
    "    parent = list(range(n))\n",
    "\n",
    "    # Since nothing is connected rnk will be 1 for everyone\n",
    "    rank = [1] *n\n",
    "\n",
    "    def find(node):\n",
    "\n",
    "        #default condition\n",
    "        res = node\n",
    "\n",
    "        # This condition will not work 1st time since parent[n] = n\n",
    "        # once a different node is assgined as root---> action begins\n",
    "        if res != parent[res]:\n",
    "            parent[res] = find(parent[res])\n",
    "        res = parent[res]\n",
    "        return res\n",
    "    \n",
    "    def union(n1, n2):\n",
    "        p1 = find(n1)\n",
    "        p2 = find(n2)\n",
    "\n",
    "        # p1 and p2 hold root nodes of n1 and n2\n",
    "        if p1==p2:\n",
    "            # Both have common root so no need to merge\n",
    "            return False\n",
    "        \n",
    "        # We dont know which was considered the master root for the set so we check both conditions\n",
    "        if rank[p1]>rank[p2]:\n",
    "            parent[p2] = p1\n",
    "            rank[p1] +=1\n",
    "        \n",
    "        elif rank[p2]>rank[p1]:\n",
    "            parent[p1]=p2\n",
    "            rank[p2]+=1\n",
    "\n",
    "        # In the first iteration p1=n1 and p2=n2 as well as rank[p1]=1 and rank[p2]=1 --> so we merge any one into one\n",
    "        else:\n",
    "            parent[p1]=p2\n",
    "            rank[p2]+=1\n",
    "\n",
    "        # merge was successfull\n",
    "        return True\n",
    "    \n",
    "    connected_components = n\n",
    "    for n1,n2 in edges:\n",
    "        if union(n1,n2):\n",
    "            connected_components -=1\n",
    "\n",
    "    return connected_components\n"
   ]
  },
  {
   "cell_type": "code",
   "execution_count": 6,
   "metadata": {},
   "outputs": [
    {
     "data": {
      "text/plain": [
       "2"
      ]
     },
     "execution_count": 6,
     "metadata": {},
     "output_type": "execute_result"
    }
   ],
   "source": [
    "num_components(5, [[0,1],[1,2],[3,4]])"
   ]
  },
  {
   "cell_type": "code",
   "execution_count": 7,
   "metadata": {},
   "outputs": [],
   "source": [
    "def detect_cycle(n, edges):\n",
    "    # Consider that all nodes are disconnected\n",
    "    # a node become parent of itself\n",
    "    parent = list(range(n))\n",
    "\n",
    "    # Since nothing is connected rnk will be 1 for everyone\n",
    "    rank = [1] *n\n",
    "\n",
    "    def find(node):\n",
    "\n",
    "        #default condition\n",
    "        res = node\n",
    "\n",
    "        # This condition will not work 1st time since parent[n] = n\n",
    "        # once a different node is assgined as root---> action begins\n",
    "        if res != parent[res]:\n",
    "            parent[res] = find(parent[res])\n",
    "        res = parent[res]\n",
    "        return res\n",
    "    \n",
    "    def union(n1, n2):\n",
    "        p1 = find(n1)\n",
    "        p2 = find(n2)\n",
    "\n",
    "        # p1 and p2 hold root nodes of n1 and n2\n",
    "        if p1==p2:\n",
    "            # Both have common root so no need to merge\n",
    "            return False\n",
    "        \n",
    "        # We dont know which was considered the master root for the set so we check both conditions\n",
    "        if rank[p1]>rank[p2]:\n",
    "            parent[p2] = p1\n",
    "            rank[p2] +=1\n",
    "        \n",
    "        elif rank[p2]>rank[p1]:\n",
    "            parent[p1]=p2\n",
    "            rank[p2]+=1\n",
    "\n",
    "        # In the first iteration p1=n1 and p2=n2 as well as rank[p1]=1 and rank[p2]=1 --> so we merge any one into one\n",
    "        else:\n",
    "            parent[p1]=p2\n",
    "            rank[p2]+=1\n",
    "\n",
    "        # merge was successfull\n",
    "        return True\n",
    "    \n",
    "    for n1,n2 in edges:\n",
    "        if not union(n1,n2):\n",
    "            return True\n",
    "\n",
    "    return False\n"
   ]
  },
  {
   "cell_type": "code",
   "execution_count": 8,
   "metadata": {},
   "outputs": [
    {
     "data": {
      "text/plain": [
       "True"
      ]
     },
     "execution_count": 8,
     "metadata": {},
     "output_type": "execute_result"
    }
   ],
   "source": [
    "detect_cycle(3, [[0,1],[1,2],[2,0]])"
   ]
  },
  {
   "cell_type": "code",
   "execution_count": 9,
   "metadata": {},
   "outputs": [
    {
     "data": {
      "text/plain": [
       "False"
      ]
     },
     "execution_count": 9,
     "metadata": {},
     "output_type": "execute_result"
    }
   ],
   "source": [
    "detect_cycle(3, [[0,1],[1,2]])\n"
   ]
  },
  {
   "cell_type": "code",
   "execution_count": null,
   "metadata": {},
   "outputs": [],
   "source": []
  }
 ],
 "metadata": {
  "kernelspec": {
   "display_name": "Python 3",
   "language": "python",
   "name": "python3"
  },
  "language_info": {
   "codemirror_mode": {
    "name": "ipython",
    "version": 3
   },
   "file_extension": ".py",
   "mimetype": "text/x-python",
   "name": "python",
   "nbconvert_exporter": "python",
   "pygments_lexer": "ipython3",
   "version": "3.9.7"
  }
 },
 "nbformat": 4,
 "nbformat_minor": 2
}
