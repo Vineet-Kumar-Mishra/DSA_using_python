{
 "cells": [
  {
   "cell_type": "markdown",
   "metadata": {},
   "source": [
    "## Hosue robber 2: rob houses for max but now houses arranged in circular manner i.e. 1st and last house connected\n",
    "\n",
    "> e.g. arr = [2,3,2] --> o/p = 3"
   ]
  },
  {
   "cell_type": "code",
   "execution_count": 4,
   "metadata": {},
   "outputs": [],
   "source": [
    "def house_robber2(arr):\n",
    "\n",
    "    def house_robber1(sub_array):\n",
    "        rob1, rob2 = 0,0\n",
    "\n",
    "        for i in sub_array:\n",
    "            rob_ith = rob1+i\n",
    "\n",
    "            not_rob_ith = rob2\n",
    "\n",
    "            max_robbed = max(rob_ith, not_rob_ith)\n",
    "\n",
    "            rob1 = rob2\n",
    "            rob2 = max_robbed\n",
    "        return rob2\n",
    "\n",
    "    return max(arr[0],house_robber1(arr[1:]), house_robber1(arr[:-1]))"
   ]
  },
  {
   "cell_type": "code",
   "execution_count": 5,
   "metadata": {},
   "outputs": [
    {
     "data": {
      "text/plain": [
       "11"
      ]
     },
     "execution_count": 5,
     "metadata": {},
     "output_type": "execute_result"
    }
   ],
   "source": [
    "house_robber2([2,4,3,2,7])"
   ]
  },
  {
   "cell_type": "code",
   "execution_count": 6,
   "metadata": {},
   "outputs": [
    {
     "data": {
      "text/plain": [
       "1"
      ]
     },
     "execution_count": 6,
     "metadata": {},
     "output_type": "execute_result"
    }
   ],
   "source": [
    "house_robber2([1])"
   ]
  },
  {
   "cell_type": "code",
   "execution_count": null,
   "metadata": {},
   "outputs": [],
   "source": []
  }
 ],
 "metadata": {
  "kernelspec": {
   "display_name": "Python 3",
   "language": "python",
   "name": "python3"
  },
  "language_info": {
   "codemirror_mode": {
    "name": "ipython",
    "version": 3
   },
   "file_extension": ".py",
   "mimetype": "text/x-python",
   "name": "python",
   "nbconvert_exporter": "python",
   "pygments_lexer": "ipython3",
   "version": "3.9.7"
  }
 },
 "nbformat": 4,
 "nbformat_minor": 2
}
