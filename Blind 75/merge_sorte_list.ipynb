{
 "cells": [
  {
   "cell_type": "markdown",
   "metadata": {},
   "source": [
    "## Merge 2 sorted linked list"
   ]
  },
  {
   "cell_type": "code",
   "execution_count": 1,
   "metadata": {},
   "outputs": [],
   "source": [
    "class Node:\n",
    "    def __init__(self, val = 0, next = None):\n",
    "        self.val = val\n",
    "        self.next = next\n",
    "        \n",
    "class linked_list:\n",
    "    def __init__(self, head = None):\n",
    "        self.head = head\n",
    "\n",
    "    def insert_item(self, item):\n",
    "        if not self.head:\n",
    "            self.head = Node(item)\n",
    "        else:\n",
    "            ptr = self.head\n",
    "            while ptr.next:\n",
    "                ptr = ptr.next\n",
    "            ptr.next = Node(item)\n",
    "    def insert_items(self, list_items):\n",
    "        for item in list_items:\n",
    "            self.insert_item(item)\n",
    "\n",
    "\n",
    "def print_linked_list(head):\n",
    "    current = head\n",
    "    while current:\n",
    "        print(current.val, end=\" -> \")\n",
    "        current = current.next\n",
    "    print(\"None\")\n"
   ]
  },
  {
   "cell_type": "code",
   "execution_count": 2,
   "metadata": {},
   "outputs": [],
   "source": [
    "l1 = linked_list()\n",
    "l2 = linked_list()"
   ]
  },
  {
   "cell_type": "code",
   "execution_count": 3,
   "metadata": {},
   "outputs": [],
   "source": [
    "l1.insert_items([1,3,4])\n",
    "l2.insert_items([1,2,4])"
   ]
  },
  {
   "cell_type": "code",
   "execution_count": 4,
   "metadata": {},
   "outputs": [
    {
     "name": "stdout",
     "output_type": "stream",
     "text": [
      "1 -> 3 -> 4 -> None\n"
     ]
    }
   ],
   "source": [
    "print_linked_list(l1.head)"
   ]
  },
  {
   "cell_type": "code",
   "execution_count": 5,
   "metadata": {},
   "outputs": [
    {
     "name": "stdout",
     "output_type": "stream",
     "text": [
      "1 -> 2 -> 4 -> None\n"
     ]
    }
   ],
   "source": [
    "print_linked_list(l2.head)"
   ]
  },
  {
   "cell_type": "code",
   "execution_count": 6,
   "metadata": {},
   "outputs": [],
   "source": [
    "def merge_linked_list(l1, l2):\n",
    "    # l1 and l2 are heads of l1 and l2\n",
    "\n",
    "    # dummy node as the head of the op_list\n",
    "    op_list = linked_list('dummy')\n",
    "    tail = op_list\n",
    "\n",
    "    while l1 and l2:\n",
    "        if l1.val>l2.val:\n",
    "            tail.next = l2\n",
    "            l2 = l2.next\n",
    "        else:\n",
    "            tail.next = l1\n",
    "            l1 = l1.next\n",
    "\n",
    "        tail = tail.next\n",
    "\n",
    "    # One list has finished but possiblilty that other list is there so we directly add\n",
    "    if l1:\n",
    "        tail.next = l1\n",
    "    elif l2:\n",
    "        tail.next = l2\n",
    "    \n",
    "    return op_list.next\n"
   ]
  },
  {
   "cell_type": "code",
   "execution_count": 7,
   "metadata": {},
   "outputs": [],
   "source": [
    "merge_list = merge_linked_list(l1.head, l2.head)"
   ]
  },
  {
   "cell_type": "code",
   "execution_count": 8,
   "metadata": {},
   "outputs": [
    {
     "name": "stdout",
     "output_type": "stream",
     "text": [
      "1 -> 1 -> 2 -> 3 -> 4 -> 4 -> None\n"
     ]
    }
   ],
   "source": [
    "print_linked_list(merge_list)"
   ]
  },
  {
   "cell_type": "code",
   "execution_count": null,
   "metadata": {},
   "outputs": [],
   "source": []
  }
 ],
 "metadata": {
  "kernelspec": {
   "display_name": "Python 3",
   "language": "python",
   "name": "python3"
  },
  "language_info": {
   "codemirror_mode": {
    "name": "ipython",
    "version": 3
   },
   "file_extension": ".py",
   "mimetype": "text/x-python",
   "name": "python",
   "nbconvert_exporter": "python",
   "pygments_lexer": "ipython3",
   "version": "3.9.7"
  }
 },
 "nbformat": 4,
 "nbformat_minor": 2
}
