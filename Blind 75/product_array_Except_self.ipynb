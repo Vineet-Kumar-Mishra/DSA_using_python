{
 "cells": [
  {
   "cell_type": "markdown",
   "metadata": {},
   "source": [
    "## Product of array except for self\n",
    "\n",
    "> e.g. nums = [1,2,3,4]\n",
    ">\n",
    "> output = [24,12,8,6]\n",
    "> We can't use division and time complaxity should be O(N)"
   ]
  },
  {
   "cell_type": "markdown",
   "metadata": {},
   "source": [
    "## Solutions\n",
    "\n",
    "> nums = [1,2,3,4]\n",
    "1. In the above example the value at 3 will be (1*2) X (4)\n",
    "2. The (1*2) is sort of prefix array\n",
    "3. The (4) is from postfix array\n",
    "\n",
    "> This calculations look like\n",
    ">\n",
    "> prefix = [1,2,6,24]\n",
    ">\n",
    "> postfix = [24,24,12,4]\n",
    ">\n",
    "> At 3 will be prefix just before 3 and postfix just after 3 hence -> 2 X 4\n",
    "\n",
    "## For O(1) space complexity we eliminate prefix and postfix array and perform operations in single output array as follows\n",
    "\n",
    "1. 1st Iteration we go in forward and calculate the output consisting of prefix elements. consider 1st as 1\n",
    "2. We go from backward and consider last postfix as 1 and proceede\n",
    "\n",
    "> Calculation looks like\n",
    ">\n",
    "> output = [1,1,2,6]\n",
    ">\n",
    "> output = [1X24 = 24, 1X12 = 12 ,2X4 = 8,6X1]\n",
    ">\n",
    "> output = [24,12,8,6]"
   ]
  },
  {
   "cell_type": "code",
   "execution_count": 25,
   "metadata": {},
   "outputs": [],
   "source": [
    "def multi_method(arr):\n",
    "    res = [1]*len(arr)\n",
    "\n",
    "    pre=1\n",
    "    for i in range(len(arr)):\n",
    "        res[i] = pre\n",
    "        pre *= arr[i]\n",
    "\n",
    "    \n",
    "    pos = 1\n",
    "    for i in range(len(arr)-1,-1,-1):\n",
    "        # print(i)\n",
    "        res[i] *= pos\n",
    "        pos *= arr[i]\n",
    "    return res\n",
    "\n",
    "\n",
    "    "
   ]
  },
  {
   "cell_type": "code",
   "execution_count": 24,
   "metadata": {},
   "outputs": [
    {
     "name": "stdout",
     "output_type": "stream",
     "text": [
      "3\n",
      "2\n",
      "1\n",
      "0\n"
     ]
    },
    {
     "data": {
      "text/plain": [
       "[24, 12, 8, 6]"
      ]
     },
     "execution_count": 24,
     "metadata": {},
     "output_type": "execute_result"
    }
   ],
   "source": [
    "multi_method([1,2,3,4])"
   ]
  },
  {
   "cell_type": "code",
   "execution_count": 55,
   "metadata": {},
   "outputs": [],
   "source": [
    "def multi_except(arr):\n",
    "    output = [1] * len(arr)\n",
    "    prefix = 1\n",
    "    for i in range(len(arr)):\n",
    "        output[i] = prefix\n",
    "        prefix *= arr[i]\n",
    "    \n",
    "    postfix = 1\n",
    "    for i in range(len(arr)-1,0,-1):\n",
    "        output[i] = postfix\n",
    "        postfix *=arr[i]\n",
    "\n",
    "    return output"
   ]
  },
  {
   "cell_type": "code",
   "execution_count": 26,
   "metadata": {},
   "outputs": [],
   "source": [
    "test_cases = [\n",
    "            {'input':{'arr':[1,2,3,4]}, 'output':[24,12,8,6]},\n",
    "            {'input':{'arr':[1,4,6]}, 'output':[24,6,4]},\n",
    "            {'input':{'arr':[]}, 'output':[]},\n",
    "]"
   ]
  },
  {
   "cell_type": "code",
   "execution_count": 27,
   "metadata": {},
   "outputs": [
    {
     "name": "stdout",
     "output_type": "stream",
     "text": [
      "Calculated [24, 12, 8, 6]\n",
      "original [24, 12, 8, 6]\n",
      "True\n",
      "Calculated [24, 6, 4]\n",
      "original [24, 6, 4]\n",
      "True\n",
      "Calculated []\n",
      "original []\n",
      "True\n"
     ]
    }
   ],
   "source": [
    "for tst in test_cases:\n",
    "    op = multi_method(**tst['input'])\n",
    "    print('Calculated', op)\n",
    "    print('original', tst['output'])\n",
    "    print(op==tst['output'])"
   ]
  },
  {
   "cell_type": "code",
   "execution_count": null,
   "metadata": {},
   "outputs": [],
   "source": []
  }
 ],
 "metadata": {
  "kernelspec": {
   "display_name": "Python 3",
   "language": "python",
   "name": "python3"
  },
  "language_info": {
   "codemirror_mode": {
    "name": "ipython",
    "version": 3
   },
   "file_extension": ".py",
   "mimetype": "text/x-python",
   "name": "python",
   "nbconvert_exporter": "python",
   "pygments_lexer": "ipython3",
   "version": "3.9.7"
  }
 },
 "nbformat": 4,
 "nbformat_minor": 2
}
