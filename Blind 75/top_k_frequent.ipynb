{
 "cells": [
  {
   "cell_type": "markdown",
   "metadata": {},
   "source": [
    "## Top K frequent elements\n",
    "> e.g. ar = [1,1,1,2,2,3] k = 2 --> op = [1,2]\n",
    ">\n",
    "> Use bucket sort to get freq array\n"
   ]
  },
  {
   "cell_type": "code",
   "execution_count": 1,
   "metadata": {},
   "outputs": [],
   "source": [
    "def k_frequent(arr, k):\n",
    "    hash_map = {}\n",
    "    freq_table = [[] for _ in range(len(arr)+1)]\n",
    "\n",
    "    # fill hash map\n",
    "    for i in arr:\n",
    "        hash_map[i] = 1 + hash_map.get(i,0)\n",
    "\n",
    "    # fill up freq table\n",
    "    for num, count in hash_map.items():\n",
    "        freq_table[count].append(num)\n",
    "\n",
    "    print(freq_table)\n",
    "\n",
    "    # Top k\n",
    "    res = []\n",
    "    for rev in range(len(freq_table)-1,-1,-1):\n",
    "        for num in freq_table[rev]:\n",
    "            res.append(num)\n",
    "            if len(res)==k:\n",
    "                return res"
   ]
  },
  {
   "cell_type": "code",
   "execution_count": 2,
   "metadata": {},
   "outputs": [
    {
     "name": "stdout",
     "output_type": "stream",
     "text": [
      "[[], [3], [2], [1], [], [], []]\n"
     ]
    },
    {
     "data": {
      "text/plain": [
       "[1, 2]"
      ]
     },
     "execution_count": 2,
     "metadata": {},
     "output_type": "execute_result"
    }
   ],
   "source": [
    "k_frequent([1,1,1,2,2,3],2)"
   ]
  },
  {
   "cell_type": "code",
   "execution_count": 4,
   "metadata": {},
   "outputs": [
    {
     "name": "stdout",
     "output_type": "stream",
     "text": [
      "[[], [5, 6, 7], [4], [2, 3], [1], [], [], [], [], [], [], [], [], [], [], []]\n"
     ]
    },
    {
     "data": {
      "text/plain": [
       "[1, 2, 3, 4]"
      ]
     },
     "execution_count": 4,
     "metadata": {},
     "output_type": "execute_result"
    }
   ],
   "source": [
    "k_frequent([1,1,1,1,2,2,2,3,3,3,4,4,5,6,7,],k=4)"
   ]
  },
  {
   "cell_type": "code",
   "execution_count": null,
   "metadata": {},
   "outputs": [],
   "source": []
  }
 ],
 "metadata": {
  "kernelspec": {
   "display_name": "Python 3",
   "language": "python",
   "name": "python3"
  },
  "language_info": {
   "codemirror_mode": {
    "name": "ipython",
    "version": 3
   },
   "file_extension": ".py",
   "mimetype": "text/x-python",
   "name": "python",
   "nbconvert_exporter": "python",
   "pygments_lexer": "ipython3",
   "version": "3.9.7"
  }
 },
 "nbformat": 4,
 "nbformat_minor": 2
}
