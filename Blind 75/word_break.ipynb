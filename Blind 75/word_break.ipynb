{
 "cells": [
  {
   "cell_type": "markdown",
   "metadata": {},
   "source": [
    "## Word Break: Given a sentence and dictionary of word.\n",
    "## return True is sentence can be broken into words and all words lie in dictionary\n",
    "> e.g. 'leetcode' D = ['leet','code'] --> o/p = True\n",
    ">\n",
    "> e.g. 'leetcode' D = ['leet'] --> o/p = False\n",
    ">\n",
    "> e.g 'leetleet' D = ['leet','code'] --> o/p  =True"
   ]
  },
  {
   "cell_type": "code",
   "execution_count": 7,
   "metadata": {},
   "outputs": [],
   "source": [
    "def word_break(sentence, words):\n",
    "    dp = [False] * (len(sentence)+1)\n",
    "    print(len(sentence), len(dp))\n",
    "\n",
    "    # base case --> position after end of sentence\n",
    "    dp[len(sentence)] = True\n",
    "\n",
    "    # reverse look\n",
    "    for i in range(len(sentence)-1,-1,-1):\n",
    "        for w in words:\n",
    "\n",
    "            # check if enough words and match is there\n",
    "            if (i+len(w))<=len(sentence) and sentence[i:i+len(w)]==w:\n",
    "\n",
    "                # Due to base case it will be true if already found\n",
    "                dp[i] = dp[i+len(w)]\n",
    "            if dp[i]:\n",
    "                break\n",
    "\n",
    "    return dp[0]"
   ]
  },
  {
   "cell_type": "code",
   "execution_count": 8,
   "metadata": {},
   "outputs": [
    {
     "name": "stdout",
     "output_type": "stream",
     "text": [
      "8 9\n"
     ]
    },
    {
     "data": {
      "text/plain": [
       "True"
      ]
     },
     "execution_count": 8,
     "metadata": {},
     "output_type": "execute_result"
    }
   ],
   "source": [
    "word_break('leetcode',['leet','code'])"
   ]
  },
  {
   "cell_type": "code",
   "execution_count": 9,
   "metadata": {},
   "outputs": [
    {
     "name": "stdout",
     "output_type": "stream",
     "text": [
      "8 9\n"
     ]
    },
    {
     "data": {
      "text/plain": [
       "False"
      ]
     },
     "execution_count": 9,
     "metadata": {},
     "output_type": "execute_result"
    }
   ],
   "source": [
    "word_break('leetcode',['leet'])\n"
   ]
  },
  {
   "cell_type": "code",
   "execution_count": 10,
   "metadata": {},
   "outputs": [
    {
     "name": "stdout",
     "output_type": "stream",
     "text": [
      "12 13\n"
     ]
    },
    {
     "data": {
      "text/plain": [
       "True"
      ]
     },
     "execution_count": 10,
     "metadata": {},
     "output_type": "execute_result"
    }
   ],
   "source": [
    "word_break('leetleetleet',['leet','code'])\n"
   ]
  },
  {
   "cell_type": "code",
   "execution_count": null,
   "metadata": {},
   "outputs": [],
   "source": []
  }
 ],
 "metadata": {
  "kernelspec": {
   "display_name": "Python 3",
   "language": "python",
   "name": "python3"
  },
  "language_info": {
   "codemirror_mode": {
    "name": "ipython",
    "version": 3
   },
   "file_extension": ".py",
   "mimetype": "text/x-python",
   "name": "python",
   "nbconvert_exporter": "python",
   "pygments_lexer": "ipython3",
   "version": "3.9.7"
  }
 },
 "nbformat": 4,
 "nbformat_minor": 2
}
