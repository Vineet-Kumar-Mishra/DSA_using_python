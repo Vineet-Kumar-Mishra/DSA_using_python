{
 "cells": [
  {
   "cell_type": "markdown",
   "metadata": {},
   "source": [
    "## Longest non repeting substring\n",
    "## given length of max\n",
    "e.g. `str = 'abcabcbb'` `op = 3`"
   ]
  },
  {
   "cell_type": "code",
   "execution_count": null,
   "metadata": {},
   "outputs": [],
   "source": [
    "def longest_non_rep(string):\n",
    "    hash_set = set()\n",
    "\n",
    "    left = 0\n",
    "    r = 0\n",
    "    max_len = 0\n",
    "    while r<len(string):\n",
    "        while string[r] in hash_set:\n",
    "            hash_set.remove(string[left])\n",
    "            left+=1\n",
    "            \n",
    "\n",
    "        hash_set.add(string[r])\n",
    "        max_len = max(max_len, (r-left+1))\n",
    "        r+=1\n",
    "    return max_len"
   ]
  },
  {
   "cell_type": "code",
   "execution_count": 25,
   "metadata": {},
   "outputs": [
    {
     "data": {
      "text/plain": [
       "5"
      ]
     },
     "execution_count": 25,
     "metadata": {},
     "output_type": "execute_result"
    }
   ],
   "source": [
    "longest_non_rep('abcabcbbdegf')"
   ]
  },
  {
   "cell_type": "code",
   "execution_count": null,
   "metadata": {},
   "outputs": [],
   "source": []
  }
 ],
 "metadata": {
  "kernelspec": {
   "display_name": "Python 3",
   "language": "python",
   "name": "python3"
  },
  "language_info": {
   "codemirror_mode": {
    "name": "ipython",
    "version": 3
   },
   "file_extension": ".py",
   "mimetype": "text/x-python",
   "name": "python",
   "nbconvert_exporter": "python",
   "pygments_lexer": "ipython3",
   "version": "3.9.7"
  }
 },
 "nbformat": 4,
 "nbformat_minor": 2
}
