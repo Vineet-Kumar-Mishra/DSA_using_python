{
 "cells": [
  {
   "cell_type": "markdown",
   "metadata": {},
   "source": [
    "## Non Overlapping Intervals: Return min number of intervals to be removed to get non overlapping array\n",
    "\n",
    "> e.g. interval = [[1,2],[2,3],[3,4],[1,3]]  op = 1"
   ]
  },
  {
   "cell_type": "code",
   "execution_count": 3,
   "metadata": {},
   "outputs": [],
   "source": [
    "def remove_overlap_count(interval):\n",
    "    res = 0\n",
    "    interval.sort(key = lambda x:x[0])\n",
    "    # instead of whole interval we only need to maintain the end point to check\n",
    "\n",
    "    prev_interval = interval[0][1]\n",
    "\n",
    "    for st,en in interval[1:]:\n",
    "\n",
    "        # condition when no overlap\n",
    "        if prev_interval<=st:\n",
    "            prev_interval = en\n",
    "        else:\n",
    "            res+=1\n",
    "            prev_interval = min(prev_interval, en)\n",
    "\n",
    "    return res"
   ]
  },
  {
   "cell_type": "code",
   "execution_count": 4,
   "metadata": {},
   "outputs": [
    {
     "data": {
      "text/plain": [
       "1"
      ]
     },
     "execution_count": 4,
     "metadata": {},
     "output_type": "execute_result"
    }
   ],
   "source": [
    "remove_overlap_count([[1,2],[2,3],[3,4],[1,3]])"
   ]
  },
  {
   "cell_type": "code",
   "execution_count": 3,
   "metadata": {},
   "outputs": [],
   "source": [
    "def non_over(interval):\n",
    "    interval.sort(key=lambda x:x[0])\n",
    "    res=0\n",
    "    prev = interval[0][1]\n",
    "    for intv in interval[1:]:\n",
    "        st, en = intv\n",
    "\n",
    "        # condition of correctness\n",
    "        if prev<=st:\n",
    "            prev = en\n",
    "        else:\n",
    "            res+=1\n",
    "            prev = min(prev,en)\n",
    "\n",
    "    return res\n"
   ]
  },
  {
   "cell_type": "code",
   "execution_count": 4,
   "metadata": {},
   "outputs": [
    {
     "data": {
      "text/plain": [
       "1"
      ]
     },
     "execution_count": 4,
     "metadata": {},
     "output_type": "execute_result"
    }
   ],
   "source": [
    "non_over([[1,2],[2,3],[3,4],[1,3]])"
   ]
  },
  {
   "cell_type": "code",
   "execution_count": null,
   "metadata": {},
   "outputs": [],
   "source": []
  }
 ],
 "metadata": {
  "kernelspec": {
   "display_name": "Python 3",
   "language": "python",
   "name": "python3"
  },
  "language_info": {
   "codemirror_mode": {
    "name": "ipython",
    "version": 3
   },
   "file_extension": ".py",
   "mimetype": "text/x-python",
   "name": "python",
   "nbconvert_exporter": "python",
   "pygments_lexer": "ipython3",
   "version": "3.9.7"
  }
 },
 "nbformat": 4,
 "nbformat_minor": 2
}
