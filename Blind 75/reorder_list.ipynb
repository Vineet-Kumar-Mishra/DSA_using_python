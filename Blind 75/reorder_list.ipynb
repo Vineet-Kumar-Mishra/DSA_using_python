{
 "cells": [
  {
   "cell_type": "markdown",
   "metadata": {},
   "source": [
    "## Reorder List:\n",
    "> e.g. `1->2->3->4->5->None`\n",
    ">\n",
    "> op = `1->5->2->4->3->None`"
   ]
  },
  {
   "cell_type": "code",
   "execution_count": 2,
   "metadata": {},
   "outputs": [],
   "source": [
    "class Node:\n",
    "    def __init__(self, val = 0, next = None):\n",
    "        self.val = val\n",
    "        self.next = next\n",
    "        \n",
    "class linked_list:\n",
    "    def __init__(self, head = None):\n",
    "        self.head = head\n",
    "\n",
    "    def insert_item(self, item):\n",
    "        if not self.head:\n",
    "            self.head = Node(item)\n",
    "        else:\n",
    "            ptr = self.head\n",
    "            while ptr.next:\n",
    "                ptr = ptr.next\n",
    "            ptr.next = Node(item)\n",
    "    def insert_items(self, list_items):\n",
    "        for item in list_items:\n",
    "            self.insert_item(item)\n",
    "\n",
    "\n",
    "def print_linked_list(head):\n",
    "    current = head\n",
    "    while current:\n",
    "        print(current.val, end=\" -> \")\n",
    "        current = current.next\n",
    "    print(\"None\")\n"
   ]
  },
  {
   "cell_type": "code",
   "execution_count": null,
   "metadata": {},
   "outputs": [],
   "source": []
  },
  {
   "cell_type": "code",
   "execution_count": 19,
   "metadata": {},
   "outputs": [
    {
     "name": "stdout",
     "output_type": "stream",
     "text": [
      "1 -> None\n"
     ]
    }
   ],
   "source": [
    "print_linked_list(ll.head)"
   ]
  },
  {
   "cell_type": "code",
   "execution_count": 34,
   "metadata": {},
   "outputs": [],
   "source": [
    "def reorder_list(ll):\n",
    "\n",
    "    # ll = 1->2->3->4->5->None\n",
    "    slow = ll.head\n",
    "    fast = ll.head.next\n",
    "\n",
    "    # move to point slow towards centre of list\n",
    "    while fast and fast.next:\n",
    "        slow = slow.next\n",
    "        fast = fast.next.next\n",
    "\n",
    "    # slow = 3->4->5-> None\n",
    "    # fast = None\n",
    "\n",
    "    second_list = slow.next\n",
    "\n",
    "    \n",
    "    slow.next = None # Full list stopped till mid\n",
    "    first_list = ll.head # this is full but we'll go till second\n",
    "\n",
    "    # first_list = 1->2->3->None\n",
    "\n",
    "    print('1st list')\n",
    "    print_linked_list(first_list)\n",
    "    print('2nd list')\n",
    "    print_linked_list(second_list)\n",
    "\n",
    "    # reverse 2.d list\n",
    "    prev = None\n",
    "\n",
    "    while second_list:\n",
    "        tmp = second_list.next\n",
    "        second_list.next = prev\n",
    "        prev = second_list\n",
    "        second_list = tmp\n",
    "\n",
    "    second_list = prev\n",
    "\n",
    "    print('2nd list')\n",
    "    print_linked_list(prev)\n",
    "\n",
    "\n",
    "    while first_list and second_list:\n",
    "        tmp1 = first_list.next\n",
    "        tmp2 = second_list.next\n",
    "\n",
    "        first_list.next = second_list\n",
    "        second_list.next = tmp1\n",
    "        first_list = tmp1\n",
    "        second_list = tmp2\n",
    "\n",
    "\n",
    "    print_linked_list(ll.head)\n",
    "\n"
   ]
  },
  {
   "cell_type": "code",
   "execution_count": 35,
   "metadata": {},
   "outputs": [
    {
     "name": "stdout",
     "output_type": "stream",
     "text": [
      "1st list\n",
      "1 -> 2 -> 3 -> None\n",
      "2nd list\n",
      "4 -> 5 -> None\n",
      "2nd list\n",
      "5 -> 4 -> None\n",
      "1 -> 5 -> 2 -> 4 -> 3 -> None\n"
     ]
    }
   ],
   "source": [
    "ll = linked_list()\n",
    "ll.insert_items([1,2,3,4,5])\n",
    "\n",
    "reorder_list(ll)"
   ]
  },
  {
   "cell_type": "code",
   "execution_count": null,
   "metadata": {},
   "outputs": [],
   "source": []
  }
 ],
 "metadata": {
  "kernelspec": {
   "display_name": "Python 3",
   "language": "python",
   "name": "python3"
  },
  "language_info": {
   "codemirror_mode": {
    "name": "ipython",
    "version": 3
   },
   "file_extension": ".py",
   "mimetype": "text/x-python",
   "name": "python",
   "nbconvert_exporter": "python",
   "pygments_lexer": "ipython3",
   "version": "3.9.7"
  }
 },
 "nbformat": 4,
 "nbformat_minor": 2
}
