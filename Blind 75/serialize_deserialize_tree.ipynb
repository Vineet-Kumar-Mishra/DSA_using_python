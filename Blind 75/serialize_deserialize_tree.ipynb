{
 "cells": [
  {
   "cell_type": "markdown",
   "metadata": {},
   "source": [
    "## Serialize and deserialize a BST\n",
    "## Tree --> Serilize --> deserilize --> Tree"
   ]
  },
  {
   "cell_type": "code",
   "execution_count": 24,
   "metadata": {},
   "outputs": [],
   "source": [
    "\n",
    "class TreeNode:\n",
    "    def __init__(self, val=0, left=None, right=None):\n",
    "        self.val = val\n",
    "        self.left = left\n",
    "        self.right = right\n",
    "\n",
    "def build_tree():\n",
    "    # Creating nodes\n",
    "    root = TreeNode(1)\n",
    "    root.left = TreeNode(2)\n",
    "    root.right = TreeNode(3)\n",
    "    root.left.left = TreeNode(4)\n",
    "    root.left.right = TreeNode(5)\n",
    "    root.right.left = TreeNode(6)\n",
    "    root.right.right = TreeNode(7)\n",
    "\n",
    "    return root  # Returning the root of the tree\n",
    "\n",
    "def print_tree(root, level=0, prefix=\"Root: \"):\n",
    "    if root:\n",
    "        print(\" \" * (level * 4) + prefix + str(root.val))\n",
    "        print_tree(root.left, level + 1, \"L--- \")\n",
    "        print_tree(root.right, level + 1, \"R--- \")\n"
   ]
  },
  {
   "cell_type": "code",
   "execution_count": 25,
   "metadata": {},
   "outputs": [
    {
     "name": "stdout",
     "output_type": "stream",
     "text": [
      "Root: 1\n",
      "    L--- 2\n",
      "        L--- 4\n",
      "        R--- 5\n",
      "    R--- 3\n",
      "        L--- 6\n",
      "        R--- 7\n"
     ]
    }
   ],
   "source": [
    "tree = build_tree()\n",
    "print_tree(tree)"
   ]
  },
  {
   "cell_type": "code",
   "execution_count": 26,
   "metadata": {},
   "outputs": [],
   "source": [
    "def serialize(tree):\n",
    "    serial = []\n",
    "\n",
    "    def dfs(root):\n",
    "        ## Appends N for None Nodes \n",
    "        # will help us understand well in de serialization\n",
    "        if not root:\n",
    "            serial.append('N')\n",
    "            return\n",
    "\n",
    "        serial.append(str(root.val))\n",
    "\n",
    "        dfs(root.left)\n",
    "        dfs(root.right)\n",
    "\n",
    "    dfs(tree)\n",
    "    serial = \",\".join(serial)\n",
    "    return serial\n",
    "        \n",
    "\n",
    "\n"
   ]
  },
  {
   "cell_type": "code",
   "execution_count": 27,
   "metadata": {},
   "outputs": [
    {
     "data": {
      "text/plain": [
       "'1,2,4,N,N,5,N,N,3,6,N,N,7,N,N'"
      ]
     },
     "execution_count": 27,
     "metadata": {},
     "output_type": "execute_result"
    }
   ],
   "source": [
    "txt_serial = serialize(tree)\n",
    "txt_serial"
   ]
  },
  {
   "cell_type": "code",
   "execution_count": 28,
   "metadata": {},
   "outputs": [],
   "source": [
    "def deserialize(serial_text):\n",
    "    serial_text = serial_text.split(',')\n",
    "    i = 0\n",
    "\n",
    "    def dfs():\n",
    "        nonlocal i\n",
    "        if serial_text[i]=='N':\n",
    "            i+=1\n",
    "            return None\n",
    "        \n",
    "        # if not N then build a node\n",
    "        node = TreeNode(int(serial_text[i]))\n",
    "        # increment i to move forward in list\n",
    "        i+=1\n",
    "\n",
    "        # assign values to left and right children\n",
    "        node.left = dfs()\n",
    "        node.right = dfs()\n",
    "        return node\n",
    "    return dfs()\n",
    "\n",
    "    "
   ]
  },
  {
   "cell_type": "code",
   "execution_count": 29,
   "metadata": {},
   "outputs": [],
   "source": [
    "des_tree = deserialize(txt_serial)"
   ]
  },
  {
   "cell_type": "code",
   "execution_count": 30,
   "metadata": {},
   "outputs": [
    {
     "name": "stdout",
     "output_type": "stream",
     "text": [
      "Root: 1\n",
      "    L--- 2\n",
      "        L--- 4\n",
      "        R--- 5\n",
      "    R--- 3\n",
      "        L--- 6\n",
      "        R--- 7\n"
     ]
    }
   ],
   "source": [
    "print_tree(des_tree)"
   ]
  },
  {
   "cell_type": "code",
   "execution_count": null,
   "metadata": {},
   "outputs": [],
   "source": []
  }
 ],
 "metadata": {
  "kernelspec": {
   "display_name": "Python 3",
   "language": "python",
   "name": "python3"
  },
  "language_info": {
   "codemirror_mode": {
    "name": "ipython",
    "version": 3
   },
   "file_extension": ".py",
   "mimetype": "text/x-python",
   "name": "python",
   "nbconvert_exporter": "python",
   "pygments_lexer": "ipython3",
   "version": "3.9.7"
  }
 },
 "nbformat": 4,
 "nbformat_minor": 2
}
