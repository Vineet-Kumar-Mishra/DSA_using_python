{
 "cells": [
  {
   "cell_type": "markdown",
   "metadata": {},
   "source": [
    "The Maximum Subarray Problem is a classic problem where you are tasked with finding the contiguous subarray (containing at least one number) which has the largest sum and returning the sum of that subarray. This problem is commonly solved using Kadane's Algorithm, which works in \n",
    "𝑂\n",
    "(\n",
    "𝑛\n",
    ")\n",
    "O(n) time complexity."
   ]
  },
  {
   "cell_type": "code",
   "execution_count": 1,
   "metadata": {},
   "outputs": [],
   "source": [
    "def max_subarray(nums):\n",
    "    if len(nums)==0:\n",
    "        return\n",
    "    \n",
    "    # start with 1st element as running sum\n",
    "    current_sum = nums[0]\n",
    "    # this will also be maxsum for now\n",
    "    max_sum = nums[0]\n",
    "    for i in range(1, len(nums)):\n",
    "        element = nums[i]\n",
    "\n",
    "        # possibilty is that adding this term will make sum -ve so we can not choose it\n",
    "        # and instead start current sum from same element\n",
    "        current_sum = max(current_sum+element, element)\n",
    "        \n",
    "        # update max sum from running sum\n",
    "        max_sum = max(current_sum, max_sum)\n",
    "    \n",
    "    return max_sum"
   ]
  },
  {
   "cell_type": "code",
   "execution_count": 6,
   "metadata": {},
   "outputs": [],
   "source": [
    "nums = [-2, 1, -3, 4, -1, 2, 1, 6,-5, 4]\n"
   ]
  },
  {
   "cell_type": "code",
   "execution_count": 7,
   "metadata": {},
   "outputs": [
    {
     "data": {
      "text/plain": [
       "12"
      ]
     },
     "execution_count": 7,
     "metadata": {},
     "output_type": "execute_result"
    }
   ],
   "source": [
    "max_subarray(nums)"
   ]
  },
  {
   "cell_type": "code",
   "execution_count": null,
   "metadata": {},
   "outputs": [],
   "source": []
  }
 ],
 "metadata": {
  "kernelspec": {
   "display_name": "Python 3",
   "language": "python",
   "name": "python3"
  },
  "language_info": {
   "codemirror_mode": {
    "name": "ipython",
    "version": 3
   },
   "file_extension": ".py",
   "mimetype": "text/x-python",
   "name": "python",
   "nbconvert_exporter": "python",
   "pygments_lexer": "ipython3",
   "version": "3.9.7"
  }
 },
 "nbformat": 4,
 "nbformat_minor": 2
}
