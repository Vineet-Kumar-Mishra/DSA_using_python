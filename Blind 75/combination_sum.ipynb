{
 "cells": [
  {
   "cell_type": "markdown",
   "metadata": {},
   "source": [
    "## Combination Sum: Given an array of distinct integers and target T. Find all possible unique combinations of elemnts to form sum = Target\n",
    "> e.g. array = [2,3,6,7]  Target = 7 --> o/p = [[2,2,3], [7]]"
   ]
  },
  {
   "cell_type": "code",
   "execution_count": 1,
   "metadata": {},
   "outputs": [],
   "source": [
    "def combination_sum(arr, target):\n",
    "\n",
    "\n",
    "    res = []\n",
    "    \n",
    "    # we start with an index from 0 and either take it or skip it\n",
    "    # current_holding_elements decide wether to take the element or not\n",
    "    # total_sum_collected shows how much sum these element make\n",
    "    def dfs(index_current, current_holding_elements, total_sum_collected):\n",
    "        if total_sum_collected==target:\n",
    "            res.append(current_holding_elements.copy())\n",
    "            return\n",
    "        if index_current>=len(arr) or total_sum_collected>target:\n",
    "            return\n",
    "\n",
    "        # we take the element at ith position and also include ith position to begin with. Teh collected sum will be total of items in current_holding_elements\n",
    "        current_holding_elements.append(arr[index_current])\n",
    "        dfs(index_current, current_holding_elements, total_sum_collected+arr[index_current])\n",
    "\n",
    "        # if we skip the element we need to proceede from next index and since we don't include the element the total_collected-sum remains the same\n",
    "        current_holding_elements.pop()\n",
    "        dfs(index_current+1, current_holding_elements, total_sum_collected)\n",
    "\n",
    "    dfs(0,[],0)\n",
    "\n",
    "    return res\n",
    "\n"
   ]
  },
  {
   "cell_type": "code",
   "execution_count": 2,
   "metadata": {},
   "outputs": [
    {
     "data": {
      "text/plain": [
       "[[2, 2, 2, 2, 2, 2],\n",
       " [2, 2, 2, 3, 3],\n",
       " [2, 2, 2, 6],\n",
       " [2, 3, 7],\n",
       " [3, 3, 3, 3],\n",
       " [3, 3, 6],\n",
       " [6, 6]]"
      ]
     },
     "execution_count": 2,
     "metadata": {},
     "output_type": "execute_result"
    }
   ],
   "source": [
    "combination_sum([2,3,6,7], 12)"
   ]
  },
  {
   "cell_type": "code",
   "execution_count": 7,
   "metadata": {},
   "outputs": [],
   "source": [
    "def combi_sum(A, n):\n",
    "    res = []\n",
    "\n",
    "    def dfs(index, current_elements, current_sum):\n",
    "        if current_sum==n:\n",
    "            res.append(current_elements.copy())\n",
    "            return\n",
    "        if current_sum>n or index>=len(A):\n",
    "            return\n",
    "        \n",
    "        current_elements.append(A[index])\n",
    "        \n",
    "        dfs(index,current_elements, current_sum+A[index])\n",
    "        current_elements.pop()\n",
    "        dfs(index+1, current_elements, current_sum)\n",
    "\n",
    "    dfs(0,[],0)\n",
    "    return res"
   ]
  },
  {
   "cell_type": "code",
   "execution_count": 8,
   "metadata": {},
   "outputs": [
    {
     "data": {
      "text/plain": [
       "[[2, 2, 2, 2, 2, 2],\n",
       " [2, 2, 2, 3, 3],\n",
       " [2, 2, 2, 6],\n",
       " [2, 3, 7],\n",
       " [3, 3, 3, 3],\n",
       " [3, 3, 6],\n",
       " [6, 6]]"
      ]
     },
     "execution_count": 8,
     "metadata": {},
     "output_type": "execute_result"
    }
   ],
   "source": [
    "combi_sum([2,3,6,7], 12)"
   ]
  },
  {
   "cell_type": "code",
   "execution_count": null,
   "metadata": {},
   "outputs": [],
   "source": []
  }
 ],
 "metadata": {
  "kernelspec": {
   "display_name": "Python 3",
   "language": "python",
   "name": "python3"
  },
  "language_info": {
   "codemirror_mode": {
    "name": "ipython",
    "version": 3
   },
   "file_extension": ".py",
   "mimetype": "text/x-python",
   "name": "python",
   "nbconvert_exporter": "python",
   "pygments_lexer": "ipython3",
   "version": "3.9.7"
  }
 },
 "nbformat": 4,
 "nbformat_minor": 2
}
