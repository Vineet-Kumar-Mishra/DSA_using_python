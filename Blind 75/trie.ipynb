{
 "cells": [
  {
   "cell_type": "markdown",
   "metadata": {},
   "source": [
    "## Trie - Prefix tree\n",
    "## has insert, search, startswith funtion\n",
    "## search will work if last word has ending"
   ]
  },
  {
   "cell_type": "code",
   "execution_count": 37,
   "metadata": {},
   "outputs": [],
   "source": [
    "class TrieNode:\n",
    "    def __init__(self):\n",
    "        self.children = {}\n",
    "        self.wordEnd = False\n",
    "\n",
    "class Trie:\n",
    "    def __init__(self):\n",
    "        self.root = TrieNode()\n",
    "\n",
    "    def insert(self, word):\n",
    "        current_node = self.root\n",
    "        \n",
    "        for wrd in word:\n",
    "            if wrd not in current_node.children:\n",
    "                current_node.children[wrd] = TrieNode()\n",
    "            current_node = current_node.children[wrd]\n",
    "        current_node.wordEnd = True\n",
    "\n",
    "    def search(self, word):\n",
    "        current_node = self.root\n",
    "\n",
    "        for wrd in word:\n",
    "            if wrd not in current_node.children:\n",
    "                return False\n",
    "            current_node = current_node.children[wrd]\n",
    "        \n",
    "        return current_node.wordEnd\n",
    "\n",
    "    def startswith(self,word):\n",
    "        current_node = self.root\n",
    "        for wrd in word:\n",
    "            if wrd not in current_node.children:\n",
    "                return False\n",
    "            current_node = current_node.children[wrd]\n",
    "        return True\n",
    "    \n",
    "    def print_trie(self):\n",
    "        def dfs(node, prefix, depth):\n",
    "            indent = \"  \" * depth  # Create indentation based on depth\n",
    "            if node.wordEnd:\n",
    "                print(f\"{indent}({prefix})\")  # Mark complete words with ()\n",
    "            for char in sorted(node.children.keys()):  # Ensure lexicographic order\n",
    "                print(f\"{indent}└── {char}\")  # Print branches\n",
    "                dfs(node.children[char], prefix + char, depth + 1)\n",
    "\n",
    "        print(\"Root\")\n",
    "        dfs(self.root, \"\", 1)  # Start DFS from the root"
   ]
  },
  {
   "cell_type": "code",
   "execution_count": 38,
   "metadata": {},
   "outputs": [],
   "source": [
    "trie = Trie()"
   ]
  },
  {
   "cell_type": "code",
   "execution_count": 39,
   "metadata": {},
   "outputs": [],
   "source": [
    "trie.insert('apple')"
   ]
  },
  {
   "cell_type": "code",
   "execution_count": 40,
   "metadata": {},
   "outputs": [],
   "source": [
    "trie.insert('ape')"
   ]
  },
  {
   "cell_type": "code",
   "execution_count": 41,
   "metadata": {},
   "outputs": [
    {
     "data": {
      "text/plain": [
       "True"
      ]
     },
     "execution_count": 41,
     "metadata": {},
     "output_type": "execute_result"
    }
   ],
   "source": [
    "trie.search('apple')"
   ]
  },
  {
   "cell_type": "code",
   "execution_count": 42,
   "metadata": {},
   "outputs": [
    {
     "data": {
      "text/plain": [
       "False"
      ]
     },
     "execution_count": 42,
     "metadata": {},
     "output_type": "execute_result"
    }
   ],
   "source": [
    "trie.search('app')"
   ]
  },
  {
   "cell_type": "code",
   "execution_count": 43,
   "metadata": {},
   "outputs": [
    {
     "data": {
      "text/plain": [
       "True"
      ]
     },
     "execution_count": 43,
     "metadata": {},
     "output_type": "execute_result"
    }
   ],
   "source": [
    "trie.startswith('ap')"
   ]
  },
  {
   "cell_type": "code",
   "execution_count": 44,
   "metadata": {},
   "outputs": [
    {
     "name": "stdout",
     "output_type": "stream",
     "text": [
      "Root\n",
      "  └── a\n",
      "    └── p\n",
      "      └── e\n",
      "        (ape)\n",
      "      └── p\n",
      "        └── l\n",
      "          └── e\n",
      "            (apple)\n"
     ]
    }
   ],
   "source": [
    "trie.print_trie()"
   ]
  },
  {
   "cell_type": "code",
   "execution_count": null,
   "metadata": {},
   "outputs": [],
   "source": []
  }
 ],
 "metadata": {
  "kernelspec": {
   "display_name": "Python 3",
   "language": "python",
   "name": "python3"
  },
  "language_info": {
   "codemirror_mode": {
    "name": "ipython",
    "version": 3
   },
   "file_extension": ".py",
   "mimetype": "text/x-python",
   "name": "python",
   "nbconvert_exporter": "python",
   "pygments_lexer": "ipython3",
   "version": "3.9.7"
  }
 },
 "nbformat": 4,
 "nbformat_minor": 2
}
