{
 "cells": [
  {
   "cell_type": "markdown",
   "metadata": {},
   "source": [
    "## Trie - Prefix tree\n",
    "## has insert, search, startswith funtion\n",
    "## search will work if last word has ending"
   ]
  },
  {
   "cell_type": "code",
   "execution_count": 1,
   "metadata": {},
   "outputs": [],
   "source": [
    "class TrieNode:\n",
    "    def __init__(self):\n",
    "        self.children = {}\n",
    "        self.wordEnd = False\n",
    "\n",
    "class Trie:\n",
    "    def __init__(self):\n",
    "        self.root = TrieNode()\n",
    "\n",
    "    def insert(self, word):\n",
    "        current_node = self.root\n",
    "        \n",
    "        for wrd in word:\n",
    "            if wrd not in current_node.children:\n",
    "                current_node.children[wrd] = TrieNode()\n",
    "            current_node = current_node.children[wrd]\n",
    "        current_node.wordEnd = True\n",
    "\n",
    "    def search(self, word):\n",
    "        current_node = self.root\n",
    "\n",
    "        for wrd in word:\n",
    "            if wrd not in current_node.children:\n",
    "                return False\n",
    "            current_node = current_node.children[wrd]\n",
    "        \n",
    "        return current_node.wordEnd\n",
    "\n",
    "    def startswith(self,word):\n",
    "        current_node = self.root\n",
    "        for wrd in word:\n",
    "            if wrd not in current_node.children:\n",
    "                return False\n",
    "            current_node = current_node.children[wrd]\n",
    "        return True\n",
    "    \n",
    "    def print_trie(self):\n",
    "        def dfs(node, prefix, depth):\n",
    "            indent = \"  \" * depth  # Create indentation based on depth\n",
    "            if node.wordEnd:\n",
    "                print(f\"{indent}({prefix})\")  # Mark complete words with ()\n",
    "            for char in sorted(node.children.keys()):  # Ensure lexicographic order\n",
    "                print(f\"{indent}└── {char}\")  # Print branches\n",
    "                dfs(node.children[char], prefix + char, depth + 1)\n",
    "\n",
    "        print(\"Root\")\n",
    "        dfs(self.root, \"\", 1)  # Start DFS from the root"
   ]
  },
  {
   "cell_type": "code",
   "execution_count": 2,
   "metadata": {},
   "outputs": [],
   "source": [
    "trie = Trie()"
   ]
  },
  {
   "cell_type": "code",
   "execution_count": 3,
   "metadata": {},
   "outputs": [],
   "source": [
    "trie.insert('apple')"
   ]
  },
  {
   "cell_type": "code",
   "execution_count": 4,
   "metadata": {},
   "outputs": [],
   "source": [
    "trie.insert('ape')"
   ]
  },
  {
   "cell_type": "code",
   "execution_count": 5,
   "metadata": {},
   "outputs": [
    {
     "data": {
      "text/plain": [
       "True"
      ]
     },
     "execution_count": 5,
     "metadata": {},
     "output_type": "execute_result"
    }
   ],
   "source": [
    "trie.search('apple')"
   ]
  },
  {
   "cell_type": "code",
   "execution_count": 6,
   "metadata": {},
   "outputs": [
    {
     "data": {
      "text/plain": [
       "False"
      ]
     },
     "execution_count": 6,
     "metadata": {},
     "output_type": "execute_result"
    }
   ],
   "source": [
    "trie.search('app')"
   ]
  },
  {
   "cell_type": "code",
   "execution_count": 7,
   "metadata": {},
   "outputs": [
    {
     "data": {
      "text/plain": [
       "True"
      ]
     },
     "execution_count": 7,
     "metadata": {},
     "output_type": "execute_result"
    }
   ],
   "source": [
    "trie.startswith('ap')"
   ]
  },
  {
   "cell_type": "code",
   "execution_count": 8,
   "metadata": {},
   "outputs": [
    {
     "name": "stdout",
     "output_type": "stream",
     "text": [
      "Root\n",
      "  └── a\n",
      "    └── p\n",
      "      └── e\n",
      "        (ape)\n",
      "      └── p\n",
      "        └── l\n",
      "          └── e\n",
      "            (apple)\n"
     ]
    }
   ],
   "source": [
    "trie.print_trie()"
   ]
  },
  {
   "cell_type": "code",
   "execution_count": 20,
   "metadata": {},
   "outputs": [],
   "source": [
    "class TrieNode:\n",
    "    def __init__(self):\n",
    "        self.children = {}\n",
    "        self.wrdend = False\n",
    "\n",
    "class Trie:\n",
    "    def __init__(self):\n",
    "        self.root = TrieNode()\n",
    "\n",
    "    def insert(self, word):\n",
    "        curr_node = self.root\n",
    "        for wrd in word:\n",
    "            if wrd not in curr_node.children:\n",
    "                curr_node.children[wrd] = TrieNode()\n",
    "            curr_node = curr_node.children[wrd]\n",
    "        curr_node.wrdend = True\n",
    "    \n",
    "    def search(self, word):\n",
    "        curr_node = self.root\n",
    "\n",
    "        for wrd in word:\n",
    "            if wrd not in curr_node.children:\n",
    "                return False\n",
    "            curr_node = curr_node.children[wrd]\n",
    "        return curr_node.wrdend\n",
    "    \n",
    "    def starts_with(self, word):\n",
    "        curr_node = self.root\n",
    "        for wrd in word:\n",
    "            if wrd not in curr_node.children:\n",
    "                return False\n",
    "            curr_node = curr_node.children[wrd]\n",
    "        return True\n"
   ]
  },
  {
   "cell_type": "code",
   "execution_count": 21,
   "metadata": {},
   "outputs": [],
   "source": [
    "tr = Trie()"
   ]
  },
  {
   "cell_type": "code",
   "execution_count": 22,
   "metadata": {},
   "outputs": [],
   "source": [
    "tr.insert('ape')\n",
    "tr.insert('apple')"
   ]
  },
  {
   "cell_type": "code",
   "execution_count": 23,
   "metadata": {},
   "outputs": [
    {
     "data": {
      "text/plain": [
       "True"
      ]
     },
     "execution_count": 23,
     "metadata": {},
     "output_type": "execute_result"
    }
   ],
   "source": [
    "tr.search('apple')"
   ]
  },
  {
   "cell_type": "code",
   "execution_count": 24,
   "metadata": {},
   "outputs": [
    {
     "data": {
      "text/plain": [
       "False"
      ]
     },
     "execution_count": 24,
     "metadata": {},
     "output_type": "execute_result"
    }
   ],
   "source": [
    "tr.search('pps')"
   ]
  },
  {
   "cell_type": "code",
   "execution_count": 25,
   "metadata": {},
   "outputs": [
    {
     "data": {
      "text/plain": [
       "True"
      ]
     },
     "execution_count": 25,
     "metadata": {},
     "output_type": "execute_result"
    }
   ],
   "source": [
    "tr.starts_with('ap')"
   ]
  },
  {
   "cell_type": "code",
   "execution_count": 26,
   "metadata": {},
   "outputs": [
    {
     "data": {
      "text/plain": [
       "False"
      ]
     },
     "execution_count": 26,
     "metadata": {},
     "output_type": "execute_result"
    }
   ],
   "source": [
    "tr.starts_with('aps')\n"
   ]
  },
  {
   "cell_type": "code",
   "execution_count": null,
   "metadata": {},
   "outputs": [],
   "source": []
  }
 ],
 "metadata": {
  "kernelspec": {
   "display_name": "Python 3",
   "language": "python",
   "name": "python3"
  },
  "language_info": {
   "codemirror_mode": {
    "name": "ipython",
    "version": 3
   },
   "file_extension": ".py",
   "mimetype": "text/x-python",
   "name": "python",
   "nbconvert_exporter": "python",
   "pygments_lexer": "ipython3",
   "version": "3.9.7"
  }
 },
 "nbformat": 4,
 "nbformat_minor": 2
}
