{
 "cells": [
  {
   "cell_type": "markdown",
   "metadata": {},
   "source": [
    "## Meeting Room 2: count number of meeting rooms required to attend all meetings\n",
    "> e.g.[[5,10],[0,30],[15,20]] op = 2\n",
    ">\n",
    ">   `0----------------------------------30`\n",
    ">\n",
    ">      `5------10`    `15--------20`\n",
    ">"
   ]
  },
  {
   "cell_type": "code",
   "execution_count": 17,
   "metadata": {},
   "outputs": [],
   "source": [
    "def num_rooms(interval):\n",
    "    start = sorted([i[0] for i in interval])\n",
    "    end = sorted([i[1] for i in interval])\n",
    "    print(start,'\\n',end)\n",
    "    res, count = 0,0\n",
    "    st_p, en_p = 0,0\n",
    "\n",
    "    while st_p<len(interval):\n",
    "        start_value = start[st_p]\n",
    "        end_value = end[en_p]\n",
    "        print(start_value, end_value, st_p, en_p)\n",
    "\n",
    "        if start_value<end_value:\n",
    "            count+=1\n",
    "            st_p+=1\n",
    "\n",
    "        else:\n",
    "            count-=1\n",
    "            en_p+=1\n",
    "        res = max(res, count)\n",
    "\n",
    "    return res\n"
   ]
  },
  {
   "cell_type": "code",
   "execution_count": 18,
   "metadata": {},
   "outputs": [
    {
     "name": "stdout",
     "output_type": "stream",
     "text": [
      "[0, 5, 15] \n",
      " [10, 20, 30]\n",
      "0 10 0 0\n",
      "5 10 1 0\n",
      "15 10 2 0\n",
      "15 20 2 1\n"
     ]
    },
    {
     "data": {
      "text/plain": [
       "2"
      ]
     },
     "execution_count": 18,
     "metadata": {},
     "output_type": "execute_result"
    }
   ],
   "source": [
    "num_rooms([[5,10],[0,30],[15,20]])"
   ]
  },
  {
   "cell_type": "code",
   "execution_count": null,
   "metadata": {},
   "outputs": [],
   "source": []
  }
 ],
 "metadata": {
  "kernelspec": {
   "display_name": "Python 3",
   "language": "python",
   "name": "python3"
  },
  "language_info": {
   "codemirror_mode": {
    "name": "ipython",
    "version": 3
   },
   "file_extension": ".py",
   "mimetype": "text/x-python",
   "name": "python",
   "nbconvert_exporter": "python",
   "pygments_lexer": "ipython3",
   "version": "3.9.7"
  }
 },
 "nbformat": 4,
 "nbformat_minor": 2
}
