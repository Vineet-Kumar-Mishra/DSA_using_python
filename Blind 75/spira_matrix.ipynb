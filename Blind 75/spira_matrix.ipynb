{
 "cells": [
  {
   "cell_type": "markdown",
   "metadata": {},
   "source": [
    "## Spiral matrix:\n",
    "> e.g. mat = [[1,2,3],[4,5,6],[7,8,9]] res = [1,2,3,6,9,8,7,4,5]"
   ]
  },
  {
   "cell_type": "code",
   "execution_count": 3,
   "metadata": {},
   "outputs": [],
   "source": [
    "def spiral_matrix(mat):\n",
    "    # 4 pointers\n",
    "    # top and left will be 0s\n",
    "    top = left = 0\n",
    "\n",
    "    # right and botton to be outof bound by 1 for easy code\n",
    "    right = len(mat)\n",
    "    bottom = len(mat[0])\n",
    "\n",
    "    res = []\n",
    "    while top<bottom and left<right:\n",
    "\n",
    "        # traversal from left to right \n",
    "        for i in range(left, right):\n",
    "            res.append(mat[top][i])\n",
    "        top +=1\n",
    "\n",
    "        # traversal top to bottom\n",
    "        for i in range(top, bottom):\n",
    "            res.append(mat[i][right-1])\n",
    "        right-=1\n",
    "\n",
    "        # traverse right to left (Reverse)\n",
    "        for i in range(right-1, left-1, -1):\n",
    "            res.append(mat[bottom-1][i])\n",
    "        bottom -=1\n",
    "\n",
    "        # traverse bottom to top\n",
    "        for i in range(bottom-1, top-1, -1):\n",
    "            res.append(mat[i][left])\n",
    "\n",
    "        left+=1\n",
    "    return res\n",
    "        \n"
   ]
  },
  {
   "cell_type": "code",
   "execution_count": 4,
   "metadata": {},
   "outputs": [
    {
     "data": {
      "text/plain": [
       "[1, 2, 3, 6, 9, 8, 7, 4, 5]"
      ]
     },
     "execution_count": 4,
     "metadata": {},
     "output_type": "execute_result"
    }
   ],
   "source": [
    "spiral_matrix([[1,2,3],[4,5,6],[7,8,9]])"
   ]
  },
  {
   "cell_type": "code",
   "execution_count": null,
   "metadata": {},
   "outputs": [],
   "source": []
  }
 ],
 "metadata": {
  "kernelspec": {
   "display_name": "Python 3",
   "language": "python",
   "name": "python3"
  },
  "language_info": {
   "codemirror_mode": {
    "name": "ipython",
    "version": 3
   },
   "file_extension": ".py",
   "mimetype": "text/x-python",
   "name": "python",
   "nbconvert_exporter": "python",
   "pygments_lexer": "ipython3",
   "version": "3.9.7"
  }
 },
 "nbformat": 4,
 "nbformat_minor": 2
}
