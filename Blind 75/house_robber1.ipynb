{
 "cells": [
  {
   "cell_type": "markdown",
   "metadata": {},
   "source": [
    "## House Robber 1: Houses are given with wealth. The robber can't rob consecutive houses. Find max he can rob\n",
    "> arr = [1,2,3,1] --> o/p = 4 --> (1+3)"
   ]
  },
  {
   "cell_type": "code",
   "execution_count": 13,
   "metadata": {},
   "outputs": [],
   "source": [
    "def house_robber1(arr):\n",
    "    rob1 = 0\n",
    "    rob2 = 0\n",
    "\n",
    "    # consider it to look like [rob1, rob2, arr[0], arr[1].....arr[n]]\n",
    "    for i in arr:\n",
    "        # if we want to rob i i.e arr[0] in 1st iteration, we need to add money from rob1 else we only can keep rob2\n",
    "        rob_ith = rob1+i\n",
    "\n",
    "        # if not rob the rob2 consider\n",
    "        not_rob_ith = rob2\n",
    "\n",
    "        max_rob_obtained = max(rob_ith, not_rob_ith)\n",
    "\n",
    "\n",
    "        rob1 = rob2\n",
    "        rob2 = max_rob_obtained\n",
    "\n",
    "    return rob2"
   ]
  },
  {
   "cell_type": "code",
   "execution_count": 14,
   "metadata": {},
   "outputs": [
    {
     "data": {
      "text/plain": [
       "4"
      ]
     },
     "execution_count": 14,
     "metadata": {},
     "output_type": "execute_result"
    }
   ],
   "source": [
    "house_robber1([1,2,3,1])"
   ]
  },
  {
   "cell_type": "code",
   "execution_count": 15,
   "metadata": {},
   "outputs": [
    {
     "data": {
      "text/plain": [
       "12"
      ]
     },
     "execution_count": 15,
     "metadata": {},
     "output_type": "execute_result"
    }
   ],
   "source": [
    "house_robber1([1,2,3,1,5,8])"
   ]
  },
  {
   "cell_type": "code",
   "execution_count": null,
   "metadata": {},
   "outputs": [],
   "source": []
  }
 ],
 "metadata": {
  "kernelspec": {
   "display_name": "Python 3",
   "language": "python",
   "name": "python3"
  },
  "language_info": {
   "codemirror_mode": {
    "name": "ipython",
    "version": 3
   },
   "file_extension": ".py",
   "mimetype": "text/x-python",
   "name": "python",
   "nbconvert_exporter": "python",
   "pygments_lexer": "ipython3",
   "version": "3.9.7"
  }
 },
 "nbformat": 4,
 "nbformat_minor": 2
}
