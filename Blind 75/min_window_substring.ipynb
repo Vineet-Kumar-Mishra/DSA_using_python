{
 "cells": [
  {
   "cell_type": "markdown",
   "metadata": {},
   "source": [
    "## Min window substring\n",
    "## Given string S and t. Finf the minimum sustring in s such that it has all characters of t\n",
    "e.g. `s = 'ABOBECODEBANC'` `t = 'ABC'` `op = 'BANC`"
   ]
  },
  {
   "cell_type": "code",
   "execution_count": 27,
   "metadata": {},
   "outputs": [],
   "source": [
    "def min_window(s,t):\n",
    "    if not len(t): return \"\"\n",
    "\n",
    "    windows = {}\n",
    "    t_char = {}\n",
    "    res_pointer = [-1,-1]\n",
    "    min_len = float('+inf')\n",
    "\n",
    "    left = 0\n",
    "\n",
    "    # fill up t_char\n",
    "    for i in t:\n",
    "        t_char[i] = 1 + t_char.get(i,0)\n",
    "\n",
    "    need = len(t_char)\n",
    "    have = 0\n",
    "\n",
    "    for right in range(len(s)):\n",
    "        # push the current right pointer element into windows\n",
    "        windows[s[right]] = 1+ windows.get(s[right],0)\n",
    "\n",
    "        # update the have based on condition\n",
    "        if s[right] in t_char and windows[s[right]]==t_char[s[right]]:\n",
    "            have+=1\n",
    "\n",
    "\n",
    "        # if a solution substring is found\n",
    "        # update the results\n",
    "        # move left pointer\n",
    "        while have==need:\n",
    "            wind_len = (right - left + 1)\n",
    "\n",
    "            if wind_len<min_len:\n",
    "                res_pointer = [left, right]\n",
    "                min_len = min(min_len, wind_len)\n",
    "\n",
    "            # move the left pointer\n",
    "            # check if the left pointer currently on characters in t\n",
    "            windows[s[left]] -=1\n",
    "\n",
    "            if s[left] in t_char and windows[s[left]]<t_char[s[left]]:\n",
    "                have-=1\n",
    "            left+=1\n",
    "    \n",
    "    return s[res_pointer[0]:res_pointer[1]+1] if min_len!=float('+inf') else \"\"\n"
   ]
  },
  {
   "cell_type": "code",
   "execution_count": 28,
   "metadata": {},
   "outputs": [
    {
     "data": {
      "text/plain": [
       "'BANC'"
      ]
     },
     "execution_count": 28,
     "metadata": {},
     "output_type": "execute_result"
    }
   ],
   "source": [
    "min_window('ADOBECODEBANC','ABC')"
   ]
  },
  {
   "cell_type": "code",
   "execution_count": null,
   "metadata": {},
   "outputs": [],
   "source": []
  },
  {
   "cell_type": "code",
   "execution_count": null,
   "metadata": {},
   "outputs": [],
   "source": []
  }
 ],
 "metadata": {
  "kernelspec": {
   "display_name": "Python 3",
   "language": "python",
   "name": "python3"
  },
  "language_info": {
   "codemirror_mode": {
    "name": "ipython",
    "version": 3
   },
   "file_extension": ".py",
   "mimetype": "text/x-python",
   "name": "python",
   "nbconvert_exporter": "python",
   "pygments_lexer": "ipython3",
   "version": "3.9.7"
  }
 },
 "nbformat": 4,
 "nbformat_minor": 2
}
