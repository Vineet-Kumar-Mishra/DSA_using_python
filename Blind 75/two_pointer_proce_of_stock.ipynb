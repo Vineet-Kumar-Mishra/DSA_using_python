{
 "cells": [
  {
   "cell_type": "markdown",
   "metadata": {},
   "source": [
    "## Highest profit on stocks\n",
    "Given an` array arr having values of stock prices for each day` we can `sell or purchase on one day`\n",
    "Write an algorithm to maximize the profit\n",
    "\n",
    "> arr = [7,1,5,3,6,4] return 5 i.e. 6-1 "
   ]
  },
  {
   "cell_type": "markdown",
   "metadata": {},
   "source": [
    "## Approach - Use 2 pointer method\n",
    "1. start left and right pointers\n",
    "2. save a max profit by subtracting values at right and left\n",
    "3. if we have a lower price we modify the left pointer i.e price left>price right  --> l = r"
   ]
  },
  {
   "cell_type": "code",
   "execution_count": 3,
   "metadata": {},
   "outputs": [],
   "source": [
    "def stock_price(arr):\n",
    "    if len(arr)==0:\n",
    "        return 0\n",
    "    elif len(arr)==1:\n",
    "        return arr[0]\n",
    "    \n",
    "    l,r = 0,1\n",
    "    max_current = float('-inf')\n",
    "    while r<len(arr):\n",
    "        profit = arr[r]-arr[l]\n",
    "        max_current = max(max_current, profit)\n",
    "\n",
    "        if arr[r]<arr[l]:\n",
    "            l = r\n",
    "        r+=1\n",
    "    return max_current\n"
   ]
  },
  {
   "cell_type": "code",
   "execution_count": 6,
   "metadata": {},
   "outputs": [],
   "source": [
    "test_cases = [\n",
    "            {'input':{'arr':[7,1,5,3,6,4]}, 'output':5},\n",
    "            {'input':{'arr':[7,1,5,3,6,10]}, 'output':9},\n",
    "            {'input':{'arr':[7,1,5,0,6,4]}, 'output':6},\n",
    "            {'input':{'arr':[7,1,5,9,0,1]}, 'output':8},\n",
    "            {'input':{'arr':[7,1,0,5,9,0,1]}, 'output':9},\n",
    "            {'input':{'arr':[7]}, 'output':7},\n",
    "            {'input':{'arr':[]}, 'output':0},\n",
    "\n",
    "]"
   ]
  },
  {
   "cell_type": "code",
   "execution_count": 7,
   "metadata": {},
   "outputs": [
    {
     "name": "stdout",
     "output_type": "stream",
     "text": [
      "Calculated 5\n",
      "original 5\n",
      "True\n",
      "Calculated 9\n",
      "original 9\n",
      "True\n",
      "Calculated 6\n",
      "original 6\n",
      "True\n",
      "Calculated 8\n",
      "original 8\n",
      "True\n",
      "Calculated 9\n",
      "original 9\n",
      "True\n",
      "Calculated 7\n",
      "original 7\n",
      "True\n",
      "Calculated 0\n",
      "original 0\n",
      "True\n"
     ]
    }
   ],
   "source": [
    "for tst in test_cases:\n",
    "    op = stock_price(**tst['input'])\n",
    "    print('Calculated', op)\n",
    "    print('original', tst['output'])\n",
    "    print(op==tst['output'])"
   ]
  },
  {
   "cell_type": "code",
   "execution_count": null,
   "metadata": {},
   "outputs": [],
   "source": []
  }
 ],
 "metadata": {
  "kernelspec": {
   "display_name": "Python 3",
   "language": "python",
   "name": "python3"
  },
  "language_info": {
   "codemirror_mode": {
    "name": "ipython",
    "version": 3
   },
   "file_extension": ".py",
   "mimetype": "text/x-python",
   "name": "python",
   "nbconvert_exporter": "python",
   "pygments_lexer": "ipython3",
   "version": "3.9.7"
  }
 },
 "nbformat": 4,
 "nbformat_minor": 2
}
