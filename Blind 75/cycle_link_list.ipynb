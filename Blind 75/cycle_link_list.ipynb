{
 "cells": [
  {
   "cell_type": "markdown",
   "metadata": {},
   "source": [
    "## Cycle in Linked List"
   ]
  },
  {
   "cell_type": "code",
   "execution_count": 11,
   "metadata": {},
   "outputs": [],
   "source": [
    "class Node:\n",
    "    def __init__(self, val = 0, next = None):\n",
    "        self.val = val\n",
    "        self.next = next\n",
    "        \n",
    "class linked_list:\n",
    "    def __init__(self, head = None):\n",
    "        self.head = head\n",
    "\n",
    "    def construct_own(self):\n",
    "\n",
    "        n1 = Node(1)\n",
    "        n2 = Node(2)\n",
    "        n3 = Node(3)\n",
    "        n4 = Node(4)\n",
    "\n",
    "        self.head = n1\n",
    "        n1.next = n2\n",
    "        n2.next = n3\n",
    "        n3.next = n4\n",
    "        n4.next = n1\n",
    "\n",
    "    def insert_item(self, item):\n",
    "        if not self.head:\n",
    "            self.head = Node(item)\n",
    "        else:\n",
    "            ptr = self.head\n",
    "            while ptr.next:\n",
    "                ptr = ptr.next\n",
    "            ptr.next = Node(item)\n",
    "    def insert_items(self, list_items):\n",
    "        for item in list_items:\n",
    "            self.insert_item(item)\n",
    "\n",
    "    \n",
    "\n",
    "    def print_ll(self):\n",
    "        if not self.head:\n",
    "            print('Empty')\n",
    "\n",
    "        ptr = self.head\n",
    "        str_rep = ''\n",
    "        while ptr:\n",
    "            to_put = str(ptr.val)+'->' if ptr.next else str(ptr.val)+'->None'\n",
    "            str_rep+=to_put\n",
    "            ptr = ptr.next\n",
    "        print(str_rep)\n",
    "\n",
    "def print_linked_list(head):\n",
    "    current = head\n",
    "    while current:\n",
    "        print(current.val, end=\" -> \")\n",
    "        current = current.next\n",
    "    print(\"None\")\n"
   ]
  },
  {
   "cell_type": "code",
   "execution_count": 15,
   "metadata": {},
   "outputs": [],
   "source": [
    "ll = linked_list()"
   ]
  },
  {
   "cell_type": "code",
   "execution_count": 17,
   "metadata": {},
   "outputs": [],
   "source": [
    "ll.insert_items([1,2,3,4])"
   ]
  },
  {
   "cell_type": "code",
   "execution_count": 18,
   "metadata": {},
   "outputs": [
    {
     "name": "stdout",
     "output_type": "stream",
     "text": [
      "1 -> 2 -> 3 -> 4 -> None\n"
     ]
    }
   ],
   "source": [
    "print_linked_list(ll.head)"
   ]
  },
  {
   "cell_type": "code",
   "execution_count": 14,
   "metadata": {},
   "outputs": [],
   "source": [
    "def detect_cycle(head):\n",
    "    slow=head\n",
    "    fast = head\n",
    "    while fast and fast.next:\n",
    "        slow = slow.next\n",
    "        fast = fast.next.next\n",
    "\n",
    "        if slow==fast:\n",
    "            return True\n",
    "    return False"
   ]
  },
  {
   "cell_type": "code",
   "execution_count": 19,
   "metadata": {},
   "outputs": [
    {
     "data": {
      "text/plain": [
       "False"
      ]
     },
     "execution_count": 19,
     "metadata": {},
     "output_type": "execute_result"
    }
   ],
   "source": [
    "detect_cycle(ll.head)"
   ]
  },
  {
   "cell_type": "code",
   "execution_count": null,
   "metadata": {},
   "outputs": [],
   "source": []
  }
 ],
 "metadata": {
  "kernelspec": {
   "display_name": "Python 3",
   "language": "python",
   "name": "python3"
  },
  "language_info": {
   "codemirror_mode": {
    "name": "ipython",
    "version": 3
   },
   "file_extension": ".py",
   "mimetype": "text/x-python",
   "name": "python",
   "nbconvert_exporter": "python",
   "pygments_lexer": "ipython3",
   "version": "3.9.7"
  }
 },
 "nbformat": 4,
 "nbformat_minor": 2
}
