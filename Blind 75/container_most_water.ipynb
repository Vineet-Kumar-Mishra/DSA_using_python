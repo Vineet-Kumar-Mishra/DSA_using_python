{
 "cells": [
  {
   "cell_type": "markdown",
   "metadata": {},
   "source": [
    "## Find area of max water holding in conatiner given height in array\n",
    "> eg. array = [1,8,6,2,5,4,8,3,7]  o/p = 8 X min(8,7) = 49\n",
    "> "
   ]
  },
  {
   "cell_type": "code",
   "execution_count": 1,
   "metadata": {},
   "outputs": [],
   "source": [
    "def container_max_water(height):\n",
    "    l = 0\n",
    "    r = len(height)-1\n",
    "\n",
    "    max_height = 0\n",
    "    # here l<=r not correct as we need 2 walls\n",
    "    while l<r:\n",
    "\n",
    "        height_water = (r-l)*min(height[r], height[l])\n",
    "        max_height = max(max_height, height_water)\n",
    "        if l<r:\n",
    "            l+=1\n",
    "        else:\n",
    "            r-=1\n",
    "    return max_height"
   ]
  },
  {
   "cell_type": "code",
   "execution_count": 2,
   "metadata": {},
   "outputs": [
    {
     "data": {
      "text/plain": [
       "49"
      ]
     },
     "execution_count": 2,
     "metadata": {},
     "output_type": "execute_result"
    }
   ],
   "source": [
    "container_max_water([1,8,6,2,5,4,8,3,7])"
   ]
  },
  {
   "cell_type": "code",
   "execution_count": null,
   "metadata": {},
   "outputs": [],
   "source": []
  }
 ],
 "metadata": {
  "kernelspec": {
   "display_name": "Python 3",
   "language": "python",
   "name": "python3"
  },
  "language_info": {
   "codemirror_mode": {
    "name": "ipython",
    "version": 3
   },
   "file_extension": ".py",
   "mimetype": "text/x-python",
   "name": "python",
   "nbconvert_exporter": "python",
   "pygments_lexer": "ipython3",
   "version": "3.9.7"
  }
 },
 "nbformat": 4,
 "nbformat_minor": 2
}
