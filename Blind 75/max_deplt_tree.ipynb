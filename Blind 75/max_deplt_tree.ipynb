{
 "cells": [
  {
   "cell_type": "markdown",
   "metadata": {},
   "source": [
    "## max depth of tree"
   ]
  },
  {
   "cell_type": "code",
   "execution_count": 23,
   "metadata": {},
   "outputs": [],
   "source": [
    "class TreeNode:\n",
    "    def __init__(self, val=0, left=None, right=None):\n",
    "        self.val = val\n",
    "        self.left = left\n",
    "        self.right = right\n",
    "\n",
    "def build_tree():\n",
    "    # Creating nodes\n",
    "    root = TreeNode(1)\n",
    "    root.left = TreeNode(2)\n",
    "    root.right = TreeNode(3)\n",
    "    root.left.left = TreeNode(4)\n",
    "    root.left.right = TreeNode(5)\n",
    "    root.right.left = TreeNode(6)\n",
    "    root.right.right = TreeNode(7)\n",
    "\n",
    "    return root  # Returning the root of the tree\n"
   ]
  },
  {
   "cell_type": "code",
   "execution_count": 24,
   "metadata": {},
   "outputs": [],
   "source": [
    "root = build_tree()"
   ]
  },
  {
   "cell_type": "code",
   "execution_count": 25,
   "metadata": {},
   "outputs": [],
   "source": [
    "def print_tree(root, level=0, prefix=\"Root: \"):\n",
    "    if root:\n",
    "        print(\" \" * (level * 4) + prefix + str(root.val))\n",
    "        print_tree(root.left, level + 1, \"L--- \")\n",
    "        print_tree(root.right, level + 1, \"R--- \")\n"
   ]
  },
  {
   "cell_type": "code",
   "execution_count": 26,
   "metadata": {},
   "outputs": [
    {
     "name": "stdout",
     "output_type": "stream",
     "text": [
      "Root: 1\n",
      "    L--- 2\n",
      "        L--- 4\n",
      "        R--- 5\n",
      "    R--- 3\n",
      "        L--- 6\n",
      "        R--- 7\n"
     ]
    }
   ],
   "source": [
    "print_tree(root)"
   ]
  },
  {
   "cell_type": "code",
   "execution_count": 27,
   "metadata": {},
   "outputs": [],
   "source": [
    "\n",
    "def dfs(root):\n",
    "    if not root:\n",
    "        return 0\n",
    "    \n",
    "    return 1+max(dfs(root.left), dfs(root.right))\n",
    "\n"
   ]
  },
  {
   "cell_type": "code",
   "execution_count": 28,
   "metadata": {},
   "outputs": [
    {
     "data": {
      "text/plain": [
       "3"
      ]
     },
     "execution_count": 28,
     "metadata": {},
     "output_type": "execute_result"
    }
   ],
   "source": [
    "dfs(root)"
   ]
  },
  {
   "cell_type": "code",
   "execution_count": 37,
   "metadata": {},
   "outputs": [],
   "source": [
    "def iter_dfs(root):\n",
    "    stack = [(root,1)]\n",
    "    max_depth =0\n",
    "    while stack:\n",
    "        node, depth = stack.pop()\n",
    "        max_depth = max(depth, max_depth)\n",
    "        if node.left:\n",
    "            stack.append((node.left, depth+1))\n",
    "        if node.right:\n",
    "            stack.append((node.left,depth+1))\n",
    "\n",
    "    return max_depth\n",
    "\n"
   ]
  },
  {
   "cell_type": "code",
   "execution_count": 38,
   "metadata": {},
   "outputs": [
    {
     "data": {
      "text/plain": [
       "3"
      ]
     },
     "execution_count": 38,
     "metadata": {},
     "output_type": "execute_result"
    }
   ],
   "source": [
    "iter_dfs(root)"
   ]
  },
  {
   "cell_type": "code",
   "execution_count": 39,
   "metadata": {},
   "outputs": [],
   "source": [
    "from collections import deque\n",
    "def bfs(root):\n",
    "    if not root:\n",
    "        return\n",
    "    \n",
    "    max_depth = 0\n",
    "    \n",
    "    queue = deque()\n",
    "    queue.append((root,1))\n",
    "    while queue:\n",
    "        node, depth = queue.popleft()\n",
    "        max_depth = max(max_depth, depth)\n",
    "\n",
    "        if node.left:\n",
    "            queue.append((node.left, depth+1))\n",
    "        if node.right:\n",
    "            queue.append((node.right, depth+1))\n",
    "\n",
    "    return max_depth"
   ]
  },
  {
   "cell_type": "code",
   "execution_count": 40,
   "metadata": {},
   "outputs": [
    {
     "data": {
      "text/plain": [
       "3"
      ]
     },
     "execution_count": 40,
     "metadata": {},
     "output_type": "execute_result"
    }
   ],
   "source": [
    "bfs(root)"
   ]
  },
  {
   "cell_type": "code",
   "execution_count": null,
   "metadata": {},
   "outputs": [],
   "source": []
  }
 ],
 "metadata": {
  "kernelspec": {
   "display_name": "Python 3",
   "language": "python",
   "name": "python3"
  },
  "language_info": {
   "codemirror_mode": {
    "name": "ipython",
    "version": 3
   },
   "file_extension": ".py",
   "mimetype": "text/x-python",
   "name": "python",
   "nbconvert_exporter": "python",
   "pygments_lexer": "ipython3",
   "version": "3.9.7"
  }
 },
 "nbformat": 4,
 "nbformat_minor": 2
}
