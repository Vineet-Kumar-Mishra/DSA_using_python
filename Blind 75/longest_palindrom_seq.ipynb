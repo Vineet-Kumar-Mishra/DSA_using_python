{
 "cells": [
  {
   "cell_type": "markdown",
   "metadata": {},
   "source": [
    "## Longest plaindrom Sequence\n",
    "> e.g. = 'ababc' op = 'aba'\n",
    ">\n",
    "> e.g. = 'tbbc' op = 'bb'"
   ]
  },
  {
   "cell_type": "code",
   "execution_count": 5,
   "metadata": {},
   "outputs": [],
   "source": [
    "def longest_pal(s):\n",
    "    res = \"\"\n",
    "    max_len = 0\n",
    "\n",
    "    # Traverse all elements\n",
    "    for i in range(len(s)):\n",
    "        # start growing pointers from ith index\n",
    "        l = i\n",
    "        r = i\n",
    "\n",
    "        # for odd condition\n",
    "        while l>=0 and r<len(s) and s[l]==s[r]:\n",
    "            if (r-l+1)>max_len:\n",
    "                res = s[l:r+1]\n",
    "                max_len = (r-l+1)\n",
    "            l-=1\n",
    "            r+=1\n",
    "\n",
    "        # for even\n",
    "        l = i\n",
    "        r = i+1\n",
    "        while l>=0 and r<len(s) and s[l]==s[r]:\n",
    "            if (r-l+1)>max_len:\n",
    "                res = s[l:r+1]\n",
    "                max_len = (r-l+1)\n",
    "            l-=1\n",
    "            r+=1\n",
    "\n",
    "    return res"
   ]
  },
  {
   "cell_type": "code",
   "execution_count": 6,
   "metadata": {},
   "outputs": [
    {
     "data": {
      "text/plain": [
       "'aba'"
      ]
     },
     "execution_count": 6,
     "metadata": {},
     "output_type": "execute_result"
    }
   ],
   "source": [
    "longest_pal('ababd')"
   ]
  },
  {
   "cell_type": "code",
   "execution_count": 7,
   "metadata": {},
   "outputs": [
    {
     "data": {
      "text/plain": [
       "'bb'"
      ]
     },
     "execution_count": 7,
     "metadata": {},
     "output_type": "execute_result"
    }
   ],
   "source": [
    "longest_pal('dbba')"
   ]
  },
  {
   "cell_type": "code",
   "execution_count": 8,
   "metadata": {},
   "outputs": [
    {
     "data": {
      "text/plain": [
       "'a'"
      ]
     },
     "execution_count": 8,
     "metadata": {},
     "output_type": "execute_result"
    }
   ],
   "source": [
    "longest_pal('abcd')"
   ]
  },
  {
   "cell_type": "code",
   "execution_count": null,
   "metadata": {},
   "outputs": [],
   "source": []
  }
 ],
 "metadata": {
  "kernelspec": {
   "display_name": "Python 3",
   "language": "python",
   "name": "python3"
  },
  "language_info": {
   "codemirror_mode": {
    "name": "ipython",
    "version": 3
   },
   "file_extension": ".py",
   "mimetype": "text/x-python",
   "name": "python",
   "nbconvert_exporter": "python",
   "pygments_lexer": "ipython3",
   "version": "3.9.7"
  }
 },
 "nbformat": 4,
 "nbformat_minor": 2
}
