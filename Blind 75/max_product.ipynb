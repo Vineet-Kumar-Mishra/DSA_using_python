{
 "cells": [
  {
   "cell_type": "markdown",
   "metadata": {},
   "source": [
    "## max product of consecutive array\n",
    "> eg. array = [2,3,-2,4] --> O/P - 2 X 3 = 6\n",
    ">\n",
    "> array = [-1,2,3,4,-1] --> o/p - all = 24\n",
    ">\n",
    "> array = [-1,2,0,3,4,-1] --> o/p - 3 X 4 = 12"
   ]
  },
  {
   "cell_type": "code",
   "execution_count": 4,
   "metadata": {},
   "outputs": [],
   "source": [
    "def max_product(arr):\n",
    "    res = max(arr)\n",
    "\n",
    "    curr_min = 1\n",
    "    curr_max = 1\n",
    "    for i in range(len(arr)):\n",
    "        element = arr[i]\n",
    "        if element == 0:\n",
    "            curr_min, curr_max = 1,1\n",
    "            continue\n",
    "\n",
    "        a = element*curr_max\n",
    "        b = element*curr_min\n",
    "\n",
    "        curr_min = min(a,b)\n",
    "        curr_max = max(a,b)\n",
    "\n",
    "        res = max(res, curr_max)\n",
    "    \n",
    "    return res"
   ]
  },
  {
   "cell_type": "code",
   "execution_count": 7,
   "metadata": {},
   "outputs": [],
   "source": [
    "a1 = [2,3,-2,4]\n",
    "a2 = [-1,2,3,4,-1]\n",
    "a3 = [-1,2,0,3,4,-1]\n",
    "a4 = [1,2,3,4,0,1,2]"
   ]
  },
  {
   "cell_type": "code",
   "execution_count": 8,
   "metadata": {},
   "outputs": [
    {
     "name": "stdout",
     "output_type": "stream",
     "text": [
      "6\n",
      "24\n",
      "12\n",
      "24\n"
     ]
    }
   ],
   "source": [
    "for i in [a1, a2, a3, a4]:\n",
    "    print(max_product(i))"
   ]
  },
  {
   "cell_type": "code",
   "execution_count": null,
   "metadata": {},
   "outputs": [],
   "source": []
  }
 ],
 "metadata": {
  "kernelspec": {
   "display_name": "Python 3",
   "language": "python",
   "name": "python3"
  },
  "language_info": {
   "codemirror_mode": {
    "name": "ipython",
    "version": 3
   },
   "file_extension": ".py",
   "mimetype": "text/x-python",
   "name": "python",
   "nbconvert_exporter": "python",
   "pygments_lexer": "ipython3",
   "version": "3.9.7"
  }
 },
 "nbformat": 4,
 "nbformat_minor": 2
}
