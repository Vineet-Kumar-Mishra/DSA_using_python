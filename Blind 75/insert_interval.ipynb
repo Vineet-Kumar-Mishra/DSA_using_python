{
 "cells": [
  {
   "cell_type": "markdown",
   "metadata": {},
   "source": [
    "## Insert Intervals\n",
    "## interval = [[1,2],[3,5],[6,7],[8,10],[12,16]]  newInterval = [4,8]\n",
    "> op = [[1,2],[3,10],[12,16]]\n",
    ">"
   ]
  },
  {
   "cell_type": "code",
   "execution_count": 7,
   "metadata": {},
   "outputs": [],
   "source": [
    "interval = [[1,2],[3,5],[6,7],[8,10],[12,16]]  \n",
    "newInterval = [4,8]"
   ]
  },
  {
   "cell_type": "code",
   "execution_count": 8,
   "metadata": {},
   "outputs": [],
   "source": [
    "def insert_intervals(interval, newInterval):\n",
    "    res = []\n",
    "\n",
    "    for i in range(len(interval)):\n",
    "        \n",
    "        # put the newinterval before the curret interval (may be possible that newiterval as been modified)\n",
    "        if newInterval[1]< interval[i][0]:\n",
    "            res.append(newInterval)\n",
    "            return res + interval[i:]\n",
    "        \n",
    "        # if interval is after cureent interval simply append this inerval to output res\n",
    "        elif newInterval[0]>interval[i][1]:\n",
    "            res.append(interval[i])\n",
    "\n",
    "        # condition to merge\n",
    "        else:\n",
    "            newInterval = [min(newInterval[0], interval[i][0]), max(newInterval[1], interval[i][1])]\n",
    "\n",
    "    return res"
   ]
  },
  {
   "cell_type": "code",
   "execution_count": 9,
   "metadata": {},
   "outputs": [
    {
     "data": {
      "text/plain": [
       "[[1, 2], [3, 10], [12, 16]]"
      ]
     },
     "execution_count": 9,
     "metadata": {},
     "output_type": "execute_result"
    }
   ],
   "source": [
    "insert_intervals(interval, newInterval)"
   ]
  },
  {
   "cell_type": "code",
   "execution_count": null,
   "metadata": {},
   "outputs": [],
   "source": []
  }
 ],
 "metadata": {
  "kernelspec": {
   "display_name": "Python 3",
   "language": "python",
   "name": "python3"
  },
  "language_info": {
   "codemirror_mode": {
    "name": "ipython",
    "version": 3
   },
   "file_extension": ".py",
   "mimetype": "text/x-python",
   "name": "python",
   "nbconvert_exporter": "python",
   "pygments_lexer": "ipython3",
   "version": "3.9.7"
  }
 },
 "nbformat": 4,
 "nbformat_minor": 2
}
