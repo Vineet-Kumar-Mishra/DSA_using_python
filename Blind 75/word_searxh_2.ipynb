{
 "cells": [
  {
   "cell_type": "markdown",
   "metadata": {},
   "source": [
    "## Word Search 2\n",
    "## Given a list of words and a grid of characters. Find the words in list that are present in grid\n",
    "\n",
    "e.g. `grid = [['o','q','a','n'],['e','t','a','e'], ['i','h','k','r'], ['i','f','l','v']]`  `words = ['oath','rain','eat','down']`"
   ]
  },
  {
   "cell_type": "code",
   "execution_count": 81,
   "metadata": {},
   "outputs": [],
   "source": [
    "class TrieNode:\n",
    "    def __init__(self):\n",
    "        self.children = {}\n",
    "        self.wordEnds = False\n",
    "\n",
    "class Trie:\n",
    "    def __init__(self):\n",
    "        self.root = TrieNode()\n",
    "\n",
    "    def insert(self, word):\n",
    "        cur = self.root\n",
    "        for wrd in word:\n",
    "            if wrd not in cur.children:\n",
    "                cur.children[wrd] = TrieNode()\n",
    "            cur = cur.children[wrd]\n",
    "        cur.wordEnds = True\n",
    "\n",
    "    def insert_list(self, list_words):\n",
    "        for words in list_words:\n",
    "            self.insert(words)\n",
    "            \n",
    "    def print_trie(self):\n",
    "        def dfs(node, prefix, depth):\n",
    "            indent = \"  \" * depth  # Create indentation based on depth\n",
    "            if node.wordEnds:\n",
    "                print(f\"{indent}({prefix})\")  # Mark complete words with ()\n",
    "            for char in sorted(node.children.keys()):  # Ensure lexicographic order\n",
    "                print(f\"{indent}└── {char}\")  # Print branches\n",
    "                dfs(node.children[char], prefix + char, depth + 1)\n",
    "\n",
    "        print(\"Root\")\n",
    "        dfs(self.root, \"\", 1)  # Start DFS from the root\n"
   ]
  },
  {
   "cell_type": "code",
   "execution_count": 82,
   "metadata": {},
   "outputs": [],
   "source": [
    "def word_search2(grid, words):\n",
    "\n",
    "    # prepare datastructure\n",
    "    base_trie = Trie()\n",
    "    base_trie.insert_list(words)\n",
    "\n",
    "    rows = len(grid)\n",
    "    cols = len(grid[0])\n",
    "\n",
    "    res = set()\n",
    "    visited = set()\n",
    "    def dfs(r,c, root,found_word):\n",
    "\n",
    "        if (r<0 or c<0 or\n",
    "            r==rows or c==cols or\n",
    "            (r,c) in visited or\n",
    "            grid[r][c] not in root.children):\n",
    "            return\n",
    "        \n",
    "        visited.add((r,c))\n",
    "        found_word+=grid[r][c]\n",
    "        # now we are on the current word\n",
    "        root = root.children[grid[r][c]]\n",
    "\n",
    "        if root.wordEnds:\n",
    "            res.add(found_word)\n",
    "\n",
    "        dfs(r+1,c,root,found_word)\n",
    "        dfs(r-1,c,root,found_word)\n",
    "        dfs(r,c+1,root,found_word)\n",
    "        dfs(r,c-1,root,found_word)\n",
    "            \n",
    "        visited.remove((r,c))\n",
    "    for r in range(rows):\n",
    "        for c in range(cols):\n",
    "            dfs(r,c,base_trie.root, '')\n",
    "\n",
    "    return list(res)\n",
    "    "
   ]
  },
  {
   "cell_type": "code",
   "execution_count": 83,
   "metadata": {},
   "outputs": [
    {
     "data": {
      "text/plain": [
       "['eat', 'oath']"
      ]
     },
     "execution_count": 83,
     "metadata": {},
     "output_type": "execute_result"
    }
   ],
   "source": [
    "word_search2(grid = [['o','a','a','n'],['e','t','a','e'], ['i','h','k','r'], ['i','f','l','v']], words = ['oath','rain','eat','down'])"
   ]
  },
  {
   "cell_type": "code",
   "execution_count": null,
   "metadata": {},
   "outputs": [],
   "source": []
  }
 ],
 "metadata": {
  "kernelspec": {
   "display_name": "Python 3",
   "language": "python",
   "name": "python3"
  },
  "language_info": {
   "codemirror_mode": {
    "name": "ipython",
    "version": 3
   },
   "file_extension": ".py",
   "mimetype": "text/x-python",
   "name": "python",
   "nbconvert_exporter": "python",
   "pygments_lexer": "ipython3",
   "version": "3.9.7"
  }
 },
 "nbformat": 4,
 "nbformat_minor": 2
}
