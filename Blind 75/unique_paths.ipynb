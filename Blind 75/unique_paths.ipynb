{
 "cells": [
  {
   "cell_type": "markdown",
   "metadata": {},
   "source": [
    "## Unique paths: A robot located at top left of m X n grid and target at botton right. Find number of ways to reach to target given we can go either down or right\n",
    "\n",
    "> `m = 3`  `n = 7` --> `o/p = 27`"
   ]
  },
  {
   "cell_type": "code",
   "execution_count": 19,
   "metadata": {},
   "outputs": [],
   "source": [
    "def unique_paths(m, n):\n",
    "    dp = [[0 for _ in range(n+1)] for _ in range(m+1)]\n",
    "\n",
    "    #base case\n",
    "    dp[m-1][n-1] = 1\n",
    "    \n",
    "    for i in range(m-1,-1,-1):\n",
    "        for j in range(n-1, -1, -1):\n",
    "          \n",
    "            if i==m-1 and j==n-1:\n",
    "                continue\n",
    "            dp[i][j] = dp[i+1][j]+dp[i][j+1]\n",
    "    \n",
    "    return dp[0][0]"
   ]
  },
  {
   "cell_type": "code",
   "execution_count": 20,
   "metadata": {},
   "outputs": [
    {
     "data": {
      "text/plain": [
       "28"
      ]
     },
     "execution_count": 20,
     "metadata": {},
     "output_type": "execute_result"
    }
   ],
   "source": [
    "unique_paths(3,7)"
   ]
  },
  {
   "cell_type": "code",
   "execution_count": 21,
   "metadata": {},
   "outputs": [
    {
     "data": {
      "text/plain": [
       "45"
      ]
     },
     "execution_count": 21,
     "metadata": {},
     "output_type": "execute_result"
    }
   ],
   "source": [
    "unique_paths(3,9)\n"
   ]
  },
  {
   "cell_type": "code",
   "execution_count": null,
   "metadata": {},
   "outputs": [],
   "source": []
  }
 ],
 "metadata": {
  "kernelspec": {
   "display_name": "Python 3",
   "language": "python",
   "name": "python3"
  },
  "language_info": {
   "codemirror_mode": {
    "name": "ipython",
    "version": 3
   },
   "file_extension": ".py",
   "mimetype": "text/x-python",
   "name": "python",
   "nbconvert_exporter": "python",
   "pygments_lexer": "ipython3",
   "version": "3.9.7"
  }
 },
 "nbformat": 4,
 "nbformat_minor": 2
}
