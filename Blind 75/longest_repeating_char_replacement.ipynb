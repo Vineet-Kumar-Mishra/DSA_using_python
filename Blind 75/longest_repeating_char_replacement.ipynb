{
 "cells": [
  {
   "cell_type": "markdown",
   "metadata": {},
   "source": [
    "## Longest repeating character replacement:\n",
    "## Given a string s and k (int). We are allowed to change any K character. Goal is to obtain len of max subsequence with same characters after replacement\n",
    "e.g. `s = 'AABABBA'` `k=2` --> `op = 5`  `'AAAAABA'`"
   ]
  },
  {
   "cell_type": "code",
   "execution_count": 21,
   "metadata": {},
   "outputs": [],
   "source": [
    "def longest_relaced(string, k):\n",
    "    l = 0\n",
    "    r = 0\n",
    "    res = 0\n",
    "    char_set = {}\n",
    "\n",
    "    while l<=r:\n",
    "        \n",
    "        if r>=len(string):\n",
    "            break\n",
    "        if string[r] in char_set:\n",
    "            char_set[string[r]]+=1\n",
    "            \n",
    "        char_set[string[r]] = 1\n",
    "\n",
    "        \n",
    "        if (r-l+1)-max(char_set.values())<=k:\n",
    "            r+=1\n",
    "        else:\n",
    "            l+=1\n",
    "            char_set[string[l]]-=1\n",
    "\n",
    "        res = max(res, (r-l+1))\n",
    "\n",
    "    return res"
   ]
  },
  {
   "cell_type": "code",
   "execution_count": 23,
   "metadata": {},
   "outputs": [
    {
     "data": {
      "text/plain": [
       "5"
      ]
     },
     "execution_count": 23,
     "metadata": {},
     "output_type": "execute_result"
    }
   ],
   "source": [
    "longest_relaced('AABABBA',3)"
   ]
  },
  {
   "cell_type": "code",
   "execution_count": null,
   "metadata": {},
   "outputs": [],
   "source": []
  }
 ],
 "metadata": {
  "kernelspec": {
   "display_name": "Python 3",
   "language": "python",
   "name": "python3"
  },
  "language_info": {
   "codemirror_mode": {
    "name": "ipython",
    "version": 3
   },
   "file_extension": ".py",
   "mimetype": "text/x-python",
   "name": "python",
   "nbconvert_exporter": "python",
   "pygments_lexer": "ipython3",
   "version": "3.9.7"
  }
 },
 "nbformat": 4,
 "nbformat_minor": 2
}
