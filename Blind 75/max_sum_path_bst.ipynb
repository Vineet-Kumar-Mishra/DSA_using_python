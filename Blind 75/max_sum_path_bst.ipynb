{
 "cells": [
  {
   "cell_type": "markdown",
   "metadata": {},
   "source": [
    "## Max sum of path in BST\n",
    "## can include left,root,right and can also avoid"
   ]
  },
  {
   "cell_type": "code",
   "execution_count": 9,
   "metadata": {},
   "outputs": [],
   "source": [
    "class TreeNode:\n",
    "    def __init__(self, val=0, left=None, right=None):\n",
    "        self.val = val\n",
    "        self.left = left\n",
    "        self.right = right\n",
    "\n",
    "def build_tree():\n",
    "    # Creating nodes\n",
    "    root = TreeNode(1)\n",
    "    root.left = TreeNode(2)\n",
    "    root.right = TreeNode(3)\n",
    "    root.left.left = TreeNode(4)\n",
    "    root.left.right = TreeNode(5)\n",
    "    root.right.left = TreeNode(6)\n",
    "    root.right.right = TreeNode(7)\n",
    "\n",
    "    return root  # Returning the root of the tree\n",
    "\n",
    "def print_tree(root, level=0, prefix=\"Root: \"):\n",
    "    if root:\n",
    "        print(\" \" * (level * 4) + prefix + str(root.val))\n",
    "        print_tree(root.left, level + 1, \"L--- \")\n",
    "        print_tree(root.right, level + 1, \"R--- \")"
   ]
  },
  {
   "cell_type": "code",
   "execution_count": 10,
   "metadata": {},
   "outputs": [],
   "source": [
    "\n"
   ]
  },
  {
   "cell_type": "code",
   "execution_count": 11,
   "metadata": {},
   "outputs": [],
   "source": [
    "tree = build_tree()"
   ]
  },
  {
   "cell_type": "code",
   "execution_count": 12,
   "metadata": {},
   "outputs": [
    {
     "name": "stdout",
     "output_type": "stream",
     "text": [
      "Root: 1\n",
      "    L--- 2\n",
      "        L--- 4\n",
      "        R--- 5\n",
      "    R--- 3\n",
      "        L--- 6\n",
      "        R--- 7\n"
     ]
    }
   ],
   "source": [
    "print_tree(tree)"
   ]
  },
  {
   "cell_type": "code",
   "execution_count": 17,
   "metadata": {},
   "outputs": [],
   "source": [
    "def max_len(root):\n",
    "    max_sum = root.val\n",
    "\n",
    "    def dfs(root):\n",
    "        nonlocal max_sum\n",
    "\n",
    "        # we are at last node with no childern\n",
    "        if not root:\n",
    "            return 0\n",
    "        \n",
    "        left_max = dfs(root.left)\n",
    "        right_max = dfs(root.right)\n",
    "        # we are at 3 in this example so we need to have all information of this path\n",
    "        sum_with_the_path = root.val + left_max + right_max\n",
    "\n",
    "        max_sum = max(max_sum, sum_with_the_path)\n",
    "\n",
    "        # function returns a value that can be used by root's parents\n",
    "        sum_at_this_root = root.val + max(left_max, right_max)\n",
    "\n",
    "        return sum_at_this_root\n",
    "    \n",
    "    dfs(root)\n",
    "\n",
    "    return max_sum"
   ]
  },
  {
   "cell_type": "code",
   "execution_count": 18,
   "metadata": {},
   "outputs": [
    {
     "data": {
      "text/plain": [
       "18"
      ]
     },
     "execution_count": 18,
     "metadata": {},
     "output_type": "execute_result"
    }
   ],
   "source": [
    "max_len(tree)"
   ]
  },
  {
   "cell_type": "code",
   "execution_count": null,
   "metadata": {},
   "outputs": [],
   "source": []
  }
 ],
 "metadata": {
  "kernelspec": {
   "display_name": "Python 3",
   "language": "python",
   "name": "python3"
  },
  "language_info": {
   "codemirror_mode": {
    "name": "ipython",
    "version": 3
   },
   "file_extension": ".py",
   "mimetype": "text/x-python",
   "name": "python",
   "nbconvert_exporter": "python",
   "pygments_lexer": "ipython3",
   "version": "3.9.7"
  }
 },
 "nbformat": 4,
 "nbformat_minor": 2
}
