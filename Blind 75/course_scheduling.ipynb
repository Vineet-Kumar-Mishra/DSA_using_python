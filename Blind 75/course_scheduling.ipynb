{
 "cells": [
  {
   "cell_type": "markdown",
   "metadata": {},
   "source": [
    "## Course Scheduling: Given num_courses from 0 to num_courses-1 and prereqeuiste where 1st course depends on 2nd. Return true if it is possible to finish all courses\n",
    "\n",
    "> num_courses = 2 pre = [[0,1]] --> o/p = True\n",
    ">\n",
    "> num_courses = 2 pre = [[0,1],[1,0]] --> o/p = False  (cycle detected)\n",
    ">\n",
    "> num_courses = 5 pre = [[0,1],[0,2],[1,3].[1,4],[3,4]] --> o/p = True"
   ]
  },
  {
   "cell_type": "code",
   "execution_count": 7,
   "metadata": {},
   "outputs": [],
   "source": [
    "def course_scheduling(num_courses, pre):\n",
    "\n",
    "    # pre_map building\n",
    "    pre_map = {i:[] for i in range(num_courses)}\n",
    "\n",
    "    for course, pre_req in pre:\n",
    "        pre_map[course].append(pre_req)\n",
    "\n",
    "    # cycle detection and dfs traversal\n",
    "\n",
    "    visited_set = set()\n",
    "    def dfs(course):\n",
    "        # base condition\n",
    "        # 1. If course has no pre-requisite then True\n",
    "        if pre_map[course] == []:\n",
    "            return True\n",
    "        \n",
    "        # 2. If course already in visited means there is a cycle and course cant be done\n",
    "        if course in visited_set:\n",
    "            return False\n",
    "\n",
    "        # Add to visited so that when we finds chain of prerequistes we can check if there is a cycle\n",
    "        visited_set.add(course)\n",
    "        for pr_req in pre_map[course]:\n",
    "            # if at any prereq a cycle forms this course cant be done\n",
    "            if not dfs(pr_req):\n",
    "                return False\n",
    "        \n",
    "        # Here we are - no cylce detected and we can finish thi course\n",
    "        # we remove course from visited to get next course\n",
    "        visited_set.remove(course)\n",
    "\n",
    "        # we can make pre_map of course empty to simplify things\n",
    "        pre_map[course] = []\n",
    "        return True\n",
    "\n",
    "    # We need to do this dfs for every course and return True only when all courses can be done\n",
    "    for course in range(num_courses):\n",
    "        if not dfs(course):\n",
    "            return False\n",
    "    \n",
    "    return True\n"
   ]
  },
  {
   "cell_type": "code",
   "execution_count": 8,
   "metadata": {},
   "outputs": [
    {
     "data": {
      "text/plain": [
       "True"
      ]
     },
     "execution_count": 8,
     "metadata": {},
     "output_type": "execute_result"
    }
   ],
   "source": [
    "course_scheduling(num_courses = 5, pre = [[0,1],[0,2],[1,3],[1,4],[3,4]])"
   ]
  },
  {
   "cell_type": "code",
   "execution_count": null,
   "metadata": {},
   "outputs": [],
   "source": []
  }
 ],
 "metadata": {
  "kernelspec": {
   "display_name": "Python 3",
   "language": "python",
   "name": "python3"
  },
  "language_info": {
   "codemirror_mode": {
    "name": "ipython",
    "version": 3
   },
   "file_extension": ".py",
   "mimetype": "text/x-python",
   "name": "python",
   "nbconvert_exporter": "python",
   "pygments_lexer": "ipython3",
   "version": "3.9.7"
  }
 },
 "nbformat": 4,
 "nbformat_minor": 2
}
