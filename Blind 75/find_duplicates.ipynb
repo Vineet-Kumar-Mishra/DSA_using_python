{
 "cells": [
  {
   "cell_type": "markdown",
   "metadata": {},
   "source": [
    "## Find Duplicates\n",
    "\n",
    "Given an array return true if duplicates exist else return False\n",
    "> arr = [1,2,3,4] -> False\n",
    ">\n",
    "> arr = [1,2,3,4,1] -> True"
   ]
  },
  {
   "cell_type": "markdown",
   "metadata": {},
   "source": [
    "## Method\n",
    "1. Use hashset\n",
    "2. add current element if not found in hashmap \n",
    "3. if found return True\n",
    "\n",
    "## Complexity\n",
    "1. Time = O(N)\n",
    "2. Space = O(N)"
   ]
  },
  {
   "cell_type": "code",
   "execution_count": 1,
   "metadata": {},
   "outputs": [],
   "source": [
    "def duplicates(arr):\n",
    "    hash_set = set()\n",
    "    for ele in arr:\n",
    "        if ele in hash_set:\n",
    "            return True\n",
    "        hash_set.add(ele)\n",
    "    return False"
   ]
  },
  {
   "cell_type": "code",
   "execution_count": 2,
   "metadata": {},
   "outputs": [],
   "source": [
    "test_cases = [\n",
    "            {'input':{'arr':[7,1,5,3,6,1,4]}, 'output':True},\n",
    "            {'input':{'arr':[7,1,5,3,6,10]}, 'output':False},\n",
    "            {'input':{'arr':[7,1,5,0,0,0,6,4]}, 'output':True},\n",
    "            {'input':{'arr':[7]}, 'output':False},\n",
    "            {'input':{'arr':[]}, 'output':False},\n",
    "\n",
    "]"
   ]
  },
  {
   "cell_type": "code",
   "execution_count": 3,
   "metadata": {},
   "outputs": [
    {
     "name": "stdout",
     "output_type": "stream",
     "text": [
      "Calculated True\n",
      "original True\n",
      "True\n",
      "Calculated False\n",
      "original False\n",
      "True\n",
      "Calculated True\n",
      "original True\n",
      "True\n",
      "Calculated False\n",
      "original False\n",
      "True\n",
      "Calculated False\n",
      "original False\n",
      "True\n"
     ]
    }
   ],
   "source": [
    "for tst in test_cases:\n",
    "    op = duplicates(**tst['input'])\n",
    "    print('Calculated', op)\n",
    "    print('original', tst['output'])\n",
    "    print(op==tst['output'])"
   ]
  },
  {
   "cell_type": "code",
   "execution_count": null,
   "metadata": {},
   "outputs": [],
   "source": []
  }
 ],
 "metadata": {
  "kernelspec": {
   "display_name": "Python 3",
   "language": "python",
   "name": "python3"
  },
  "language_info": {
   "codemirror_mode": {
    "name": "ipython",
    "version": 3
   },
   "file_extension": ".py",
   "mimetype": "text/x-python",
   "name": "python",
   "nbconvert_exporter": "python",
   "pygments_lexer": "ipython3",
   "version": "3.9.7"
  }
 },
 "nbformat": 4,
 "nbformat_minor": 2
}
