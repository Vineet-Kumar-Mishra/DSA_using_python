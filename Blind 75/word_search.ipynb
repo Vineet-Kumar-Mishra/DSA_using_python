{
 "cells": [
  {
   "cell_type": "markdown",
   "metadata": {},
   "source": [
    "## Word Search. Given a grid of words. Search if word is present. We can go left, right, up and down. Return True or False\n",
    " e.g. `grid = [['A','B','c','E'],['S','F','C','S',],['AD','D','E','E']]`  `word = 'ABCCED'`"
   ]
  },
  {
   "cell_type": "code",
   "execution_count": 26,
   "metadata": {},
   "outputs": [],
   "source": [
    "def word_search(grid, word):\n",
    "    path = set()\n",
    "    rows = len(grid)\n",
    "    cols = len(grid[0])\n",
    "    \n",
    "\n",
    "    def dfs(r,c,word_idx):\n",
    "        if (r<0 or c<0 or r>=rows or c>=cols or (r,c) in path or word[word_idx]!=grid[r][c]):\n",
    "            return False\n",
    "\n",
    "        # Traversed and reached last chracter of word then True\n",
    "        if word_idx==len(word)-1:\n",
    "            return True\n",
    "\n",
    "        path.add((r,c))\n",
    "\n",
    "        res = (dfs(r-1,c,word_idx+1) or dfs(r+1,c,word_idx+1) or dfs(r,c-1,word_idx+1) or dfs(r,c+1,word_idx+1))\n",
    "\n",
    "        path.remove((r,c))\n",
    "\n",
    "        return res\n",
    "\n",
    "    for r in range(rows):\n",
    "        for c in range(cols):\n",
    "            if dfs(r,c,0): return True\n",
    "    \n",
    "    return False"
   ]
  },
  {
   "cell_type": "code",
   "execution_count": 27,
   "metadata": {},
   "outputs": [],
   "source": [
    "grid = [['A','B','C','E'],['S','F','C','S'],['A','D','E','E']]\n",
    "word = \"ABCCED\"\n"
   ]
  },
  {
   "cell_type": "code",
   "execution_count": 28,
   "metadata": {},
   "outputs": [
    {
     "data": {
      "text/plain": [
       "True"
      ]
     },
     "execution_count": 28,
     "metadata": {},
     "output_type": "execute_result"
    }
   ],
   "source": [
    "word_search(grid, word)"
   ]
  },
  {
   "cell_type": "code",
   "execution_count": null,
   "metadata": {},
   "outputs": [],
   "source": []
  }
 ],
 "metadata": {
  "kernelspec": {
   "display_name": "Python 3",
   "language": "python",
   "name": "python3"
  },
  "language_info": {
   "codemirror_mode": {
    "name": "ipython",
    "version": 3
   },
   "file_extension": ".py",
   "mimetype": "text/x-python",
   "name": "python",
   "nbconvert_exporter": "python",
   "pygments_lexer": "ipython3",
   "version": "3.9.7"
  }
 },
 "nbformat": 4,
 "nbformat_minor": 2
}
