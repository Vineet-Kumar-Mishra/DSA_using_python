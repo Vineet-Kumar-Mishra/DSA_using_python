{
 "cells": [
  {
   "cell_type": "markdown",
   "metadata": {},
   "source": [
    "## Clone a graph: Deep copy\n",
    "## Node contains a val and neighbours (list of nodes)\n",
    "\n",
    "## Start from a node and proceede\n",
    "\n",
    "`Use dfs and hashmap`"
   ]
  },
  {
   "cell_type": "code",
   "execution_count": 1,
   "metadata": {},
   "outputs": [],
   "source": [
    "class Node:\n",
    "    def __init__(self, val = None, neighbours = None):\n",
    "        self.val = val\n",
    "        self.neighbours = neighbours if neighbours is not None else []"
   ]
  },
  {
   "cell_type": "code",
   "execution_count": 2,
   "metadata": {},
   "outputs": [],
   "source": [
    "def clone_graph(node):\n",
    "    old_to_new_map = {}\n",
    "\n",
    "    def dfs(node):\n",
    "        if node in old_to_new_map:\n",
    "            return old_to_new_map[node]\n",
    "    \n",
    "        copy_clone = Node(node.val)\n",
    "        old_to_new_map[node] = copy_clone\n",
    "\n",
    "        for neigh in node.neighbours:\n",
    "            copy_clone.neighbours.append(dfs(neigh))\n",
    "        return copy_clone\n",
    "\n",
    "    return dfs(node) if node else None"
   ]
  },
  {
   "cell_type": "code",
   "execution_count": 3,
   "metadata": {},
   "outputs": [],
   "source": [
    "node1 = Node(val = 1)\n",
    "node2 = Node(val = 2)\n",
    "node3 = Node(val = 3)\n",
    "node4 = Node(val = 4)\n",
    "\n",
    "node1.neighbours = [node2, node4]\n",
    "node2.neighbours = [node3, node1]\n",
    "node3.neighbours = [node2, node4]\n",
    "node4.neighbours = [node1, node3]\n"
   ]
  },
  {
   "cell_type": "code",
   "execution_count": 4,
   "metadata": {},
   "outputs": [],
   "source": [
    "def print_graph(node, visited=set()):\n",
    "    if node in visited:\n",
    "        return\n",
    "    visited.add(node)\n",
    "    print(f\"Node {node.val}: {[n.val for n in node.neighbours]}\")\n",
    "    for neighbour in node.neighbours:\n",
    "        print_graph(neighbour, visited)"
   ]
  },
  {
   "cell_type": "code",
   "execution_count": 5,
   "metadata": {},
   "outputs": [
    {
     "name": "stdout",
     "output_type": "stream",
     "text": [
      "Node 1: [2, 4]\n",
      "Node 2: [3, 1]\n",
      "Node 3: [2, 4]\n",
      "Node 4: [1, 3]\n"
     ]
    }
   ],
   "source": [
    "print_graph(node1)"
   ]
  },
  {
   "cell_type": "code",
   "execution_count": 6,
   "metadata": {},
   "outputs": [],
   "source": [
    "cloned_graph = clone_graph(node1)"
   ]
  },
  {
   "cell_type": "code",
   "execution_count": 7,
   "metadata": {},
   "outputs": [
    {
     "name": "stdout",
     "output_type": "stream",
     "text": [
      "Node 1: [2, 4]\n",
      "Node 2: [3, 1]\n",
      "Node 3: [2, 4]\n",
      "Node 4: [1, 3]\n"
     ]
    }
   ],
   "source": [
    "print_graph(cloned_graph)"
   ]
  },
  {
   "cell_type": "code",
   "execution_count": null,
   "metadata": {},
   "outputs": [],
   "source": []
  }
 ],
 "metadata": {
  "kernelspec": {
   "display_name": "Python 3",
   "language": "python",
   "name": "python3"
  },
  "language_info": {
   "codemirror_mode": {
    "name": "ipython",
    "version": 3
   },
   "file_extension": ".py",
   "mimetype": "text/x-python",
   "name": "python",
   "nbconvert_exporter": "python",
   "pygments_lexer": "ipython3",
   "version": "3.9.7"
  }
 },
 "nbformat": 4,
 "nbformat_minor": 2
}
