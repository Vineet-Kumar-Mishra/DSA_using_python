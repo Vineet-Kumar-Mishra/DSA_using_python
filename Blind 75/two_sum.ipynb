{
 "cells": [
  {
   "cell_type": "markdown",
   "metadata": {},
   "source": [
    "## Two Sum\n",
    " given an `array arr` and `target T` find two indices having sum = T\n",
    "\n",
    "> arr = [1,3,4,6]  &  T = 5 returns 1,2 (indices of 1 and 4)"
   ]
  },
  {
   "cell_type": "code",
   "execution_count": 15,
   "metadata": {},
   "outputs": [],
   "source": [
    "test_cases = [\n",
    "    {'input': {'arr':[2,1,5,3], 'T': 4}, 'output':[1,3]},\n",
    "    {'input': {'arr':[2,0,1,5,3], 'T': 2}, 'output':[0,1]},\n",
    "    {'input': {'arr':[2,1,5,3], 'T': 8}, 'output':[2,3]},\n",
    "    {'input': {'arr':[2,1,5,3], 'T': 5}, 'output':[0,3]},\n",
    "]"
   ]
  },
  {
   "cell_type": "markdown",
   "metadata": {},
   "source": [
    "## Method using Hash-Map\n",
    "1. Iterate over the list and check if the difference (target-current-element) is present in hashmap\n",
    "2. If present then return the value\n",
    "3. If not present then add the current value and it's index in hash map\n",
    "4. This way we only look at elements that are behind the current_element\n",
    "\n",
    "### Complexity\n",
    "\n",
    "1. We iterate once so T = O(N)\n",
    "2. We need extra space S = O(N)"
   ]
  },
  {
   "cell_type": "code",
   "execution_count": 16,
   "metadata": {},
   "outputs": [],
   "source": [
    "def two_sum(arr, T):\n",
    "    value_index_hash = {}\n",
    "    for idx, value in enumerate(arr):\n",
    "        diff = T-value\n",
    "        if diff in value_index_hash:\n",
    "            return [value_index_hash[diff], idx]\n",
    "        value_index_hash[value]=idx\n",
    "    return\n",
    "\n"
   ]
  },
  {
   "cell_type": "code",
   "execution_count": 18,
   "metadata": {},
   "outputs": [
    {
     "name": "stdout",
     "output_type": "stream",
     "text": [
      "generated o/P [1, 3]\n",
      "Original o/P [1, 3]\n",
      "True\n",
      "generated o/P [0, 1]\n",
      "Original o/P [0, 1]\n",
      "True\n",
      "generated o/P [2, 3]\n",
      "Original o/P [2, 3]\n",
      "True\n",
      "generated o/P [0, 3]\n",
      "Original o/P [0, 3]\n",
      "True\n"
     ]
    }
   ],
   "source": [
    "for tst in test_cases:\n",
    "    op = two_sum(**tst['input'])\n",
    "    print('generated o/P', op)\n",
    "    print('Original o/P', tst['output'])\n",
    "    print(op==tst['output'])"
   ]
  }
 ],
 "metadata": {
  "kernelspec": {
   "display_name": "Python 3",
   "language": "python",
   "name": "python3"
  },
  "language_info": {
   "codemirror_mode": {
    "name": "ipython",
    "version": 3
   },
   "file_extension": ".py",
   "mimetype": "text/x-python",
   "name": "python",
   "nbconvert_exporter": "python",
   "pygments_lexer": "ipython3",
   "version": "3.9.7"
  }
 },
 "nbformat": 4,
 "nbformat_minor": 2
}
