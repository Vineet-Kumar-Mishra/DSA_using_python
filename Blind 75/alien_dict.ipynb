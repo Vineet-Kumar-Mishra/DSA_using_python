{
 "cells": [
  {
   "cell_type": "markdown",
   "metadata": {},
   "source": [
    "## Alient Dict:\n",
    "## given sorted list of words in alien language i.e english but not lexicographic\n",
    "## find the correct sequecnce and return string\n",
    "## return \"\" if word1 < word2 and common e.g. ape, apes\n",
    "\n",
    "> e.g. a = ['wrt,'wrf,'er','ett','rftt'] --> op = 'wertf"
   ]
  },
  {
   "cell_type": "code",
   "execution_count": 1,
   "metadata": {},
   "outputs": [],
   "source": [
    "class Node:\n",
    "    def __init__(self, val = None, neighbours = None):\n",
    "        self.val = val\n",
    "        self.neighbours = neighbours if neighbours is not None else []"
   ]
  },
  {
   "cell_type": "code",
   "execution_count": 6,
   "metadata": {},
   "outputs": [],
   "source": [
    "node1 = Node(val = 1)\n",
    "node2 = Node(val = 2)\n",
    "node3 = Node(val = 3)\n",
    "node4 = Node(val = 4)\n",
    "\n",
    "node1.neighbours = [node2, node4]\n",
    "node2.neighbours = [node3]\n",
    "node4.neighbours = [node3]\n"
   ]
  },
  {
   "cell_type": "code",
   "execution_count": 32,
   "metadata": {},
   "outputs": [
    {
     "data": {
      "text/plain": [
       "{'1': set(), 'b': set(), '2': set(), '3': set()}"
      ]
     },
     "execution_count": 32,
     "metadata": {},
     "output_type": "execute_result"
    }
   ],
   "source": [
    "a = ['1b','23']\n",
    "adj = {c:set() for w in a for c in w}\n",
    "adj"
   ]
  },
  {
   "cell_type": "code",
   "execution_count": 37,
   "metadata": {},
   "outputs": [],
   "source": [
    "def alien_dict(words):\n",
    "    adj = {c:set() for w in words for c in w}\n",
    "\n",
    "    for i in range(len(words)-1):\n",
    "        word1 = words[i]\n",
    "        word2 = words[i+1]\n",
    "\n",
    "        minlen = min(len(word1), len(word2))\n",
    "\n",
    "        if len(word1) > len(word2) and word1[:minlen]==word2[:minlen]:\n",
    "            return \"\"\n",
    "        \n",
    "        for j in range(minlen):\n",
    "            if word1[j]!=word2[j]:\n",
    "                adj[word1[j]].add(word2[j])\n",
    "\n",
    "    # Post order DFS\n",
    "    visit = {} # Dict -> if True then loop (visited already but again in same path)\n",
    "                    #    if False then it's visited and not in same path\n",
    "    res = []\n",
    "\n",
    "    def dfs(c):\n",
    "        if c in visit:\n",
    "            return visit[c] # can be True (loop) or False\n",
    "        \n",
    "        visit[c] = True # initially made True so that we do dfs and look for loop\n",
    "        for nei in adj[c]:\n",
    "            if dfs(nei):\n",
    "                return True # it means loop has been detected\n",
    "        visit[c] = False # we are happy to not encounter a loop for current node\n",
    "        res.append(c) # We append at last because we start with children\n",
    "\n",
    "    for c in adj:\n",
    "        if dfs(c):\n",
    "            return \"\" # is any node has loop return empty\n",
    "        \n",
    "    res.reverse()\n",
    "    return \"\".join(res)\n",
    "\n"
   ]
  },
  {
   "cell_type": "code",
   "execution_count": 44,
   "metadata": {},
   "outputs": [
    {
     "data": {
      "text/plain": [
       "'wertf'"
      ]
     },
     "execution_count": 44,
     "metadata": {},
     "output_type": "execute_result"
    }
   ],
   "source": [
    "alien_dict(['wrt','wrf','er','ett','rftt'])"
   ]
  },
  {
   "cell_type": "code",
   "execution_count": 43,
   "metadata": {},
   "outputs": [],
   "source": [
    "def alien_dict(words):\n",
    "\n",
    "    adj = {c:set() for w in words for c in w}\n",
    "\n",
    "    for i in range(len(words)-1):\n",
    "        wr1 = words[i]\n",
    "        wr2 = words[i+1]\n",
    "\n",
    "        min_len = min(len(wr1), len(wr2))\n",
    "        \n",
    "        if len(wr1)>len(wr2) and wr1[:min_len]==wr2[:min_len]:\n",
    "            return \"\"\n",
    "        for j in range(min_len):\n",
    "            if wr1[j]!=wr2[j]:\n",
    "                adj[wr1[j]].add(wr2[j])\n",
    "\n",
    "    # postorder traversal\n",
    "    # True: when we first visit it and if no loops found while dfs we again amke it false\n",
    "    # False: Surity that it has been visited but no loop was detected\n",
    "    visit = {} \n",
    "\n",
    "    # Possibility of loop\n",
    "    # if we make True and start dfs and somehow again find it True then loop.\n",
    "    # Suppose if True but after DFS we dont see the same node again, we make it False\n",
    "    \n",
    "    res = []\n",
    "    def dfs(c):\n",
    "\n",
    "        if c in visit:\n",
    "            return visit[c] # False then we have seen it and True means result will be \"\" due to loop\n",
    "        \n",
    "        # We make it True for Ist Time\n",
    "        visit[c] = True\n",
    "\n",
    "        for neib in adj[c]:\n",
    "            # The True test begins\n",
    "            # If we again find c in it's deep neighbours it means a loop and functon will return True Directly\n",
    "            dfs(neib)\n",
    "\n",
    "        # IF loop was not found means we reach here\n",
    "        # we can mark c as false i.e. visited and not in loop\n",
    "        visit[c] = False\n",
    "\n",
    "        # Whenver something comes False means this is last and deepest neighbour without a loop\n",
    "        # we add it to result i.e. deepest child\n",
    "        res.append(c)\n",
    "\n",
    "    for c in adj:\n",
    "        if dfs(c):\n",
    "            return \"\" # If any loop was detected we make it empty\n",
    "        \n",
    "    # if safely we reach means our postorder traversal was successful\n",
    "    # reverse the res\n",
    "    res.reverse()\n",
    "    \n",
    "    return \"\".join(res)\n",
    "\n"
   ]
  },
  {
   "cell_type": "code",
   "execution_count": null,
   "metadata": {},
   "outputs": [],
   "source": []
  }
 ],
 "metadata": {
  "kernelspec": {
   "display_name": "Python 3",
   "language": "python",
   "name": "python3"
  },
  "language_info": {
   "codemirror_mode": {
    "name": "ipython",
    "version": 3
   },
   "file_extension": ".py",
   "mimetype": "text/x-python",
   "name": "python",
   "nbconvert_exporter": "python",
   "pygments_lexer": "ipython3",
   "version": "3.9.7"
  }
 },
 "nbformat": 4,
 "nbformat_minor": 2
}
