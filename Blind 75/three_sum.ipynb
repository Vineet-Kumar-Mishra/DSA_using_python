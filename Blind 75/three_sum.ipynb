{
 "cells": [
  {
   "cell_type": "markdown",
   "metadata": {},
   "source": [
    "## 3 Sum to given target"
   ]
  },
  {
   "cell_type": "code",
   "execution_count": 7,
   "metadata": {},
   "outputs": [],
   "source": [
    "def threesum(arr,T):\n",
    "    arr.sort()\n",
    "    res = []\n",
    "\n",
    "    # Start from 1s element as a\n",
    "    for i in range(len(arr)):\n",
    "\n",
    "        # skip if 2nd element is same as 1st\n",
    "        if i>0 and arr[i]==arr[i-1]:\n",
    "            continue\n",
    "        a = arr[i]\n",
    "\n",
    "        # 2 pointer loop for two sum 2 case starting l with next elemtn\n",
    "        l = i+1\n",
    "        r = len(arr)-1\n",
    "\n",
    "        while l<r:\n",
    "            cur_sum = a+arr[l]+arr[r]\n",
    "\n",
    "            # updation of pointer is important\n",
    "            if cur_sum>T:\n",
    "                r -=1\n",
    "            elif cur_sum<T:\n",
    "                l +=1\n",
    "            else:\n",
    "                res.append([a, arr[l], arr[r]])\n",
    "                l+=1\n",
    "\n",
    "                # removing duplicates same as we did for 1st loop\n",
    "                while arr[l]==arr[l+1] and l<len(arr):\n",
    "                    l+=1\n",
    "    return res"
   ]
  },
  {
   "cell_type": "code",
   "execution_count": 8,
   "metadata": {},
   "outputs": [
    {
     "data": {
      "text/plain": [
       "[[-1, -1, 2], [-1, 0, 1]]"
      ]
     },
     "execution_count": 8,
     "metadata": {},
     "output_type": "execute_result"
    }
   ],
   "source": [
    "threesum([-1,0,1,2,-1,-4],0)"
   ]
  },
  {
   "cell_type": "code",
   "execution_count": 2,
   "metadata": {},
   "outputs": [
    {
     "data": {
      "text/plain": [
       "[[-1, -1, 2], [-1, 0, 1]]"
      ]
     },
     "execution_count": 2,
     "metadata": {},
     "output_type": "execute_result"
    }
   ],
   "source": [
    "threesum([-1,0,1,2,-1,-4],0)"
   ]
  }
 ],
 "metadata": {
  "kernelspec": {
   "display_name": "Python 3",
   "language": "python",
   "name": "python3"
  },
  "language_info": {
   "codemirror_mode": {
    "name": "ipython",
    "version": 3
   },
   "file_extension": ".py",
   "mimetype": "text/x-python",
   "name": "python",
   "nbconvert_exporter": "python",
   "pygments_lexer": "ipython3",
   "version": "3.9.7"
  }
 },
 "nbformat": 4,
 "nbformat_minor": 2
}
