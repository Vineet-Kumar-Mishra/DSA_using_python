{
 "cells": [
  {
   "cell_type": "markdown",
   "metadata": {},
   "source": [
    "## Median of data strem"
   ]
  },
  {
   "cell_type": "code",
   "execution_count": 1,
   "metadata": {},
   "outputs": [],
   "source": [
    "import heapq"
   ]
  },
  {
   "cell_type": "code",
   "execution_count": 13,
   "metadata": {},
   "outputs": [],
   "source": [
    "class median_heap:\n",
    "    def __init__(self,):\n",
    "        self.first = [] ## This has to be max heap\n",
    "        self.second = [] ## This has to be min heap\n",
    "\n",
    "        # python uses lists to give heap\n",
    "\n",
    "    def add_item(self, num):\n",
    "        # we will always push to first heap\n",
    "        # If conditions of length or equivalence fail then we move to secnd heap\n",
    "        # python only has min heap so we take -ve to get max heap\n",
    "        heapq.heappush(self.first, -1*num)\n",
    "\n",
    "        # check conditions to push from first heap to second\n",
    "        if (self.first and self.second and \n",
    "        -1 * self.first[0]>self.second[0]): # check check for equivalance\n",
    "            val =-1 * heapq.heappop(self.first)\n",
    "            heapq.heappush(self.second, val)\n",
    "\n",
    "        # We'll check lengths\n",
    "        if (len(self.first)>len(self.second)+1):\n",
    "            val = -1 * heapq.heappop(self.first)\n",
    "            heapq.heappush(self.second, val)\n",
    "\n",
    "        if (len(self.second)> len(self.first)+1):\n",
    "            val = heapq.heappop(self.second)\n",
    "            heapq.heappush(self.first, -1*val)\n",
    "\n",
    "    def find_median(self):\n",
    "        if len(self.first)>len(self.second):\n",
    "            return -1*self.first[0]\n",
    "\n",
    "        elif len(self.second)>len(self.first):\n",
    "            return self.second[0]\n",
    "\n",
    "        else:\n",
    "            return (self.second[0]+(-1*self.first[0]))/2\n",
    "        "
   ]
  },
  {
   "cell_type": "code",
   "execution_count": null,
   "metadata": {},
   "outputs": [],
   "source": []
  },
  {
   "cell_type": "code",
   "execution_count": null,
   "metadata": {},
   "outputs": [],
   "source": [
    "md_heap= median_heap()\n",
    "md_heap.add_item(1)\n",
    "md_heap.add_item(2)\n",
    "md_heap.add_item(3)\n",
    "md_heap.add_item(4)\n",
    "md_heap.add_item(5)"
   ]
  },
  {
   "cell_type": "code",
   "execution_count": 16,
   "metadata": {},
   "outputs": [
    {
     "data": {
      "text/plain": [
       "[-2, -1]"
      ]
     },
     "execution_count": 16,
     "metadata": {},
     "output_type": "execute_result"
    }
   ],
   "source": [
    "md_heap.first"
   ]
  },
  {
   "cell_type": "code",
   "execution_count": 17,
   "metadata": {},
   "outputs": [
    {
     "data": {
      "text/plain": [
       "[3, 4, 5]"
      ]
     },
     "execution_count": 17,
     "metadata": {},
     "output_type": "execute_result"
    }
   ],
   "source": [
    "md_heap.second"
   ]
  },
  {
   "cell_type": "code",
   "execution_count": 18,
   "metadata": {},
   "outputs": [
    {
     "data": {
      "text/plain": [
       "3"
      ]
     },
     "execution_count": 18,
     "metadata": {},
     "output_type": "execute_result"
    }
   ],
   "source": [
    "md_heap.find_median()"
   ]
  },
  {
   "cell_type": "markdown",
   "metadata": {},
   "source": [
    "## Heap practice"
   ]
  },
  {
   "cell_type": "code",
   "execution_count": 8,
   "metadata": {},
   "outputs": [],
   "source": [
    "data = [1,2,3,40,3,5,8,90,1]"
   ]
  },
  {
   "cell_type": "code",
   "execution_count": 9,
   "metadata": {},
   "outputs": [],
   "source": [
    "heapq.heapify(data)"
   ]
  },
  {
   "cell_type": "code",
   "execution_count": 10,
   "metadata": {},
   "outputs": [
    {
     "data": {
      "text/plain": [
       "[1, 1, 3, 2, 3, 5, 8, 90, 40]"
      ]
     },
     "execution_count": 10,
     "metadata": {},
     "output_type": "execute_result"
    }
   ],
   "source": [
    "data"
   ]
  },
  {
   "cell_type": "code",
   "execution_count": 11,
   "metadata": {},
   "outputs": [
    {
     "data": {
      "text/plain": [
       "1"
      ]
     },
     "execution_count": 11,
     "metadata": {},
     "output_type": "execute_result"
    }
   ],
   "source": [
    "heapq.heappop(data)"
   ]
  },
  {
   "cell_type": "code",
   "execution_count": 12,
   "metadata": {},
   "outputs": [
    {
     "data": {
      "text/plain": [
       "[1, 2, 3, 40, 3, 5, 8, 90]"
      ]
     },
     "execution_count": 12,
     "metadata": {},
     "output_type": "execute_result"
    }
   ],
   "source": [
    "data"
   ]
  },
  {
   "cell_type": "code",
   "execution_count": 19,
   "metadata": {},
   "outputs": [],
   "source": [
    "class median_data:\n",
    "    def __init__(self):\n",
    "        self.first = []\n",
    "        self.second = []\n",
    "\n",
    "    def insert(self, data):\n",
    "\n",
    "        # always push to 1st heap\n",
    "        heapq.heappush(self.first, -1*data)\n",
    "\n",
    "        # highest element of 1st heap should always be less than lowest elemnt of 2nd heap\n",
    "        if (self.first and self.second and\n",
    "            -1*self.first[0]>self.second[0]):\n",
    "            val = -1*heapq.heappop(self.first)\n",
    "            heapq.heappush(self.second, val)\n",
    "\n",
    "        if len(self.first)>len(self.second)+1:\n",
    "            val = -1*heapq.heappop(self.first)\n",
    "            heapq.heappush(self.second, val)\n",
    "        \n",
    "        if len(self.second)>len(self.first)+1:\n",
    "            val = -1*heapq.heappop(self.second)\n",
    "            heapq.heappush(self.first, val)\n",
    "\n",
    "    def median(self):\n",
    "        if len(self.first)>len(self.second):\n",
    "            return -1*self.first[0]\n",
    "        elif len(self.second)>len(self.first):\n",
    "            return self.second[0]\n",
    "            \n",
    "        else:\n",
    "            return (-1*self.first[0]+self.second[0])/2"
   ]
  },
  {
   "cell_type": "code",
   "execution_count": 21,
   "metadata": {},
   "outputs": [],
   "source": [
    "md_heap= median_data()\n",
    "md_heap.insert(1)\n",
    "md_heap.insert(2)\n",
    "md_heap.insert(3)\n",
    "md_heap.insert(4)\n",
    "md_heap.insert(5)"
   ]
  },
  {
   "cell_type": "code",
   "execution_count": 22,
   "metadata": {},
   "outputs": [
    {
     "data": {
      "text/plain": [
       "3"
      ]
     },
     "execution_count": 22,
     "metadata": {},
     "output_type": "execute_result"
    }
   ],
   "source": [
    "md_heap.median(\n",
    "\n",
    ")"
   ]
  },
  {
   "cell_type": "code",
   "execution_count": null,
   "metadata": {},
   "outputs": [],
   "source": []
  }
 ],
 "metadata": {
  "kernelspec": {
   "display_name": "Python 3",
   "language": "python",
   "name": "python3"
  },
  "language_info": {
   "codemirror_mode": {
    "name": "ipython",
    "version": 3
   },
   "file_extension": ".py",
   "mimetype": "text/x-python",
   "name": "python",
   "nbconvert_exporter": "python",
   "pygments_lexer": "ipython3",
   "version": "3.9.7"
  }
 },
 "nbformat": 4,
 "nbformat_minor": 2
}
