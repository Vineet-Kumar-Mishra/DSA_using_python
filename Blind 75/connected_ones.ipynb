{
 "cells": [
  {
   "cell_type": "markdown",
   "metadata": {},
   "source": [
    "## Connected 1s"
   ]
  },
  {
   "cell_type": "code",
   "execution_count": 42,
   "metadata": {},
   "outputs": [],
   "source": [
    "def connected(mat):\n",
    "    rows = len(mat)\n",
    "    cols = len(mat[0])\n",
    "\n",
    "    visited = set()\n",
    "    result = 0\n",
    "\n",
    "    def dfs(r,c,length):\n",
    "        nonlocal result\n",
    "\n",
    "        if (r<0 or c<0\n",
    "            or r>=rows or c>=cols\n",
    "            or (r,c) in visited\n",
    "            or mat[r][c]==0):\n",
    "            return \n",
    "        \n",
    "        result = max(result, length)\n",
    "        \n",
    "        visited.add((r,c))\n",
    "\n",
    "\n",
    "        dfs(r-1,c,length+1)\n",
    "        dfs(r+1,c,length+1)\n",
    "        dfs(r,c-1,length+1)\n",
    "        dfs(r,c+1,length+1)\n",
    "        visited.remove((r,c))\n",
    "\n",
    "    for r in range(rows):\n",
    "        for c in range(cols):\n",
    "            if mat[r][c]==1:\n",
    "                dfs(r,c,1)\n",
    "\n",
    "    return result    \n",
    "\n",
    "\n",
    "        \n"
   ]
  },
  {
   "cell_type": "code",
   "execution_count": 43,
   "metadata": {},
   "outputs": [],
   "source": [
    "mat = [\n",
    "    [1, 1, 0, 0, 1],\n",
    "    [0, 1, 1, 0, 1],\n",
    "    [1, 0, 1, 1, 1],\n",
    "    [0, 0, 0, 1, 0]\n",
    "]\n"
   ]
  },
  {
   "cell_type": "code",
   "execution_count": 44,
   "metadata": {},
   "outputs": [
    {
     "data": {
      "text/plain": [
       "9"
      ]
     },
     "execution_count": 44,
     "metadata": {},
     "output_type": "execute_result"
    }
   ],
   "source": [
    "connected(mat)"
   ]
  },
  {
   "cell_type": "code",
   "execution_count": null,
   "metadata": {},
   "outputs": [],
   "source": []
  },
  {
   "cell_type": "code",
   "execution_count": null,
   "metadata": {},
   "outputs": [],
   "source": []
  }
 ],
 "metadata": {
  "kernelspec": {
   "display_name": "Python 3",
   "language": "python",
   "name": "python3"
  },
  "language_info": {
   "codemirror_mode": {
    "name": "ipython",
    "version": 3
   },
   "file_extension": ".py",
   "mimetype": "text/x-python",
   "name": "python",
   "nbconvert_exporter": "python",
   "pygments_lexer": "ipython3",
   "version": "3.9.7"
  }
 },
 "nbformat": 4,
 "nbformat_minor": 2
}
