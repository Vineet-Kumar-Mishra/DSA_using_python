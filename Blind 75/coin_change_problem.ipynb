{
 "cells": [
  {
   "cell_type": "markdown",
   "metadata": {},
   "source": [
    "## Given an amount and list of coins. Find minimum ways to get the amount from these coin. Consider we have infinite coins\n",
    "> coins = [1,3,4,5]  amount = 7 --> o/p = 2  (3,4)\n",
    "> `DP Dpoblem`"
   ]
  },
  {
   "cell_type": "code",
   "execution_count": 2,
   "metadata": {},
   "outputs": [],
   "source": [
    "def coin_changes(amount, coins):\n",
    "    dp = [amount+1] * (amount+1) # we need from 0 to amount and set max amount in each cell\n",
    "    dp[0] = 0 # base case --> to get 0 rupees we need 0 coins\n",
    "\n",
    "    for i in range(1, amount+1):\n",
    "        for coin in coins:\n",
    "            remain_amount_using_coin = i-coin\n",
    "            if remain_amount_using_coin >=0:\n",
    "                dp[i] = min(dp[i], 1+dp[remain_amount_using_coin])\n",
    "        \n",
    "    if dp[-1] != amount+1:\n",
    "        return dp[-1]\n",
    "    else:\n",
    "        return -1"
   ]
  },
  {
   "cell_type": "code",
   "execution_count": 4,
   "metadata": {},
   "outputs": [
    {
     "data": {
      "text/plain": [
       "2"
      ]
     },
     "execution_count": 4,
     "metadata": {},
     "output_type": "execute_result"
    }
   ],
   "source": [
    "# output = 2\n",
    "coin_changes(7, [1,3,4,5])"
   ]
  },
  {
   "cell_type": "code",
   "execution_count": 5,
   "metadata": {},
   "outputs": [
    {
     "data": {
      "text/plain": [
       "3"
      ]
     },
     "execution_count": 5,
     "metadata": {},
     "output_type": "execute_result"
    }
   ],
   "source": [
    "# output = 3\n",
    "coin_changes(11, [1,2,5])"
   ]
  },
  {
   "cell_type": "code",
   "execution_count": 6,
   "metadata": {},
   "outputs": [
    {
     "data": {
      "text/plain": [
       "-1"
      ]
     },
     "execution_count": 6,
     "metadata": {},
     "output_type": "execute_result"
    }
   ],
   "source": [
    "# output = -1\n",
    "coin_changes(3, [2])"
   ]
  },
  {
   "cell_type": "code",
   "execution_count": null,
   "metadata": {},
   "outputs": [],
   "source": []
  }
 ],
 "metadata": {
  "kernelspec": {
   "display_name": "Python 3",
   "language": "python",
   "name": "python3"
  },
  "language_info": {
   "codemirror_mode": {
    "name": "ipython",
    "version": 3
   },
   "file_extension": ".py",
   "mimetype": "text/x-python",
   "name": "python",
   "nbconvert_exporter": "python",
   "pygments_lexer": "ipython3",
   "version": "3.9.7"
  }
 },
 "nbformat": 4,
 "nbformat_minor": 2
}
