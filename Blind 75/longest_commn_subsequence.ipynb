{
 "cells": [
  {
   "cell_type": "markdown",
   "metadata": {},
   "source": [
    "## Finding longest common subsequence given 2 array\n",
    "> e.g text1 = 'abcde'  and text2 = 'ace'  --> o/p = 3\n",
    ">\n",
    "> 'ace' match"
   ]
  },
  {
   "cell_type": "code",
   "execution_count": 16,
   "metadata": {},
   "outputs": [],
   "source": [
    "def longest_common_subsequence(text1, text2):\n",
    "    dp = [[0 for _ in range(len(text1)+1)] for _ in range(len(text2)+1)]\n",
    "    longest_string = ''\n",
    "    for i in range(len(text2)-1, -1, -1):\n",
    "        for j in range(len(text1)-1,-1,-1):\n",
    "            # print(text2[i], text1[j])\n",
    "            if text2[i]==text1[j]:\n",
    "                dp[i][j] = 1+dp[i+1][j+1]\n",
    "                longest_string = text1[j]+longest_string\n",
    "            else:\n",
    "                dp[i][j] = max(dp[i][j+1], dp[i+1][j])\n",
    "\n",
    "    return dp[0][0], longest_string\n"
   ]
  },
  {
   "cell_type": "code",
   "execution_count": 17,
   "metadata": {},
   "outputs": [
    {
     "data": {
      "text/plain": [
       "(3, 'ace')"
      ]
     },
     "execution_count": 17,
     "metadata": {},
     "output_type": "execute_result"
    }
   ],
   "source": [
    "longest_common_subsequence('abcde','ace')"
   ]
  },
  {
   "cell_type": "code",
   "execution_count": 19,
   "metadata": {},
   "outputs": [
    {
     "data": {
      "text/plain": [
       "(5, 'aceft')"
      ]
     },
     "execution_count": 19,
     "metadata": {},
     "output_type": "execute_result"
    }
   ],
   "source": [
    "longest_common_subsequence('abcdefgt','aceftk')\n"
   ]
  },
  {
   "cell_type": "code",
   "execution_count": null,
   "metadata": {},
   "outputs": [],
   "source": []
  }
 ],
 "metadata": {
  "kernelspec": {
   "display_name": "Python 3",
   "language": "python",
   "name": "python3"
  },
  "language_info": {
   "codemirror_mode": {
    "name": "ipython",
    "version": 3
   },
   "file_extension": ".py",
   "mimetype": "text/x-python",
   "name": "python",
   "nbconvert_exporter": "python",
   "pygments_lexer": "ipython3",
   "version": "3.9.7"
  }
 },
 "nbformat": 4,
 "nbformat_minor": 2
}
