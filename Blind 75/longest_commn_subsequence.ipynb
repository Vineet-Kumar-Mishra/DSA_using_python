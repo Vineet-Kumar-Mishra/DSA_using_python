{
 "cells": [
  {
   "cell_type": "markdown",
   "metadata": {},
   "source": [
    "## Finding longest common subsequence given 2 array\n",
    "> e.g text1 = 'abcde'  and text2 = 'ace'  --> o/p = 3\n",
    ">\n",
    "> 'ace' match"
   ]
  },
  {
   "cell_type": "code",
   "execution_count": 1,
   "metadata": {},
   "outputs": [],
   "source": [
    "def longest_common_subsequence(text1, text2):\n",
    "    dp = [[0 for _ in range(len(text1)+1)] for _ in range(len(text2)+1)]\n",
    "    longest_string = ''\n",
    "    for i in range(len(text2)-1, -1, -1):\n",
    "        for j in range(len(text1)-1,-1,-1):\n",
    "            # print(text2[i], text1[j])\n",
    "            if text2[i]==text1[j]:\n",
    "                dp[i][j] = 1+dp[i+1][j+1]\n",
    "                longest_string = text1[j]+longest_string\n",
    "            else:\n",
    "                dp[i][j] = max(dp[i][j+1], dp[i+1][j])\n",
    "    for i in dp:\n",
    "        print(i)\n",
    "    return dp[0][0], longest_string\n"
   ]
  },
  {
   "cell_type": "code",
   "execution_count": 2,
   "metadata": {},
   "outputs": [
    {
     "name": "stdout",
     "output_type": "stream",
     "text": [
      "[3, 2, 2, 1, 1, 0]\n",
      "[2, 2, 2, 1, 1, 0]\n",
      "[1, 1, 1, 1, 1, 0]\n",
      "[0, 0, 0, 0, 0, 0]\n"
     ]
    },
    {
     "data": {
      "text/plain": [
       "(3, 'ace')"
      ]
     },
     "execution_count": 2,
     "metadata": {},
     "output_type": "execute_result"
    }
   ],
   "source": [
    "longest_common_subsequence('abcde','ace')"
   ]
  },
  {
   "cell_type": "code",
   "execution_count": 3,
   "metadata": {},
   "outputs": [
    {
     "name": "stdout",
     "output_type": "stream",
     "text": [
      "[5, 4, 4, 3, 3, 2, 1, 1, 0]\n",
      "[4, 4, 4, 3, 3, 2, 1, 1, 0]\n",
      "[3, 3, 3, 3, 3, 2, 1, 1, 0]\n",
      "[2, 2, 2, 2, 2, 2, 1, 1, 0]\n",
      "[1, 1, 1, 1, 1, 1, 1, 1, 0]\n",
      "[0, 0, 0, 0, 0, 0, 0, 0, 0]\n",
      "[0, 0, 0, 0, 0, 0, 0, 0, 0]\n"
     ]
    },
    {
     "data": {
      "text/plain": [
       "(5, 'aceft')"
      ]
     },
     "execution_count": 3,
     "metadata": {},
     "output_type": "execute_result"
    }
   ],
   "source": [
    "longest_common_subsequence('abcdefgt','aceftk')\n"
   ]
  },
  {
   "cell_type": "code",
   "execution_count": null,
   "metadata": {},
   "outputs": [],
   "source": []
  }
 ],
 "metadata": {
  "kernelspec": {
   "display_name": "Python 3",
   "language": "python",
   "name": "python3"
  },
  "language_info": {
   "codemirror_mode": {
    "name": "ipython",
    "version": 3
   },
   "file_extension": ".py",
   "mimetype": "text/x-python",
   "name": "python",
   "nbconvert_exporter": "python",
   "pygments_lexer": "ipython3",
   "version": "3.9.7"
  }
 },
 "nbformat": 4,
 "nbformat_minor": 2
}
