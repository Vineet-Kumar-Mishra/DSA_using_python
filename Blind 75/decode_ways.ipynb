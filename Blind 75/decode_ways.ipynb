{
 "cells": [
  {
   "cell_type": "markdown",
   "metadata": {},
   "source": [
    "## Decode ways: number of ways the message can be decoded from given sring of numbers.\n",
    "> e.g \"1234\" --> [1,2,3,4], [1,23,4],[12,3,4]"
   ]
  },
  {
   "cell_type": "code",
   "execution_count": 5,
   "metadata": {},
   "outputs": [],
   "source": [
    "def numDecodings(s: str) -> int:\n",
    "    if not s or s[0] == '0':\n",
    "        return 0\n",
    "\n",
    "    prev2, prev1 = 1, 1  # Base cases\n",
    "\n",
    "    for i in range(1, len(s)):\n",
    "        curr = 0  # Stores dp[i]\n",
    "\n",
    "        # Check single-digit decode\n",
    "        if 1 <= int(s[i]) <= 9:\n",
    "            curr += prev1\n",
    "\n",
    "        # Check two-digit decode\n",
    "        if 10 <= int(s[i-1:i+1]) <= 26:\n",
    "            curr += prev2\n",
    "        print(s[i], ':',prev2, prev1, curr)\n",
    "\n",
    "        # Update variables for next step\n",
    "        prev2, prev1 = prev1, curr  \n",
    "\n",
    "    return prev1\n"
   ]
  },
  {
   "cell_type": "code",
   "execution_count": 7,
   "metadata": {},
   "outputs": [
    {
     "name": "stdout",
     "output_type": "stream",
     "text": [
      "2 : 1 1 2\n",
      "3 : 1 2 3\n",
      "6 : 2 3 3\n"
     ]
    },
    {
     "data": {
      "text/plain": [
       "3"
      ]
     },
     "execution_count": 7,
     "metadata": {},
     "output_type": "execute_result"
    }
   ],
   "source": [
    "numDecodings('1236')"
   ]
  },
  {
   "cell_type": "code",
   "execution_count": 8,
   "metadata": {},
   "outputs": [],
   "source": [
    "def numdecode(s):\n",
    "\n",
    "    def dp(i):\n",
    "        if i>= len(s): return 1\n",
    "        elif s[i] =='0': return 0\n",
    "\n",
    "        if i <len(s)-1 and int(s[i:i+2]) <=26:\n",
    "            return dp(i+1) +dp(i+2)\n",
    "        else:\n",
    "            return dp(i+1)\n",
    "    return dp(0)"
   ]
  },
  {
   "cell_type": "code",
   "execution_count": 9,
   "metadata": {},
   "outputs": [
    {
     "data": {
      "text/plain": [
       "3"
      ]
     },
     "execution_count": 9,
     "metadata": {},
     "output_type": "execute_result"
    }
   ],
   "source": [
    "numdecode('1236')"
   ]
  },
  {
   "cell_type": "code",
   "execution_count": null,
   "metadata": {},
   "outputs": [],
   "source": []
  }
 ],
 "metadata": {
  "kernelspec": {
   "display_name": "Python 3",
   "language": "python",
   "name": "python3"
  },
  "language_info": {
   "codemirror_mode": {
    "name": "ipython",
    "version": 3
   },
   "file_extension": ".py",
   "mimetype": "text/x-python",
   "name": "python",
   "nbconvert_exporter": "python",
   "pygments_lexer": "ipython3",
   "version": "3.9.7"
  }
 },
 "nbformat": 4,
 "nbformat_minor": 2
}
