{
 "cells": [
  {
   "cell_type": "markdown",
   "metadata": {},
   "source": [
    "## Kth smalest element in BST\n",
    "## Obtained using inorder traveral\n"
   ]
  },
  {
   "cell_type": "code",
   "execution_count": 7,
   "metadata": {},
   "outputs": [],
   "source": [
    "class TreeNode:\n",
    "    def __init__(self, val=0, left=None, right=None):\n",
    "        self.val = val\n",
    "        self.left = left\n",
    "        self.right = right\n",
    "\n",
    "def build_tree():\n",
    "    # Creating nodes\n",
    "    root = TreeNode(1)\n",
    "    root.left = TreeNode(2)\n",
    "    root.right = TreeNode(3)\n",
    "    root.left.left = TreeNode(4)\n",
    "    root.left.right = TreeNode(5)\n",
    "    root.right.left = TreeNode(6)\n",
    "    root.right.right = TreeNode(7)\n",
    "\n",
    "    return root  # Returning the root of the tree\n",
    "\n",
    "def build_bst():\n",
    "    # Creating nodes\n",
    "    root = TreeNode(5)\n",
    "    root.left = TreeNode(3)\n",
    "    root.right = TreeNode(7)\n",
    "    root.right.left = TreeNode(6)\n",
    "    root.right.right = TreeNode(9)\n",
    "    return root\n",
    "    \n",
    "def print_tree(root, level=0, prefix=\"Root: \"):\n",
    "    if root:\n",
    "        print(\" \" * (level * 4) + prefix + str(root.val))\n",
    "        print_tree(root.left, level + 1, \"L--- \")\n",
    "        print_tree(root.right, level + 1, \"R--- \")"
   ]
  },
  {
   "cell_type": "code",
   "execution_count": 8,
   "metadata": {},
   "outputs": [],
   "source": [
    "bst = build_bst()"
   ]
  },
  {
   "cell_type": "code",
   "execution_count": 9,
   "metadata": {},
   "outputs": [
    {
     "name": "stdout",
     "output_type": "stream",
     "text": [
      "Root: 5\n",
      "    L--- 3\n",
      "    R--- 7\n",
      "        L--- 6\n",
      "        R--- 9\n"
     ]
    }
   ],
   "source": [
    "print_tree(bst)"
   ]
  },
  {
   "cell_type": "code",
   "execution_count": 10,
   "metadata": {},
   "outputs": [],
   "source": [
    "def inorder_traverse(root):\n",
    "    if not root:\n",
    "        return []\n",
    "    \n",
    "    return inorder_traverse(root.left) + [root.val] + inorder_traverse(root.right)"
   ]
  },
  {
   "cell_type": "code",
   "execution_count": 11,
   "metadata": {},
   "outputs": [
    {
     "data": {
      "text/plain": [
       "[3, 5, 6, 7, 9]"
      ]
     },
     "execution_count": 11,
     "metadata": {},
     "output_type": "execute_result"
    }
   ],
   "source": [
    "inorder_traverse(bst)"
   ]
  },
  {
   "cell_type": "code",
   "execution_count": 20,
   "metadata": {},
   "outputs": [],
   "source": [
    "def kth_smallest_recur(root, k):\n",
    "    res = None\n",
    "    count=0\n",
    "\n",
    "    def inorder(root):\n",
    "        nonlocal res, count\n",
    "        if not root:\n",
    "            return\n",
    "        \n",
    "        inorder(root.left)\n",
    "        # We are here means we found None\n",
    "\n",
    "        # the current node we have does not have a left\n",
    "        # we check current nodes val\n",
    "        count+=1\n",
    "\n",
    "        if count==k:\n",
    "            res = root.val\n",
    "            return\n",
    "        inorder(root.right)\n",
    "\n",
    "    inorder(root)\n",
    "    return res "
   ]
  },
  {
   "cell_type": "code",
   "execution_count": 21,
   "metadata": {},
   "outputs": [
    {
     "data": {
      "text/plain": [
       "5"
      ]
     },
     "execution_count": 21,
     "metadata": {},
     "output_type": "execute_result"
    }
   ],
   "source": [
    "kth_smallest_recur(bst, 2)"
   ]
  },
  {
   "cell_type": "code",
   "execution_count": 30,
   "metadata": {},
   "outputs": [],
   "source": [
    "def kth_smallest_stack(root, k):\n",
    "    stack = []\n",
    "    count=0\n",
    "    cur = root\n",
    "\n",
    "    while True:\n",
    "        while cur:\n",
    "            stack.append(cur)\n",
    "            cur = cur.left\n",
    "        \n",
    "        cur = stack.pop()\n",
    "        count+=1\n",
    "\n",
    "        if count==k:\n",
    "            return cur.val\n",
    "        cur = cur.right\n",
    "\n",
    "    \n"
   ]
  },
  {
   "cell_type": "code",
   "execution_count": 31,
   "metadata": {},
   "outputs": [
    {
     "data": {
      "text/plain": [
       "5"
      ]
     },
     "execution_count": 31,
     "metadata": {},
     "output_type": "execute_result"
    }
   ],
   "source": [
    "kth_smallest_stack(bst, 2)"
   ]
  },
  {
   "cell_type": "code",
   "execution_count": null,
   "metadata": {},
   "outputs": [],
   "source": []
  }
 ],
 "metadata": {
  "kernelspec": {
   "display_name": "Python 3",
   "language": "python",
   "name": "python3"
  },
  "language_info": {
   "codemirror_mode": {
    "name": "ipython",
    "version": 3
   },
   "file_extension": ".py",
   "mimetype": "text/x-python",
   "name": "python",
   "nbconvert_exporter": "python",
   "pygments_lexer": "ipython3",
   "version": "3.9.7"
  }
 },
 "nbformat": 4,
 "nbformat_minor": 2
}
