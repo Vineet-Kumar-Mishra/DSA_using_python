{
 "cells": [
  {
   "cell_type": "markdown",
   "metadata": {},
   "source": [
    "## Find min element in rotated sorted list\n",
    "> arr = [4,5,6,7,0,1,2]  o/p = 0\n",
    ">\n",
    "> arr  = [1,2,3,4,5,6,7]  o/p = 1\n",
    ">\n",
    "> arr = [3,2,5,1,2]  o/p = 1"
   ]
  },
  {
   "cell_type": "code",
   "execution_count": 87,
   "metadata": {},
   "outputs": [],
   "source": [
    "def search_min_element(arr):\n",
    "    l = 0\n",
    "    r = len(arr)-1\n",
    "    print(arr)    \n",
    "    while l<=r:\n",
    "        mid = (l+r)//2\n",
    "\n",
    "        # print(l,mid,r)\n",
    "        if arr[l]<=arr[r]:\n",
    "            return arr[l]\n",
    "        \n",
    "        if arr[l]<=arr[mid]:\n",
    "            l = mid+1\n",
    "        else:\n",
    "            r = mid-1\n",
    "    return -1\n"
   ]
  },
  {
   "cell_type": "code",
   "execution_count": 92,
   "metadata": {},
   "outputs": [],
   "source": [
    "a = [[4,5,6,7,0,1,2],  \n",
    "    [1,2,3,4,5,6,7],  \n",
    "    [3,2,5,1,2],\n",
    "    [8,1,2,3,4,5]]"
   ]
  },
  {
   "cell_type": "code",
   "execution_count": 89,
   "metadata": {},
   "outputs": [
    {
     "name": "stdout",
     "output_type": "stream",
     "text": [
      "[4, 5, 6, 7, 0, 1, 2]\n",
      "0\n",
      "[1, 2, 3, 4, 5, 6, 7]\n",
      "1\n",
      "[3, 2, 5, 1, 2]\n",
      "1\n",
      "[8, 1, 2, 3, 4, 5]\n",
      "1\n"
     ]
    }
   ],
   "source": [
    "for i in a:\n",
    "    print(search_min_element(i))"
   ]
  },
  {
   "cell_type": "code",
   "execution_count": 96,
   "metadata": {},
   "outputs": [],
   "source": [
    "def search_pivot(arr):\n",
    "    l = 0\n",
    "    r = len(arr)-1\n",
    "    print(arr)\n",
    "\n",
    "    while l<=r:\n",
    "        mid = (l+r)//2\n",
    "\n",
    "        if arr[l]<=arr[r]:\n",
    "            return arr[l], arr[mid], l\n",
    "        if arr[l]>=arr[mid]:\n",
    "            r = mid-1\n",
    "        else:\n",
    "            l = mid+1\n",
    "    return -1"
   ]
  },
  {
   "cell_type": "code",
   "execution_count": 97,
   "metadata": {},
   "outputs": [
    {
     "name": "stdout",
     "output_type": "stream",
     "text": [
      "[4, 5, 6, 7, 0, 1, 2]\n",
      "(0, 1, 4)\n",
      "[1, 2, 3, 4, 5, 6, 7]\n",
      "(1, 4, 0)\n",
      "[3, 2, 5, 1, 2]\n",
      "(1, 1, 3)\n",
      "[8, 1, 2, 3, 4, 5]\n",
      "-1\n"
     ]
    }
   ],
   "source": [
    "for i in a:\n",
    "    print(search_pivot(i))"
   ]
  },
  {
   "cell_type": "markdown",
   "metadata": {},
   "source": []
  }
 ],
 "metadata": {
  "kernelspec": {
   "display_name": "Python 3",
   "language": "python",
   "name": "python3"
  },
  "language_info": {
   "codemirror_mode": {
    "name": "ipython",
    "version": 3
   },
   "file_extension": ".py",
   "mimetype": "text/x-python",
   "name": "python",
   "nbconvert_exporter": "python",
   "pygments_lexer": "ipython3",
   "version": "3.9.7"
  }
 },
 "nbformat": 4,
 "nbformat_minor": 2
}
