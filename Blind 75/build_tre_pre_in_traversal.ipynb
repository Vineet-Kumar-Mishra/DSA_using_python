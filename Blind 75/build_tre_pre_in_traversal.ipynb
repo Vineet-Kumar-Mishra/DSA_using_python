{
 "cells": [
  {
   "cell_type": "markdown",
   "metadata": {},
   "source": [
    "## Build Tree: Given preorder and inorder list. Build a tree\n",
    "## preorder = node, left_tree, right_tree\n",
    "## inorder = left_tree, node, right_tree"
   ]
  },
  {
   "cell_type": "code",
   "execution_count": 6,
   "metadata": {},
   "outputs": [],
   "source": [
    "class TreeNode:\n",
    "    def __init__(self, val=0, left=None, right=None):\n",
    "        self.val = val\n",
    "        self.left = left\n",
    "        self.right = right"
   ]
  },
  {
   "cell_type": "code",
   "execution_count": 10,
   "metadata": {},
   "outputs": [],
   "source": [
    "def print_tree(root, level=0, prefix=\"Root: \"):\n",
    "    if root:\n",
    "        print(\" \" * (level * 4) + prefix + str(root.val))\n",
    "        print_tree(root.left, level + 1, \"L--- \")\n",
    "        print_tree(root.right, level + 1, \"R--- \")\n"
   ]
  },
  {
   "cell_type": "code",
   "execution_count": 7,
   "metadata": {},
   "outputs": [],
   "source": [
    "def build_tree(pre_order, inorder):\n",
    "\n",
    "    # base case of None\n",
    "    if not pre_order and not inorder:\n",
    "        return None\n",
    "    # the 1st item of preorder will always be the root node of tree\n",
    "    node = TreeNode(pre_order[0])\n",
    "\n",
    "    # We need to know how many elemenst will go in left subtree and right subtree\n",
    "    # The inorder will help decide\n",
    "    mid = inorder.index(pre_order[0])\n",
    "    # Since oth element already used 1 to mid will go in left tree and from mid+1 to last will go in right tree\n",
    "    node.left = build_tree(pre_order[1:mid+1], inorder[:mid]) # inorder upto mid (excluding mid)\n",
    "    node.right = build_tree(pre_order[mid+1:], inorder[mid+1:]) #inorde from mid+1 to last\n",
    "\n",
    "    return node"
   ]
  },
  {
   "cell_type": "code",
   "execution_count": 8,
   "metadata": {},
   "outputs": [],
   "source": [
    "pre_order = [3,9,20,15,7]\n",
    "in_order = [9,3,15,20,7]"
   ]
  },
  {
   "cell_type": "code",
   "execution_count": 9,
   "metadata": {},
   "outputs": [],
   "source": [
    "tree_built = build_tree(pre_order,in_order)"
   ]
  },
  {
   "cell_type": "code",
   "execution_count": 11,
   "metadata": {},
   "outputs": [
    {
     "name": "stdout",
     "output_type": "stream",
     "text": [
      "Root: 3\n",
      "    L--- 9\n",
      "    R--- 20\n",
      "        L--- 15\n",
      "        R--- 7\n"
     ]
    }
   ],
   "source": [
    "print_tree(tree_built)"
   ]
  },
  {
   "cell_type": "code",
   "execution_count": null,
   "metadata": {},
   "outputs": [],
   "source": []
  }
 ],
 "metadata": {
  "kernelspec": {
   "display_name": "Python 3",
   "language": "python",
   "name": "python3"
  },
  "language_info": {
   "codemirror_mode": {
    "name": "ipython",
    "version": 3
   },
   "file_extension": ".py",
   "mimetype": "text/x-python",
   "name": "python",
   "nbconvert_exporter": "python",
   "pygments_lexer": "ipython3",
   "version": "3.9.7"
  }
 },
 "nbformat": 4,
 "nbformat_minor": 2
}
