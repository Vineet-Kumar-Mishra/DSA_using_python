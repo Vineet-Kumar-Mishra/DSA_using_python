{
 "cells": [
  {
   "cell_type": "markdown",
   "metadata": {},
   "source": [
    "## Merge K lists\n",
    "## Use Merge Sort Technique"
   ]
  },
  {
   "cell_type": "code",
   "execution_count": 49,
   "metadata": {},
   "outputs": [],
   "source": [
    "# Doing for simple array\n",
    "\n",
    "def merge_sort(arr):\n",
    "\n",
    "    if len(arr)<=1:\n",
    "        return arr\n",
    "\n",
    "    mid = len(arr)//2\n",
    "    left_half = merge_sort(arr[:mid])\n",
    "    right_half = merge_sort(arr[mid:])\n",
    "\n",
    "    return merge(left_half, right_half)\n",
    "\n",
    "\n",
    "\n",
    "def merge(l1,l2):\n",
    "    p1, p2 = 0,0\n",
    "\n",
    "    sorted_list = []\n",
    "\n",
    "    while p1<len(l1) and p2<len(l2):\n",
    "        if l1[p1]<l2[p2]:\n",
    "            sorted_list.append(l1[p1])\n",
    "            p1+=1\n",
    "        else:\n",
    "            sorted_list.append(l2[p2])\n",
    "            p2+=1\n",
    "        \n",
    "    sorted_list.extend(l1[p1:])\n",
    "    sorted_list.extend(l2[p2:])\n",
    "\n",
    "    return sorted_list\n"
   ]
  },
  {
   "cell_type": "code",
   "execution_count": 50,
   "metadata": {},
   "outputs": [
    {
     "data": {
      "text/plain": [
       "[1, 2, 4, 7, 14, 88]"
      ]
     },
     "execution_count": 50,
     "metadata": {},
     "output_type": "execute_result"
    }
   ],
   "source": [
    "merge_sort([2,4,1,7,88,14])"
   ]
  },
  {
   "cell_type": "markdown",
   "metadata": {},
   "source": [
    "## merge k linked list"
   ]
  },
  {
   "cell_type": "code",
   "execution_count": 51,
   "metadata": {},
   "outputs": [],
   "source": [
    "class Node:\n",
    "    def __init__(self, val = 0, next = None):\n",
    "        self.val = val\n",
    "        self.next = next\n",
    "        \n",
    "class linked_list:\n",
    "    def __init__(self, head = None):\n",
    "        self.head = head\n",
    "\n",
    "    def insert_item(self, item):\n",
    "        if not self.head:\n",
    "            self.head = Node(item)\n",
    "        else:\n",
    "            ptr = self.head\n",
    "            while ptr.next:\n",
    "                ptr = ptr.next\n",
    "            ptr.next = Node(item)\n",
    "    def insert_items(self, list_items):\n",
    "        for item in list_items:\n",
    "            self.insert_item(item)\n",
    "\n",
    "\n",
    "def print_linked_list(head):\n",
    "    current = head\n",
    "    while current:\n",
    "        print(current.val, end=\" -> \")\n",
    "        current = current.next\n",
    "    print(\"None\")\n"
   ]
  },
  {
   "cell_type": "code",
   "execution_count": 52,
   "metadata": {},
   "outputs": [],
   "source": [
    "def merge_linked_list(lists):\n",
    "    if not lists or len(lists)==0:\n",
    "        return None\n",
    "    \n",
    "    while len(lists)>1:\n",
    "        merge_list = []\n",
    "\n",
    "        for i in range(0,len(lists),2):\n",
    "            l1 = lists[i]\n",
    "            if i+1 < len(lists):\n",
    "                l2 = lists[i+1]\n",
    "                merge_list.append(merge_2_ll(l1, l2))\n",
    "            else:\n",
    "                merge_list.append(l1)\n",
    "        lists = merge_list\n",
    "    return merge_list[0]\n",
    "    \n",
    "\n",
    "def merge_2_ll(l1,l2):\n",
    "    op = linked_list(Node('dummy'))\n",
    "    tail = op\n",
    "\n",
    "    while l1 and l2:\n",
    "        if l1.val<l2.val:\n",
    "            tail.next = l1\n",
    "            l1 = l1.next\n",
    "        else:\n",
    "            tail.next = l2\n",
    "            l2 = l2.next\n",
    "        \n",
    "        tail = tail.next\n",
    "\n",
    "    if l1:\n",
    "        tail.next = l1\n",
    "    if l2:\n",
    "        tail.next = l2\n",
    "\n",
    "    return op.next"
   ]
  },
  {
   "cell_type": "code",
   "execution_count": 53,
   "metadata": {},
   "outputs": [],
   "source": [
    "l1 = linked_list()\n",
    "l2 = linked_list()\n",
    "l3 = linked_list()"
   ]
  },
  {
   "cell_type": "code",
   "execution_count": 54,
   "metadata": {},
   "outputs": [],
   "source": [
    "l1.insert_items([1,2,5])\n",
    "l2.insert_items([2,4,7])\n",
    "l3.insert_items([3,8,9])"
   ]
  },
  {
   "cell_type": "code",
   "execution_count": 55,
   "metadata": {},
   "outputs": [
    {
     "name": "stdout",
     "output_type": "stream",
     "text": [
      "1 -> 2 -> 5 -> None\n",
      "2 -> 4 -> 7 -> None\n",
      "3 -> 8 -> 9 -> None\n"
     ]
    }
   ],
   "source": [
    "print_linked_list(l1.head)\n",
    "print_linked_list(l2.head)\n",
    "print_linked_list(l3.head)"
   ]
  },
  {
   "cell_type": "code",
   "execution_count": 56,
   "metadata": {},
   "outputs": [],
   "source": [
    "merged_list = merge_linked_list([l1.head,l2.head,l3.head])"
   ]
  },
  {
   "cell_type": "code",
   "execution_count": 57,
   "metadata": {},
   "outputs": [
    {
     "data": {
      "text/plain": [
       "<__main__.Node at 0x202223d6d60>"
      ]
     },
     "execution_count": 57,
     "metadata": {},
     "output_type": "execute_result"
    }
   ],
   "source": [
    "merged_list"
   ]
  },
  {
   "cell_type": "code",
   "execution_count": 58,
   "metadata": {},
   "outputs": [
    {
     "name": "stdout",
     "output_type": "stream",
     "text": [
      "1 -> 2 -> 2 -> 3 -> 4 -> 5 -> 7 -> 8 -> 9 -> None\n"
     ]
    }
   ],
   "source": [
    "print_linked_list(merged_list)"
   ]
  },
  {
   "cell_type": "code",
   "execution_count": null,
   "metadata": {},
   "outputs": [],
   "source": []
  }
 ],
 "metadata": {
  "kernelspec": {
   "display_name": "Python 3",
   "language": "python",
   "name": "python3"
  },
  "language_info": {
   "codemirror_mode": {
    "name": "ipython",
    "version": 3
   },
   "file_extension": ".py",
   "mimetype": "text/x-python",
   "name": "python",
   "nbconvert_exporter": "python",
   "pygments_lexer": "ipython3",
   "version": "3.9.7"
  }
 },
 "nbformat": 4,
 "nbformat_minor": 2
}
