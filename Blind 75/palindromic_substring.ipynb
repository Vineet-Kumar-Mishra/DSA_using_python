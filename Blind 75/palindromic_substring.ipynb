{
 "cells": [
  {
   "cell_type": "markdown",
   "metadata": {},
   "source": [
    "## palindromic subsequence\n",
    "> e.g = 'abc' --> ['a','b','c']\n",
    ">\n",
    "> e.g = 'aaa' --> op = ['a','a','a','aa','aa','aaa']"
   ]
  },
  {
   "cell_type": "code",
   "execution_count": 10,
   "metadata": {},
   "outputs": [],
   "source": [
    "def all_palindrom(s):\n",
    "    res= []\n",
    "    \n",
    "    for i in range(len(s)):\n",
    "        l,r = i,i\n",
    "        \n",
    "        while l>=0 and r<len(s) and s[l]==s[r]:\n",
    "            res.append(s[l:r+1])\n",
    "            l-=1\n",
    "            r+=1\n",
    "\n",
    "        l = i\n",
    "        r = i+1\n",
    "        while l>=0 and r<len(s) and s[l]==s[r]:\n",
    "            res.append(s[l:r+1])\n",
    "            l-=1\n",
    "            r+=1\n",
    "\n",
    "    res.sort()\n",
    "    return res"
   ]
  },
  {
   "cell_type": "code",
   "execution_count": 11,
   "metadata": {},
   "outputs": [
    {
     "data": {
      "text/plain": [
       "['a', 'b', 'c']"
      ]
     },
     "execution_count": 11,
     "metadata": {},
     "output_type": "execute_result"
    }
   ],
   "source": [
    "all_palindrom('abc')"
   ]
  },
  {
   "cell_type": "code",
   "execution_count": 12,
   "metadata": {},
   "outputs": [
    {
     "data": {
      "text/plain": [
       "['a', 'a', 'a', 'aa', 'aa', 'aaa']"
      ]
     },
     "execution_count": 12,
     "metadata": {},
     "output_type": "execute_result"
    }
   ],
   "source": [
    "all_palindrom('aaa')"
   ]
  },
  {
   "cell_type": "code",
   "execution_count": null,
   "metadata": {},
   "outputs": [],
   "source": []
  }
 ],
 "metadata": {
  "kernelspec": {
   "display_name": "Python 3",
   "language": "python",
   "name": "python3"
  },
  "language_info": {
   "codemirror_mode": {
    "name": "ipython",
    "version": 3
   },
   "file_extension": ".py",
   "mimetype": "text/x-python",
   "name": "python",
   "nbconvert_exporter": "python",
   "pygments_lexer": "ipython3",
   "version": "3.9.7"
  }
 },
 "nbformat": 4,
 "nbformat_minor": 2
}
