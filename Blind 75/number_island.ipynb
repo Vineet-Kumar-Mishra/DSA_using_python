{
 "cells": [
  {
   "cell_type": "markdown",
   "metadata": {},
   "source": [
    "## Number of island: Given a N X M grid with 0s and 1s. Find the number of Islands.\n",
    "## Island are 1's connected and sepataed from other island by 0\n",
    "\n",
    "> eg. \n",
    ">\n",
    ">      `[1,1,1,0,0]`\n",
    ">\n",
    ">      [1,1,0,0,1]\n",
    ">\n",
    ">      [1,1,0,1,1]\n",
    ">\n",
    ">      [1,0,0,0,1]`\n",
    ">\n",
    "> o/p = 2"
   ]
  },
  {
   "cell_type": "code",
   "execution_count": 1,
   "metadata": {},
   "outputs": [],
   "source": [
    "from collections import deque"
   ]
  },
  {
   "cell_type": "code",
   "execution_count": 135,
   "metadata": {},
   "outputs": [],
   "source": [
    "def num_island(grid):\n",
    "    if not grid:\n",
    "        return 0\n",
    "    \n",
    "    row, col = len(grid), len(grid[0])\n",
    "\n",
    "    visited = set()\n",
    "\n",
    "    def bfs(r,c):\n",
    "        q = deque()\n",
    "        q.append((r,c))\n",
    "\n",
    "        while q:\n",
    "\n",
    "            r,c = q.popleft()\n",
    "\n",
    "            if ((r,c) in visited\n",
    "                or r<0 or c<0\n",
    "                or r==row or c==col\n",
    "                or grid[r][c]==0):\n",
    "                continue\n",
    "            visited.add((r,c))\n",
    "            directions = [[-1,0],[1,0],[0,1],[0,-1]]\n",
    "            for dr, dc in directions:\n",
    "                rn = r+dr\n",
    "                cn = c+dc\n",
    "                if (rn,cn) in visited:\n",
    "                    continue\n",
    "                q.append((rn,cn))\n",
    "\n",
    "    island = 0\n",
    "    for r in range(row):\n",
    "        for c in range(col):\n",
    "            if (r,c) not in visited and grid[r][c]==1:\n",
    "                bfs(r,c)\n",
    "                island+=1\n",
    "    \n",
    "    return island\n",
    "\n",
    "\n",
    "                \n",
    "\n",
    "\n",
    "                \n",
    "\n",
    "        \n"
   ]
  },
  {
   "cell_type": "code",
   "execution_count": 136,
   "metadata": {},
   "outputs": [
    {
     "name": "stdout",
     "output_type": "stream",
     "text": [
      "[1, 1, 1, 0, 0] \n",
      "\n",
      "[1, 1, 0, 0, 1] \n",
      "\n",
      "[1, 1, 0, 1, 1] \n",
      "\n",
      "[1, 0, 0, 0, 1] \n",
      "\n"
     ]
    }
   ],
   "source": [
    "a = [[1,1,1,0,0],[1,1,0,0,1],[1,1,0,1,1],[1,0,0,0,1]]\n",
    "for i in a:\n",
    "    print(i,'\\n')"
   ]
  },
  {
   "cell_type": "code",
   "execution_count": 137,
   "metadata": {},
   "outputs": [
    {
     "data": {
      "text/plain": [
       "2"
      ]
     },
     "execution_count": 137,
     "metadata": {},
     "output_type": "execute_result"
    }
   ],
   "source": [
    "num_island(a)"
   ]
  },
  {
   "cell_type": "code",
   "execution_count": 138,
   "metadata": {},
   "outputs": [
    {
     "name": "stdout",
     "output_type": "stream",
     "text": [
      "[1, 1, 1, 0, 0] \n",
      "\n",
      "[1, 1, 0, 0, 1] \n",
      "\n",
      "[0, 0, 0, 1, 1] \n",
      "\n",
      "[1, 1, 0, 0, 1] \n",
      "\n"
     ]
    }
   ],
   "source": [
    "b = [[1,1,1,0,0],[1,1,0,0,1],[0,0,0,1,1],[1,1,0,0,1]]\n",
    "for i in b:\n",
    "    print(i,'\\n')"
   ]
  },
  {
   "cell_type": "code",
   "execution_count": 139,
   "metadata": {},
   "outputs": [
    {
     "data": {
      "text/plain": [
       "3"
      ]
     },
     "execution_count": 139,
     "metadata": {},
     "output_type": "execute_result"
    }
   ],
   "source": [
    "num_island(b)"
   ]
  },
  {
   "cell_type": "code",
   "execution_count": 147,
   "metadata": {},
   "outputs": [
    {
     "name": "stdout",
     "output_type": "stream",
     "text": [
      "[1, 1, 0, 0, 1] \n",
      "\n",
      "[1, 1, 0, 1, 0] \n",
      "\n",
      "[0, 0, 0, 0, 1] \n",
      "\n",
      "[1, 1, 0, 0, 1] \n",
      "\n"
     ]
    }
   ],
   "source": [
    "c = [[1,1,0,0,1],[1,1,0,1,0],[0,0,0,0,1],[1,1,0,0,1]]\n",
    "for i in c:\n",
    "    print(i,'\\n')"
   ]
  },
  {
   "cell_type": "code",
   "execution_count": 148,
   "metadata": {},
   "outputs": [
    {
     "data": {
      "text/plain": [
       "5"
      ]
     },
     "execution_count": 148,
     "metadata": {},
     "output_type": "execute_result"
    }
   ],
   "source": [
    "num_island(c)"
   ]
  },
  {
   "cell_type": "code",
   "execution_count": 149,
   "metadata": {},
   "outputs": [],
   "source": [
    "def num_island_dfs_recursive(grid):\n",
    "    if not grid:\n",
    "        return 0\n",
    "    \n",
    "    row, col = len(grid), len(grid[0])\n",
    "\n",
    "    visited = set()\n",
    "\n",
    "    def dfs(r,c):\n",
    "        if ((r,c) in visited\n",
    "            or r not in range(row) or c not in range(col)\n",
    "        or grid[r][c]==0):\n",
    "            return\n",
    "        visited.add((r,c))\n",
    "        dfs(r-1,c)\n",
    "        dfs(r+1, c)\n",
    "        dfs(r, c-1)\n",
    "        dfs(r, c+1)\n",
    "\n",
    "    island = 0\n",
    "    for r in range(row):\n",
    "        for c in range(col):\n",
    "            if (r,c) in visited or grid[r][c]==0:\n",
    "                continue\n",
    "            dfs(r,c)\n",
    "            island +=1\n",
    "    return island\n",
    "\n"
   ]
  },
  {
   "cell_type": "code",
   "execution_count": 150,
   "metadata": {},
   "outputs": [
    {
     "data": {
      "text/plain": [
       "2"
      ]
     },
     "execution_count": 150,
     "metadata": {},
     "output_type": "execute_result"
    }
   ],
   "source": [
    "num_island_dfs_recursive(a)"
   ]
  },
  {
   "cell_type": "code",
   "execution_count": 151,
   "metadata": {},
   "outputs": [
    {
     "data": {
      "text/plain": [
       "3"
      ]
     },
     "execution_count": 151,
     "metadata": {},
     "output_type": "execute_result"
    }
   ],
   "source": [
    "num_island_dfs_recursive(b)"
   ]
  },
  {
   "cell_type": "code",
   "execution_count": 152,
   "metadata": {},
   "outputs": [
    {
     "data": {
      "text/plain": [
       "5"
      ]
     },
     "execution_count": 152,
     "metadata": {},
     "output_type": "execute_result"
    }
   ],
   "source": [
    "num_island_dfs_recursive(c)"
   ]
  },
  {
   "cell_type": "code",
   "execution_count": null,
   "metadata": {},
   "outputs": [],
   "source": []
  }
 ],
 "metadata": {
  "kernelspec": {
   "display_name": "Python 3",
   "language": "python",
   "name": "python3"
  },
  "language_info": {
   "codemirror_mode": {
    "name": "ipython",
    "version": 3
   },
   "file_extension": ".py",
   "mimetype": "text/x-python",
   "name": "python",
   "nbconvert_exporter": "python",
   "pygments_lexer": "ipython3",
   "version": "3.9.7"
  }
 },
 "nbformat": 4,
 "nbformat_minor": 2
}
