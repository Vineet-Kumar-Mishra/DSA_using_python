{
 "cells": [
  {
   "cell_type": "markdown",
   "metadata": {},
   "source": [
    "## Pacific Atlantic Water: A m X n matrix is given. The left side of continent is pacific ocen while the right side is atlantic. (0,col-1) and (row-1,col-1) are common to both.\n",
    "## Find all possible points in matrix that can reach atlantic and pacific both.\n",
    "## We can only go in 1 directions and not horizontal\n",
    "\n",
    "> e.g.\n",
    ">\n",
    ">        `a = [[1,2,2,3,5],`\n",
    ">\n",
    ">            '[3,2,3,4,4],'\n",
    ">\n",
    ">            '[2,4,5,3,1],'\n",
    ">\n",
    ">            '[6,7,1,4,5],'\n",
    ">\n",
    ">            '[5,1,1,2,4]]`"
   ]
  },
  {
   "cell_type": "code",
   "execution_count": 3,
   "metadata": {},
   "outputs": [],
   "source": [
    "def pacific_atlantic(mat):\n",
    "    rows = len(mat)\n",
    "    cols = len(mat[0])\n",
    "\n",
    "    pacific_set = set()\n",
    "    atlantic_set = set()\n",
    "    def dfs(row, col, current_height, visited_set):\n",
    "        if ((row,col) in visited_set\n",
    "            or row<0 or col<0 or row==rows or col==cols or\n",
    "            mat[row][col]<current_height):\n",
    "            return\n",
    "        visited_set.add((row,col))\n",
    "        dfs(row-1, col, mat[row][col], visited_set)\n",
    "        dfs(row+1, col, mat[row][col], visited_set)\n",
    "        dfs(row, col-1, mat[row][col], visited_set)\n",
    "        dfs(row, col+1, mat[row][col], visited_set)\n",
    "\n",
    "    for c in range(cols):\n",
    "        dfs(0,c,mat[0][c], pacific_set)\n",
    "        dfs(rows-1,c,mat[rows-1][c], atlantic_set)\n",
    "\n",
    "    for r in range(rows):\n",
    "        dfs(r,0,mat[r][0], pacific_set)\n",
    "        dfs(r,cols-1,mat[r][cols-1], atlantic_set)\n",
    "\n",
    "    res = pacific_set.intersection(atlantic_set)\n",
    "\n",
    "    for i,j in res:\n",
    "        print(mat[i][j])\n",
    "    return res\n"
   ]
  },
  {
   "cell_type": "code",
   "execution_count": 4,
   "metadata": {},
   "outputs": [
    {
     "name": "stdout",
     "output_type": "stream",
     "text": [
      "5\n",
      "5\n",
      "7\n",
      "4\n",
      "6\n",
      "5\n",
      "4\n"
     ]
    },
    {
     "data": {
      "text/plain": [
       "{(0, 4), (1, 3), (1, 4), (2, 2), (3, 0), (3, 1), (4, 0)}"
      ]
     },
     "execution_count": 4,
     "metadata": {},
     "output_type": "execute_result"
    }
   ],
   "source": [
    "pacific_atlantic([[1,2,2,3,5],[3,2,3,4,4],[2,4,5,3,1],[6,7,1,4,5],[5,1,1,2,4]])"
   ]
  },
  {
   "cell_type": "code",
   "execution_count": null,
   "metadata": {},
   "outputs": [],
   "source": []
  }
 ],
 "metadata": {
  "kernelspec": {
   "display_name": "Python 3",
   "language": "python",
   "name": "python3"
  },
  "language_info": {
   "codemirror_mode": {
    "name": "ipython",
    "version": 3
   },
   "file_extension": ".py",
   "mimetype": "text/x-python",
   "name": "python",
   "nbconvert_exporter": "python",
   "pygments_lexer": "ipython3",
   "version": "3.9.7"
  }
 },
 "nbformat": 4,
 "nbformat_minor": 2
}
