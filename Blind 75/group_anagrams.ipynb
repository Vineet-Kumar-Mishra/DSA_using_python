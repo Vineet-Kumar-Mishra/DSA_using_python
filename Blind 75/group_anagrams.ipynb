{
 "cells": [
  {
   "cell_type": "markdown",
   "metadata": {},
   "source": [
    "## Group Anagrams\n",
    "e.g. a = ['eat','tea','tan','ate','nat','bat'] -> op = [['bat'],['nat',tan'],['ate','eat','tea']]"
   ]
  },
  {
   "cell_type": "code",
   "execution_count": 11,
   "metadata": {},
   "outputs": [],
   "source": [
    "def anagrams(s):\n",
    "\n",
    "    hashmap = {}\n",
    "\n",
    "    for word in s:\n",
    "        word_fingerprint = [0]*26\n",
    "\n",
    "        for char in word:\n",
    "            word_fingerprint[ord(char)-ord('a')]=1\n",
    "        word_fingerprint = [str(i) for i in word_fingerprint]\n",
    "        if '_'.join(word_fingerprint) not in hashmap:\n",
    "            hashmap['_'.join(word_fingerprint)] = [word]\n",
    "        else:\n",
    "            hashmap['_'.join(word_fingerprint)].append(word)\n",
    "\n",
    "    return list(hashmap.values())\n",
    "\n"
   ]
  },
  {
   "cell_type": "code",
   "execution_count": 12,
   "metadata": {},
   "outputs": [
    {
     "data": {
      "text/plain": [
       "[['eat', 'tea', 'ate'], ['tan', 'nat'], ['bat']]"
      ]
     },
     "execution_count": 12,
     "metadata": {},
     "output_type": "execute_result"
    }
   ],
   "source": [
    "anagrams(['eat','tea','tan','ate','nat','bat'])"
   ]
  },
  {
   "cell_type": "code",
   "execution_count": null,
   "metadata": {},
   "outputs": [],
   "source": []
  }
 ],
 "metadata": {
  "kernelspec": {
   "display_name": "Python 3",
   "language": "python",
   "name": "python3"
  },
  "language_info": {
   "codemirror_mode": {
    "name": "ipython",
    "version": 3
   },
   "file_extension": ".py",
   "mimetype": "text/x-python",
   "name": "python",
   "nbconvert_exporter": "python",
   "pygments_lexer": "ipython3",
   "version": "3.9.7"
  }
 },
 "nbformat": 4,
 "nbformat_minor": 2
}
