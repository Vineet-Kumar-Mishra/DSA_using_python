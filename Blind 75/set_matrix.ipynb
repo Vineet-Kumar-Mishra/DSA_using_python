{
 "cells": [
  {
   "cell_type": "markdown",
   "metadata": {},
   "source": [
    "## Mark Matrix\n",
    "> e.g. [[1,1,1],[1,0,1],[1,1,1]] op = [[1,0,1],[0,0,0],[1,0,1]]"
   ]
  },
  {
   "cell_type": "code",
   "execution_count": 6,
   "metadata": {},
   "outputs": [],
   "source": [
    "def mark_matrix(mat):\n",
    "    row_zero = False\n",
    "    rows = len(mat)\n",
    "    cols = len(mat[0])\n",
    "\n",
    "    # mark the 1st row and 1st col of matrix\n",
    "    for r in range(rows):\n",
    "        for c in range(cols):\n",
    "            if mat[r][c]==0:\n",
    "                # we assume the 1st row to be used completely but the 1 column \n",
    "                # we will skip the 1st element\n",
    "                mat[0][c] = 0\n",
    "\n",
    "                if r==0:\n",
    "                    row_zero = True\n",
    "                else:\n",
    "                    mat[r][0] = 0\n",
    "    \n",
    "    # mark every row column except 1st row and col\n",
    "    for r in range(1, rows):\n",
    "        for c in range(1,cols):\n",
    "            if mat[0][c]==0 or mat[r][0]==0:\n",
    "                mat[r][c] = 0\n",
    "\n",
    "    # mark 1st column\n",
    "    if mat[0][0]==0:\n",
    "        for r in range(rows):\n",
    "            mat[r][0]=0\n",
    "\n",
    "    if row_zero:\n",
    "        for c in range(cols):\n",
    "            mat[0][c] = 0\n",
    "\n",
    "    return mat\n",
    "        \n",
    "    "
   ]
  },
  {
   "cell_type": "code",
   "execution_count": 7,
   "metadata": {},
   "outputs": [
    {
     "data": {
      "text/plain": [
       "[[1, 0, 1], [0, 0, 0], [1, 0, 1]]"
      ]
     },
     "execution_count": 7,
     "metadata": {},
     "output_type": "execute_result"
    }
   ],
   "source": [
    "mark_matrix([[1,1,1],[1,0,1],[1,1,1]])"
   ]
  },
  {
   "cell_type": "code",
   "execution_count": null,
   "metadata": {},
   "outputs": [],
   "source": []
  }
 ],
 "metadata": {
  "kernelspec": {
   "display_name": "Python 3",
   "language": "python",
   "name": "python3"
  },
  "language_info": {
   "codemirror_mode": {
    "name": "ipython",
    "version": 3
   },
   "file_extension": ".py",
   "mimetype": "text/x-python",
   "name": "python",
   "nbconvert_exporter": "python",
   "pygments_lexer": "ipython3",
   "version": "3.9.7"
  }
 },
 "nbformat": 4,
 "nbformat_minor": 2
}
