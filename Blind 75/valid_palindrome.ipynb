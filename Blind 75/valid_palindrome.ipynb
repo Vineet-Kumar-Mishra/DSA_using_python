{
 "cells": [
  {
   "cell_type": "markdown",
   "metadata": {},
   "source": [
    "## Valid palindrome"
   ]
  },
  {
   "cell_type": "code",
   "execution_count": 1,
   "metadata": {},
   "outputs": [],
   "source": [
    "pal = \"A man, a plan, a canal : Panama\"\n",
    "# return True"
   ]
  },
  {
   "cell_type": "code",
   "execution_count": 11,
   "metadata": {},
   "outputs": [],
   "source": [
    "def val_pal(string):\n",
    "    l = 0\n",
    "    r = len(string)-1\n",
    "\n",
    "    while l<r:\n",
    "        while l<r and not check_alpha(string[l]):\n",
    "            l+=1\n",
    "        while l<r and not check_alpha(string[r]):\n",
    "            r-=1\n",
    "\n",
    "        # We are always having pointers at right locations\n",
    "\n",
    "        if string[l].lower()!=string[r].lower():\n",
    "            return False\n",
    "        l+=1\n",
    "        r-=1\n",
    "\n",
    "    return True\n",
    "\n",
    "def check_alpha(char):\n",
    "    return (ord('A')<=ord(char)<=ord('Z') or\n",
    "            ord('a')<=ord(char)<=ord('z') or\n",
    "            ord('0')<=ord(char)<=ord('9'))"
   ]
  },
  {
   "cell_type": "code",
   "execution_count": 12,
   "metadata": {},
   "outputs": [
    {
     "data": {
      "text/plain": [
       "True"
      ]
     },
     "execution_count": 12,
     "metadata": {},
     "output_type": "execute_result"
    }
   ],
   "source": [
    "val_pal(pal)"
   ]
  },
  {
   "cell_type": "code",
   "execution_count": null,
   "metadata": {},
   "outputs": [],
   "source": []
  }
 ],
 "metadata": {
  "kernelspec": {
   "display_name": "Python 3",
   "language": "python",
   "name": "python3"
  },
  "language_info": {
   "codemirror_mode": {
    "name": "ipython",
    "version": 3
   },
   "file_extension": ".py",
   "mimetype": "text/x-python",
   "name": "python",
   "nbconvert_exporter": "python",
   "pygments_lexer": "ipython3",
   "version": "3.9.7"
  }
 },
 "nbformat": 4,
 "nbformat_minor": 2
}
