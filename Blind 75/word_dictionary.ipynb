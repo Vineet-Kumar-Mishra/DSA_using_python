{
 "cells": [
  {
   "cell_type": "markdown",
   "metadata": {},
   "source": [
    "## Word dictionary\n",
    "## insert function\n",
    "## Search function - can search word, even part of word \n",
    "> e.g search -> 'ball', '..l', 'b..'"
   ]
  },
  {
   "cell_type": "code",
   "execution_count": 39,
   "metadata": {},
   "outputs": [],
   "source": [
    "class TrieNode:\n",
    "    def __init__(self):\n",
    "        self.children = {}\n",
    "        self.wordEnds = False\n",
    "\n",
    "class word_dict:\n",
    "    def __init__(self):\n",
    "        self.root = TrieNode()\n",
    "\n",
    "    def insert(self, word):\n",
    "        current_node = self.root\n",
    "\n",
    "        for wrd in word:\n",
    "            if wrd not in current_node.children:\n",
    "                current_node.children[wrd] = TrieNode()\n",
    "            current_node = current_node.children[wrd]\n",
    "        current_node.wordEnds = True\n",
    "\n",
    "    def search(self, word):\n",
    "\n",
    "        def dfs(word_idx, root):\n",
    "\n",
    "            ## ierative part\n",
    "            for idx in range(word_idx, len(word)):\n",
    "                char = word[idx]\n",
    "\n",
    "                if char=='.':\n",
    "                    # search all trienodes\n",
    "                    for all_childs in root.children.values():\n",
    "                        # doing dfs on allc children\n",
    "                        if dfs(idx+1, all_childs): return True\n",
    "                    return False\n",
    "                else:\n",
    "                    if char not in root.children:\n",
    "                        return False\n",
    "                    root = root.children[char]\n",
    "            return root.wordEnds\n",
    "\n",
    "        return dfs(0,self.root)\n",
    "    \n",
    "    def print_trie(self):\n",
    "        def dfs(node, prefix, depth):\n",
    "            indent = \"  \" * depth  # Create indentation based on depth\n",
    "            if node.wordEnds:\n",
    "                print(f\"{indent}({prefix})\")  # Mark complete words with ()\n",
    "            for char in sorted(node.children.keys()):  # Ensure lexicographic order\n",
    "                print(f\"{indent}└── {char}\")  # Print branches\n",
    "                dfs(node.children[char], prefix + char, depth + 1)\n",
    "\n",
    "        print(\"Root\")\n",
    "        dfs(self.root, \"\", 1)  # Start DFS from the root\n"
   ]
  },
  {
   "cell_type": "code",
   "execution_count": 40,
   "metadata": {},
   "outputs": [],
   "source": [
    "wrd_dict = word_dict()"
   ]
  },
  {
   "cell_type": "code",
   "execution_count": 41,
   "metadata": {},
   "outputs": [],
   "source": [
    "wrd_dict.insert('bad')\n",
    "wrd_dict.insert('dad')\n",
    "wrd_dict.insert('ball')\n",
    "wrd_dict.insert('cat')\n"
   ]
  },
  {
   "cell_type": "code",
   "execution_count": 42,
   "metadata": {},
   "outputs": [
    {
     "name": "stdout",
     "output_type": "stream",
     "text": [
      "Root\n",
      "  └── b\n",
      "    └── a\n",
      "      └── d\n",
      "        (bad)\n",
      "      └── l\n",
      "        └── l\n",
      "          (ball)\n",
      "  └── c\n",
      "    └── a\n",
      "      └── t\n",
      "        (cat)\n",
      "  └── d\n",
      "    └── a\n",
      "      └── d\n",
      "        (dad)\n"
     ]
    }
   ],
   "source": [
    "wrd_dict.print_trie()"
   ]
  },
  {
   "cell_type": "code",
   "execution_count": 43,
   "metadata": {},
   "outputs": [
    {
     "data": {
      "text/plain": [
       "True"
      ]
     },
     "execution_count": 43,
     "metadata": {},
     "output_type": "execute_result"
    }
   ],
   "source": [
    "wrd_dict.search('ball')"
   ]
  },
  {
   "cell_type": "code",
   "execution_count": 44,
   "metadata": {},
   "outputs": [
    {
     "data": {
      "text/plain": [
       "False"
      ]
     },
     "execution_count": 44,
     "metadata": {},
     "output_type": "execute_result"
    }
   ],
   "source": [
    "wrd_dict.search('can')"
   ]
  },
  {
   "cell_type": "code",
   "execution_count": 45,
   "metadata": {},
   "outputs": [
    {
     "data": {
      "text/plain": [
       "True"
      ]
     },
     "execution_count": 45,
     "metadata": {},
     "output_type": "execute_result"
    }
   ],
   "source": [
    "wrd_dict.search('..d')"
   ]
  },
  {
   "cell_type": "code",
   "execution_count": null,
   "metadata": {},
   "outputs": [],
   "source": []
  }
 ],
 "metadata": {
  "kernelspec": {
   "display_name": "Python 3",
   "language": "python",
   "name": "python3"
  },
  "language_info": {
   "codemirror_mode": {
    "name": "ipython",
    "version": 3
   },
   "file_extension": ".py",
   "mimetype": "text/x-python",
   "name": "python",
   "nbconvert_exporter": "python",
   "pygments_lexer": "ipython3",
   "version": "3.9.7"
  }
 },
 "nbformat": 4,
 "nbformat_minor": 2
}
