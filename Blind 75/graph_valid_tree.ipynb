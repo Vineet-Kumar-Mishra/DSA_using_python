{
 "cells": [
  {
   "cell_type": "markdown",
   "metadata": {},
   "source": [
    "## Graph as valid Tree: given n (no of nodes) and list (consider it to make bidirections)\n",
    "### 1. Empty can be a tree\n",
    "### 2. No loops allowed\n",
    "### 3. No disconnected Nodes"
   ]
  },
  {
   "cell_type": "code",
   "execution_count": null,
   "metadata": {},
   "outputs": [],
   "source": [
    "class Node:\n",
    "    def __init__(self, val = None, neighbours = None):\n",
    "        self.val = val\n",
    "        self.neighbours = neighbours if neighbours is not None else []"
   ]
  },
  {
   "cell_type": "code",
   "execution_count": 10,
   "metadata": {},
   "outputs": [],
   "source": [
    "def graph_is_tree(n, relation):\n",
    "\n",
    "    adj = {c: set() for c in range(n)}\n",
    "    for n1,n2 in relation:\n",
    "        adj[n1].add(n2)\n",
    "        adj[n2].add(n1)\n",
    "\n",
    "    visit = set()\n",
    "    def dfs_bidirection(node, parent):\n",
    "        # loop detection\n",
    "        if node in visit:\n",
    "            return False\n",
    "\n",
    "        visit.add(node)\n",
    "        for nb in adj[node]:\n",
    "            if nb==parent:\n",
    "                continue\n",
    "            # loop detection in neighbours\n",
    "            if not dfs_bidirection(nb, node):\n",
    "                return False\n",
    "        # no loops...good to go\n",
    "        return True\n",
    "\n",
    "    return dfs_bidirection(0,-1) and n==len(visit)\n",
    "\n"
   ]
  },
  {
   "cell_type": "code",
   "execution_count": 11,
   "metadata": {},
   "outputs": [
    {
     "data": {
      "text/plain": [
       "True"
      ]
     },
     "execution_count": 11,
     "metadata": {},
     "output_type": "execute_result"
    }
   ],
   "source": [
    "graph_is_tree(5, [[0,1],[0,2],[0,3],[1,4]])"
   ]
  },
  {
   "cell_type": "code",
   "execution_count": null,
   "metadata": {},
   "outputs": [],
   "source": []
  }
 ],
 "metadata": {
  "kernelspec": {
   "display_name": "Python 3",
   "language": "python",
   "name": "python3"
  },
  "language_info": {
   "codemirror_mode": {
    "name": "ipython",
    "version": 3
   },
   "file_extension": ".py",
   "mimetype": "text/x-python",
   "name": "python",
   "nbconvert_exporter": "python",
   "pygments_lexer": "ipython3",
   "version": "3.9.7"
  }
 },
 "nbformat": 4,
 "nbformat_minor": 2
}
