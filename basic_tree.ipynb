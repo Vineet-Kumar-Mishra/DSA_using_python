{
 "cells": [
  {
   "cell_type": "code",
   "execution_count": 66,
   "id": "d1fe85ed",
   "metadata": {},
   "outputs": [],
   "source": [
    "class Tree_Node():\n",
    "    def __init__(self, data):\n",
    "        self.data = data\n",
    "        self.children = []\n",
    "        self.parent = None\n",
    "    \n",
    "    def add_child(self,child):\n",
    "        child.parent = self\n",
    "        self.children.append(child)\n",
    "    \n",
    "    def print_tree(self):\n",
    "        spaces = ' '* self.get_level() * 3\n",
    "        prefix = spaces+\"|__\" if self.parent else \"\"\n",
    "        print(prefix+self.data)\n",
    "        if self.children:\n",
    "            for child in self.children:\n",
    "                child.print_tree()\n",
    "                \n",
    "    def get_level(self):\n",
    "        level = 0\n",
    "        p = self.parent\n",
    "        while p:\n",
    "            level +=1\n",
    "            p = p.parent\n",
    "        return level\n",
    "    def print_level(self, level):\n",
    "        if self.get_level()>level:\n",
    "            return\n",
    "        spaces = ' '* self.get_level() * 3\n",
    "        prefix = spaces+\"|__\" if self.parent else \"\"\n",
    "        print(prefix+self.data)\n",
    "        if self.children:\n",
    "            for child in self.children:\n",
    "                    child.print_level(level)"
   ]
  },
  {
   "cell_type": "code",
   "execution_count": 77,
   "id": "23f5cf3b",
   "metadata": {},
   "outputs": [],
   "source": [
    "def my_tree(level):\n",
    "    root_node = Tree_Node(\"DSA\")\n",
    "    \n",
    "    linked_list = Tree_Node(\"linked_list\")\n",
    "    trees = Tree_Node(\"Tree\")\n",
    "    array = Tree_Node(\"Array\")\n",
    "    stack = Tree_Node(\"Stack\")\n",
    "    queue = Tree_Node(\"Queue\")\n",
    "    \n",
    "    root_node.add_child(linked_list)\n",
    "    root_node.add_child(trees)    \n",
    "    root_node.add_child(array)    \n",
    "    root_node.add_child(stack)    \n",
    "    root_node.add_child(queue)\n",
    "    \n",
    "    linked_list.add_child(Tree_Node(\"Singly linked list\"))\n",
    "    linked_list.add_child(Tree_Node(\"Doubly linked list\"))\n",
    "    linked_list.add_child(Tree_Node(\"Circularly linked list\"))\n",
    "    \n",
    "    trees.add_child(Tree_Node(\"Basic Tree\"))    \n",
    "    trees.add_child(Tree_Node(\"Binary Tree\"))\n",
    "    \n",
    "    array.add_child(Tree_Node(\"Static Array\"))\n",
    "    array.add_child(Tree_Node(\"Dynamic Array\"))\n",
    "    \n",
    "    stack.add_child(Tree_Node(\"LIFO\"))\n",
    "    \n",
    "    queue.add_child(Tree_Node(\"QUEUE\"))\n",
    "    queue.add_child(Tree_Node(\"DEQUEUE\"))\n",
    "#     print(stack.get_level())\n",
    "    print(\"printing original tree \\n\")\n",
    "    root_node.print_tree()\n",
    "    print(f'\\nPrinting the desired level : {level}\\n')\n",
    "    root_node.print_level(level)"
   ]
  },
  {
   "cell_type": "code",
   "execution_count": 79,
   "id": "60e91fe6",
   "metadata": {},
   "outputs": [
    {
     "name": "stdout",
     "output_type": "stream",
     "text": [
      "printing original tree \n",
      "\n",
      "DSA\n",
      "   |__linked_list\n",
      "      |__Singly linked list\n",
      "      |__Doubly linked list\n",
      "      |__Circularly linked list\n",
      "   |__Tree\n",
      "      |__Basic Tree\n",
      "      |__Binary Tree\n",
      "   |__Array\n",
      "      |__Static Array\n",
      "      |__Dynamic Array\n",
      "   |__Stack\n",
      "      |__LIFO\n",
      "   |__Queue\n",
      "      |__QUEUE\n",
      "      |__DEQUEUE\n",
      "\n",
      "Printing the desired level : 1\n",
      "\n",
      "DSA\n",
      "   |__linked_list\n",
      "   |__Tree\n",
      "   |__Array\n",
      "   |__Stack\n",
      "   |__Queue\n"
     ]
    }
   ],
   "source": [
    "my_tree(1)"
   ]
  },
  {
   "cell_type": "markdown",
   "id": "aec1fa1f",
   "metadata": {},
   "source": [
    "## Print a tree with Name and designation\n",
    "### 1. Print only name\n",
    "### 2. Print only designation\n",
    "### 3. print both\n",
    "By CodeBasics"
   ]
  },
  {
   "cell_type": "code",
   "execution_count": 80,
   "id": "be571bd7",
   "metadata": {},
   "outputs": [],
   "source": [
    "class Name_Designation_Tree():\n",
    "    def __init__(self, data):\n",
    "        self.data = data\n",
    "        self.children = []\n",
    "        self.parent = None\n",
    "        \n",
    "    def add_child(self,child):\n",
    "        child.parent = self\n",
    "        self.children.append(child)\n",
    "    \n",
    "    def get_level(self):\n",
    "        level = 0\n",
    "        p = self.parent\n",
    "        while p:\n",
    "            level +=1\n",
    "            p = p.parent\n",
    "        return level\n",
    "    def print_tree(self,mode = \"both\"):\n",
    "        spaces = \" \"*self.get_level()*3\n",
    "        prefix = spaces+\"|__\"\n",
    "        if mode == 'name':\n",
    "            print(prefix+self.data[0])\n",
    "        elif mode == \"designation\":\n",
    "            print(prefix+self.data[1])\n",
    "        else:\n",
    "            print(prefix+self.data[0]+ '('+self.data[1]+')')\n",
    "        if self.children:\n",
    "            for child in self.children:\n",
    "                child.print_tree(mode=mode)"
   ]
  },
  {
   "cell_type": "code",
   "execution_count": 81,
   "id": "57a0aa36",
   "metadata": {},
   "outputs": [],
   "source": [
    "def company_tree(mode = 'both'):\n",
    "    nilupul = Name_Designation_Tree(['Nilupul','CEO'])\n",
    "    chinmay = Name_Designation_Tree(['Chinmay','CTO'])\n",
    "    vishwa = Name_Designation_Tree(['Vishwa','Infrastructure Head'])\n",
    "    dhaval = Name_Designation_Tree(['Dhaval','Cloud Manager'])\n",
    "    abhijit = Name_Designation_Tree(['Abhijit','App Manager'])\n",
    "    aamir = Name_Designation_Tree(['Aamir','Application Head'])\n",
    "    gels = Name_Designation_Tree(['Gels','HR Head'])\n",
    "    peter = Name_Designation_Tree(['Peter','Recruitment Manager'])\n",
    "    waqas = Name_Designation_Tree(['Waqas','Policy Manager'])\n",
    "    \n",
    "    nilupul.add_child(chinmay)\n",
    "    nilupul.add_child(gels)\n",
    "    \n",
    "    gels.add_child(peter)\n",
    "    gels.add_child(waqas)\n",
    "    \n",
    "    chinmay.add_child(vishwa)\n",
    "    chinmay.add_child(aamir)\n",
    "    \n",
    "    vishwa.add_child(dhaval)\n",
    "    vishwa.add_child(abhijit)\n",
    "    \n",
    "    nilupul.print_tree(mode=mode)\n",
    "    \n",
    "    "
   ]
  },
  {
   "cell_type": "code",
   "execution_count": 82,
   "id": "8cf73b56",
   "metadata": {},
   "outputs": [
    {
     "name": "stdout",
     "output_type": "stream",
     "text": [
      "|__Nilupul(CEO)\n",
      "   |__Chinmay(CTO)\n",
      "      |__Vishwa(Infrastructure Head)\n",
      "         |__Dhaval(Cloud Manager)\n",
      "         |__Abhijit(App Manager)\n",
      "      |__Aamir(Application Head)\n",
      "   |__Gels(HR Head)\n",
      "      |__Peter(Recruitment Manager)\n",
      "      |__Waqas(Policy Manager)\n"
     ]
    }
   ],
   "source": [
    "company_tree(mode = 'both')"
   ]
  },
  {
   "cell_type": "code",
   "execution_count": 83,
   "id": "b28dff34",
   "metadata": {},
   "outputs": [
    {
     "name": "stdout",
     "output_type": "stream",
     "text": [
      "|__Nilupul\n",
      "   |__Chinmay\n",
      "      |__Vishwa\n",
      "         |__Dhaval\n",
      "         |__Abhijit\n",
      "      |__Aamir\n",
      "   |__Gels\n",
      "      |__Peter\n",
      "      |__Waqas\n"
     ]
    }
   ],
   "source": [
    "company_tree(mode = 'name')"
   ]
  },
  {
   "cell_type": "code",
   "execution_count": 84,
   "id": "442d141f",
   "metadata": {},
   "outputs": [
    {
     "name": "stdout",
     "output_type": "stream",
     "text": [
      "|__CEO\n",
      "   |__CTO\n",
      "      |__Infrastructure Head\n",
      "         |__Cloud Manager\n",
      "         |__App Manager\n",
      "      |__Application Head\n",
      "   |__HR Head\n",
      "      |__Recruitment Manager\n",
      "      |__Policy Manager\n"
     ]
    }
   ],
   "source": [
    "company_tree(mode = 'designation')"
   ]
  },
  {
   "cell_type": "code",
   "execution_count": null,
   "id": "e6ddda84",
   "metadata": {},
   "outputs": [],
   "source": []
  }
 ],
 "metadata": {
  "kernelspec": {
   "display_name": "Python 3",
   "language": "python",
   "name": "python3"
  },
  "language_info": {
   "codemirror_mode": {
    "name": "ipython",
    "version": 3
   },
   "file_extension": ".py",
   "mimetype": "text/x-python",
   "name": "python",
   "nbconvert_exporter": "python",
   "pygments_lexer": "ipython3",
   "version": "3.8.8"
  }
 },
 "nbformat": 4,
 "nbformat_minor": 5
}
