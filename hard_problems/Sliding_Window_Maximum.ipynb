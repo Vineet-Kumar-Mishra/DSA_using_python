{
 "cells": [
  {
   "cell_type": "markdown",
   "metadata": {},
   "source": [
    "## Sliding Window Maximum - Monotonic Queue\n",
    "## a windows of size k keeps on moving. The output if list of elements which are largest int that windows\n",
    "\n",
    "> e,g = s = [1,3,-1,-3,5,3,6,7] = k=3 op = [3,3,5,5,6,7]"
   ]
  },
  {
   "cell_type": "code",
   "execution_count": 40,
   "metadata": {},
   "outputs": [],
   "source": [
    "from collections import deque\n",
    "\n",
    "def sliding_window_max(nums, k):\n",
    "    if not nums:\n",
    "        return []\n",
    "\n",
    "    dQ = deque()  # Stores indices of elements\n",
    "    result = []\n",
    "\n",
    "    for i in range(len(nums)):\n",
    "        print('deque', dQ)\n",
    "        # Remove elements out of window (left side)\n",
    "        if dQ and dQ[0] < i - k + 1:\n",
    "            dQ.popleft()\n",
    "\n",
    "        # Maintain decreasing order in deque, remove smaller elements\n",
    "        while dQ and nums[dQ[-1]] < nums[i]:\n",
    "            dQ.pop()\n",
    "\n",
    "        # Add current element's index\n",
    "        dQ.append(i)\n",
    "\n",
    "        # Append result when the first window is fully formed\n",
    "        if i >= k - 1:\n",
    "            print('i',i)\n",
    "            result.append(nums[dQ[0]])  # Max element at the front of deque\n",
    "\n",
    "    return result\n"
   ]
  },
  {
   "cell_type": "code",
   "execution_count": 41,
   "metadata": {},
   "outputs": [
    {
     "name": "stdout",
     "output_type": "stream",
     "text": [
      "deque deque([])\n",
      "deque deque([0])\n",
      "deque deque([1])\n",
      "i 2\n",
      "deque deque([1, 2])\n",
      "i 3\n",
      "deque deque([1, 2, 3])\n",
      "i 4\n",
      "deque deque([4])\n",
      "i 5\n",
      "deque deque([4, 5])\n",
      "i 6\n",
      "deque deque([6])\n",
      "i 7\n"
     ]
    },
    {
     "data": {
      "text/plain": [
       "[3, 3, 5, 5, 6, 7]"
      ]
     },
     "execution_count": 41,
     "metadata": {},
     "output_type": "execute_result"
    }
   ],
   "source": [
    "sliding_window_max([1,3,-1,-3,5,3,6,7], k=3)"
   ]
  },
  {
   "cell_type": "code",
   "execution_count": 42,
   "metadata": {},
   "outputs": [],
   "source": [
    "def sliding_my(nums, k):\n",
    "    if not nums:\n",
    "        return []\n",
    "    \n",
    "    from collections import deque\n",
    "    result = []\n",
    "    dQ = deque()\n",
    "\n",
    "    # the 1st element should always be maximim\n",
    "    for i in range(len(nums)):\n",
    "        if dQ and dQ[0]<i-k+1:\n",
    "            dQ.popleft()\n",
    "\n",
    "        while dQ and nums[dQ[-1]]<nums[i]:\n",
    "            dQ.pop()\n",
    "\n",
    "        dQ.append(i)\n",
    "\n",
    "        if i>=k-1:\n",
    "            result.append(nums[dQ[0]])\n",
    "    return result"
   ]
  },
  {
   "cell_type": "code",
   "execution_count": 43,
   "metadata": {},
   "outputs": [
    {
     "data": {
      "text/plain": [
       "[3, 3, 5, 5, 6, 7]"
      ]
     },
     "execution_count": 43,
     "metadata": {},
     "output_type": "execute_result"
    }
   ],
   "source": [
    "sliding_my([1,3,-1,-3,5,3,6,7], k=3)"
   ]
  },
  {
   "cell_type": "code",
   "execution_count": null,
   "metadata": {},
   "outputs": [],
   "source": []
  }
 ],
 "metadata": {
  "kernelspec": {
   "display_name": "Python 3",
   "language": "python",
   "name": "python3"
  },
  "language_info": {
   "codemirror_mode": {
    "name": "ipython",
    "version": 3
   },
   "file_extension": ".py",
   "mimetype": "text/x-python",
   "name": "python",
   "nbconvert_exporter": "python",
   "pygments_lexer": "ipython3",
   "version": "3.9.7"
  }
 },
 "nbformat": 4,
 "nbformat_minor": 2
}
