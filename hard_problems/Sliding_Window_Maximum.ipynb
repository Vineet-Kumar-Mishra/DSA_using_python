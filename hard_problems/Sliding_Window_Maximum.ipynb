{
 "cells": [
  {
   "cell_type": "markdown",
   "metadata": {},
   "source": [
    "## Sliding Window Maximum - Monotonic Queue\n",
    "## a windows of size k keeps on moving. The output if list of elements which are largest int that windows\n",
    "\n",
    "> e,g = s = [1,3,-1,-3,5,3,6,7] = k=3 op = [3,3,5,5,6,7]"
   ]
  },
  {
   "cell_type": "code",
   "execution_count": 12,
   "metadata": {},
   "outputs": [],
   "source": [
    "def largest_sliding_window(s,k):\n",
    "    # initilize pointers\n",
    "    # l = left will marks beignning of window\n",
    "    l = 0\n",
    "\n",
    "    # right will be used to traverse array\n",
    "    r = 0\n",
    "\n",
    "    op= []\n",
    "    from collections import deque\n",
    "    dQ = deque()\n",
    "\n",
    "    while r<len(s):\n",
    "\n",
    "        # 1st we check if element in deque is smaller thatn the current\n",
    "        while dQ and s[dQ[-1]]<s[r]:\n",
    "            dQ.popleft()\n",
    "\n",
    "        dQ.append(r)\n",
    "\n",
    "        # check windows to remove l if its is out of window\n",
    "        # we update l in later stage so we check l\n",
    "        if l>dQ[0]:\n",
    "            dQ.popleft()\n",
    "\n",
    "        if (r+l)>=k:\n",
    "            op.append(s[dQ[0]])\n",
    "            l+=1\n",
    "        r+=1\n",
    "\n",
    "    return op\n",
    "\n",
    "        \n",
    "\n"
   ]
  },
  {
   "cell_type": "code",
   "execution_count": 13,
   "metadata": {},
   "outputs": [
    {
     "data": {
      "text/plain": [
       "[3, 5, 5, 6, 7]"
      ]
     },
     "execution_count": 13,
     "metadata": {},
     "output_type": "execute_result"
    }
   ],
   "source": [
    "largest_sliding_window([1,3,-1,-3,5,3,6,7], k=3)"
   ]
  },
  {
   "cell_type": "code",
   "execution_count": null,
   "metadata": {},
   "outputs": [],
   "source": []
  }
 ],
 "metadata": {
  "kernelspec": {
   "display_name": "Python 3",
   "language": "python",
   "name": "python3"
  },
  "language_info": {
   "codemirror_mode": {
    "name": "ipython",
    "version": 3
   },
   "file_extension": ".py",
   "mimetype": "text/x-python",
   "name": "python",
   "nbconvert_exporter": "python",
   "pygments_lexer": "ipython3",
   "version": "3.9.7"
  }
 },
 "nbformat": 4,
 "nbformat_minor": 2
}
