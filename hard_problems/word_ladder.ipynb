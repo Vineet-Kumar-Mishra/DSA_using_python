{
 "cells": [
  {
   "cell_type": "markdown",
   "metadata": {},
   "source": [
    "## Word Ladder\n",
    "## given a startword and stopword. The startword is not in list of words while end word is in list of words. Find the min number of words in sequence of these words. from start to end\n",
    "## The consectuive words can have only difference of  1 character\n",
    "e.g `startword = 'hit'`  `endword = 'cog'` `wordlist = ['hot','dot','dog','lot','cog']` --> `op = 5`"
   ]
  },
  {
   "cell_type": "code",
   "execution_count": 33,
   "metadata": {},
   "outputs": [],
   "source": [
    "def wrd_lddr(strtwrd, stpwrd, wrdlst):\n",
    "    if stpwrd not in wrdlst:\n",
    "        return 0\n",
    "\n",
    "    ## forming a adjacenecy list\n",
    "\n",
    "    adj_neib = {}\n",
    "    \n",
    "    # include strtwrd in wrdlist for purpose\n",
    "    wrdlst.append(strtwrd)\n",
    "\n",
    "    for words in wrdlst:\n",
    "        # for fincing patter we'll changes replace every char by special symbol\n",
    "        for i in range(len(words)):\n",
    "            pattern = words.replace(words[i],'*')\n",
    "            if pattern not in adj_neib.keys():\n",
    "                adj_neib[pattern]=[words]\n",
    "            else:\n",
    "                adj_neib[pattern].append(words)\n",
    "    print(adj_neib)\n",
    "    visited = set()\n",
    "    from collections import deque\n",
    "\n",
    "    queue = deque()\n",
    "    queue.append((strtwrd, 1))\n",
    "    path=1\n",
    "    while queue:\n",
    "        wrd, step = queue.popleft()\n",
    "        # bfs on neigh\n",
    "        visited.add(wrd)\n",
    "        if wrd==stpwrd:\n",
    "            return step\n",
    "        all_neigh = []\n",
    "        for j in range(len(wrd)):\n",
    "            pattern = wrd.replace(wrd[j],'*')\n",
    "            all_neigh+=adj_neib[pattern]\n",
    "        print(all_neigh)\n",
    "        \n",
    "        for neib in all_neigh:\n",
    "            if neib not in visited:\n",
    "                visited.add(neib)\n",
    "                queue.append((neib, step+1))\n",
    "        path+=1\n",
    "\n",
    "\n"
   ]
  },
  {
   "cell_type": "code",
   "execution_count": 34,
   "metadata": {},
   "outputs": [
    {
     "name": "stdout",
     "output_type": "stream",
     "text": [
      "{'*ot': ['hot', 'dot', 'lot'], 'h*t': ['hot', 'hit'], 'ho*': ['hot'], 'd*t': ['dot'], 'do*': ['dot', 'dog'], '*og': ['dog', 'cog'], 'd*g': ['dog'], 'l*t': ['lot'], 'lo*': ['lot'], 'c*g': ['cog'], 'co*': ['cog'], '*it': ['hit'], 'hi*': ['hit']}\n",
      "['hit', 'hot', 'hit', 'hit']\n",
      "['hot', 'dot', 'lot', 'hot', 'hit', 'hot']\n",
      "['hot', 'dot', 'lot', 'dot', 'dot', 'dog']\n",
      "['hot', 'dot', 'lot', 'lot', 'lot']\n",
      "['dog', 'cog', 'dog', 'dot', 'dog']\n"
     ]
    },
    {
     "data": {
      "text/plain": [
       "5"
      ]
     },
     "execution_count": 34,
     "metadata": {},
     "output_type": "execute_result"
    }
   ],
   "source": [
    "wrd_lddr('hit','cog',['hot','dot','dog','lot','cog'])"
   ]
  }
 ],
 "metadata": {
  "kernelspec": {
   "display_name": "Python 3",
   "language": "python",
   "name": "python3"
  },
  "language_info": {
   "codemirror_mode": {
    "name": "ipython",
    "version": 3
   },
   "file_extension": ".py",
   "mimetype": "text/x-python",
   "name": "python",
   "nbconvert_exporter": "python",
   "pygments_lexer": "ipython3",
   "version": "3.9.7"
  }
 },
 "nbformat": 4,
 "nbformat_minor": 2
}
