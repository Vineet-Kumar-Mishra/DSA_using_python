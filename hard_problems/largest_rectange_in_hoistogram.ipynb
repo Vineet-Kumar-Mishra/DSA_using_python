{
 "cells": [
  {
   "cell_type": "markdown",
   "metadata": {},
   "source": [
    "## Largest Rectangle area in histogram of heights"
   ]
  },
  {
   "cell_type": "code",
   "execution_count": 7,
   "metadata": {},
   "outputs": [],
   "source": [
    "def largest_area(heights):\n",
    "\n",
    "    # initialize empty stack\n",
    "    stack = []\n",
    "    maxArea = 0\n",
    "\n",
    "    # Traverse\n",
    "    for idx, height in enumerate(heights):\n",
    "        # This is original beginning index of this height\n",
    "        # there is a possibility that we need to pop something and extend the start of this height\n",
    "        start = idx\n",
    "\n",
    "        # look for pop conditions\n",
    "        # check if last element of stack has greater height\n",
    "        while stack and stack[-1][1]>height:\n",
    "            stack_idx, stack_height = stack.pop()\n",
    "            maxArea = max(maxArea, stack_height*(idx-stack_idx))\n",
    "            # extend if we pop\n",
    "            start = stack_idx\n",
    "\n",
    "        # push this height and index to stack \n",
    "        stack.append((start, height))\n",
    "\n",
    "    for idx, height in stack:\n",
    "        # we have reached the end of heights list so whatever element is still present it means it starts at it's stored location\n",
    "        # but ends at the end of heights\n",
    "        maxArea = max(maxArea, height*(len(heights)-idx))\n",
    "\n",
    "    return maxArea\n"
   ]
  },
  {
   "cell_type": "code",
   "execution_count": 8,
   "metadata": {},
   "outputs": [
    {
     "data": {
      "text/plain": [
       "10"
      ]
     },
     "execution_count": 8,
     "metadata": {},
     "output_type": "execute_result"
    }
   ],
   "source": [
    "largest_area([2,1,5,6,2,3])"
   ]
  },
  {
   "cell_type": "code",
   "execution_count": 9,
   "metadata": {},
   "outputs": [],
   "source": [
    "def largest_height(height):\n",
    "    stack = []\n",
    "    max_area = float('-inf')\n",
    "\n",
    "    for idx, hgt in enumerate(height):\n",
    "        start = idx\n",
    "        while stack and stack[-1][1]>hgt:\n",
    "            idxx, ht = stack.pop()\n",
    "            max_area = max(max_area, (idx-idxx)*ht)\n",
    "            start = idxx\n",
    "\n",
    "        stack.append((start, hgt))\n",
    "\n",
    "    print(stack)\n",
    "    for idx, ht in stack:\n",
    "        max_area = max(max_area, (len(height)-1-idx)*ht)\n",
    "    print(max_area)\n"
   ]
  },
  {
   "cell_type": "code",
   "execution_count": 10,
   "metadata": {},
   "outputs": [
    {
     "name": "stdout",
     "output_type": "stream",
     "text": [
      "[(0, 1), (2, 2), (5, 3)]\n",
      "10\n"
     ]
    }
   ],
   "source": [
    "largest_height([2,1,5,6,2,3])"
   ]
  },
  {
   "cell_type": "code",
   "execution_count": null,
   "metadata": {},
   "outputs": [],
   "source": []
  }
 ],
 "metadata": {
  "kernelspec": {
   "display_name": "Python 3",
   "language": "python",
   "name": "python3"
  },
  "language_info": {
   "codemirror_mode": {
    "name": "ipython",
    "version": 3
   },
   "file_extension": ".py",
   "mimetype": "text/x-python",
   "name": "python",
   "nbconvert_exporter": "python",
   "pygments_lexer": "ipython3",
   "version": "3.9.7"
  }
 },
 "nbformat": 4,
 "nbformat_minor": 2
}
