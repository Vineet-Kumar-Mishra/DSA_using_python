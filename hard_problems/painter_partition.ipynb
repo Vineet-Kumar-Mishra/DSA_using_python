{
 "cells": [
  {
   "cell_type": "markdown",
   "metadata": {},
   "source": [
    "## Painter partition problem\n",
    ">\n",
    "Given are N boards of with length of each given in the form of array, and K painters, such that each painter takes 1 unit of time to paint 1 unit of the board. \n",
    ">\n",
    "The task is to find the minimum time to paint all boards under the constraints that any painter will only paint continuous sections of boards, say board {2, 3, 4} or only board {1} or nothing but not board {2, 4, 5}.\n",
    ">\n",
    "`Input: N = 4, A = {10, 10, 10, 10}, K = 2 \n",
    "`\n",
    ">\n",
    "`Output : 20`\n",
    ">\n",
    "\n",
    "`Input: N = 4, A = {10, 20, 30, 40}, K = 2 \n",
    "`\n",
    ">\n",
    "`Output : 60`"
   ]
  },
  {
   "cell_type": "code",
   "execution_count": 1,
   "metadata": {},
   "outputs": [],
   "source": [
    "## Using binary search\n",
    "def partition_painter(arr,k):\n",
    "\n",
    "    def division_possible(arr, k, max_value):\n",
    "        ## we'll check if based on current max value division of work is possible\n",
    "        sum_target = 0\n",
    "        partition_possible = 0\n",
    "        for num in arr:\n",
    "            sum_target+=num\n",
    "            if sum_target>max_value:\n",
    "                partition_possible+=1\n",
    "                sum_target = num\n",
    "        return (partition_possible+1)\n",
    "\n",
    "    if not arr:\n",
    "        return 0\n",
    "\n",
    "    # assign one painter with max value while result will divide it\n",
    "    low = max(arr)\n",
    "\n",
    "    # sum of this is highest i.e. one painter does all\n",
    "    high = sum(arr)\n",
    "\n",
    "    while low<high:\n",
    "        mid = (low+high)//2\n",
    "\n",
    "        partitions_possible = division_possible(arr,k,mid)\n",
    "        if partitions_possible<=k:\n",
    "            high = mid\n",
    "        else:\n",
    "            low = mid+1\n",
    "    return low\n",
    "\n"
   ]
  },
  {
   "cell_type": "code",
   "execution_count": 2,
   "metadata": {},
   "outputs": [
    {
     "data": {
      "text/plain": [
       "60"
      ]
     },
     "execution_count": 2,
     "metadata": {},
     "output_type": "execute_result"
    }
   ],
   "source": [
    "partition_painter([10, 20, 30, 40],2)"
   ]
  },
  {
   "cell_type": "code",
   "execution_count": null,
   "metadata": {},
   "outputs": [],
   "source": []
  }
 ],
 "metadata": {
  "kernelspec": {
   "display_name": "Python 3",
   "language": "python",
   "name": "python3"
  },
  "language_info": {
   "codemirror_mode": {
    "name": "ipython",
    "version": 3
   },
   "file_extension": ".py",
   "mimetype": "text/x-python",
   "name": "python",
   "nbconvert_exporter": "python",
   "pygments_lexer": "ipython3",
   "version": "3.9.7"
  }
 },
 "nbformat": 4,
 "nbformat_minor": 2
}
