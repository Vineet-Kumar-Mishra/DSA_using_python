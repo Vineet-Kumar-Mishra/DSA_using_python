{
 "cells": [
  {
   "cell_type": "markdown",
   "metadata": {},
   "source": [
    "## Edit Distances\n",
    "## Allowed to do delete, replace and insert operation\n",
    "## get min number of steps required to reach\n",
    "\n",
    ">\n",
    "e.g. `wrd1 = 'abd'` `wrd2 = 'acd'` --> `op=1`"
   ]
  },
  {
   "cell_type": "code",
   "execution_count": 25,
   "metadata": {},
   "outputs": [],
   "source": [
    "def edit_distance(wrd1, wrd2):\n",
    "    dp = [[float('+inf')]*(len(wrd2)+1) for _ in range(len(wrd1)+1)]\n",
    "    \n",
    "    # base condtion\n",
    "    for i in range(len(wrd2)+1):\n",
    "        dp[len(wrd1)][i] = len(wrd2)-i\n",
    "\n",
    "    # print(dp)\n",
    "    for i in range(len(wrd1)+1):\n",
    "        dp[i][len(wrd2)] = len(wrd1)-i\n",
    "\n",
    "    for i in range(len(wrd1)-1,-1,-1):\n",
    "        for j in range(len(wrd2)-1,-1,-1):\n",
    "            if wrd1[i]==wrd2[j]:\n",
    "                dp[i][j] = dp[i+1][j+1]\n",
    "            else:\n",
    "                dp[i][j] = 1+min(dp[i+1][j+1], dp[i+1][j], dp[i][j+1])\n",
    "    print(dp)\n",
    "    print(dp[0][0])\n",
    "    "
   ]
  },
  {
   "cell_type": "code",
   "execution_count": 26,
   "metadata": {},
   "outputs": [
    {
     "name": "stdout",
     "output_type": "stream",
     "text": [
      "[[1, 2, 2, 3], [2, 1, 1, 2], [2, 1, 0, 1], [3, 2, 1, 0]]\n",
      "1\n"
     ]
    }
   ],
   "source": [
    "edit_distance('acd','abd')"
   ]
  },
  {
   "cell_type": "code",
   "execution_count": null,
   "metadata": {},
   "outputs": [],
   "source": []
  }
 ],
 "metadata": {
  "kernelspec": {
   "display_name": "Python 3",
   "language": "python",
   "name": "python3"
  },
  "language_info": {
   "codemirror_mode": {
    "name": "ipython",
    "version": 3
   },
   "file_extension": ".py",
   "mimetype": "text/x-python",
   "name": "python",
   "nbconvert_exporter": "python",
   "pygments_lexer": "ipython3",
   "version": "3.9.7"
  }
 },
 "nbformat": 4,
 "nbformat_minor": 2
}
