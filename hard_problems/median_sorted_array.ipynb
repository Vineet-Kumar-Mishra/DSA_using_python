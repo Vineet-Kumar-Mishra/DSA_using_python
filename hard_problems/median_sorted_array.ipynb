{
 "cells": [
  {
   "cell_type": "markdown",
   "metadata": {},
   "source": [
    "## median of 2 sorted array\n",
    "## We have to consider median value if these array were joined\n",
    "## we need to solve it in O(log(m+n))\n",
    "\n",
    "> e.g. = A = [1,3], B = [2] --> joined = [1,2,3] --> median = 2\n",
    ">\n",
    "> e.g = A = [1,2], B = [3,4] --> joined = [1,2,3,4] --> medain = 2.5"
   ]
  },
  {
   "cell_type": "code",
   "execution_count": 8,
   "metadata": {},
   "outputs": [],
   "source": [
    "def median_sorted(num1,num2):\n",
    "    # A should be smallest array\n",
    "    # B shoudl be largest\n",
    "    A = num1\n",
    "    B = num2\n",
    "\n",
    "    if len(B)<len(A):\n",
    "        A,B = B,A\n",
    "\n",
    "    total_len = len(A)+len(B)\n",
    "    halfs = total_len//2\n",
    "\n",
    "    # Initital partition of A\n",
    "    l = 0\n",
    "    r = len(A)-1\n",
    "    while True:\n",
    "        # partition A array\n",
    "        midA = (l+r)//2\n",
    "\n",
    "        midB = halfs - midA - 2 # midB is index so we subtract 2\n",
    "\n",
    "        # right most element in left partition of A\n",
    "        Aleft = A[midA] if midA>=0 else float('-inf')\n",
    "\n",
    "        # left most element in right partition of A\n",
    "        Aright = A[midA+1] if (midA+1)<len(A) else float('+inf')\n",
    "\n",
    "        # similary for B\n",
    "        # right most element in left partition of B\n",
    "        Bleft = B[midB] if midB>=0 else float('-inf')\n",
    "\n",
    "        # left most element in right partition of B\n",
    "        Bright = B[midB+1] if (midB+1)<len(A) else float('+inf')\n",
    "\n",
    "\n",
    "        # check if patrtion is correct\n",
    "        if Aleft<=Bright and Bleft<=Aright:\n",
    "            # Correct partition\n",
    "            if total_len%2:\n",
    "                # odd condition\n",
    "                return min(Aright, Bright)\n",
    "            else:\n",
    "                return (max(Aleft, Bleft)+min(Aright,Bright))/2\n",
    "\n",
    "        # A partition is small\n",
    "        elif Aleft>Bright:\n",
    "            r = midA-1\n",
    "\n",
    "        # B partition is big\n",
    "        else:\n",
    "            l = midA+1\n",
    "\n",
    "\n",
    "        \n",
    "        \n",
    "\n",
    "    "
   ]
  },
  {
   "cell_type": "code",
   "execution_count": 9,
   "metadata": {},
   "outputs": [
    {
     "data": {
      "text/plain": [
       "2"
      ]
     },
     "execution_count": 9,
     "metadata": {},
     "output_type": "execute_result"
    }
   ],
   "source": [
    "median_sorted([1,3],[2])"
   ]
  },
  {
   "cell_type": "code",
   "execution_count": 10,
   "metadata": {},
   "outputs": [
    {
     "data": {
      "text/plain": [
       "2.5"
      ]
     },
     "execution_count": 10,
     "metadata": {},
     "output_type": "execute_result"
    }
   ],
   "source": [
    "median_sorted([1,3],[2,4])"
   ]
  },
  {
   "cell_type": "code",
   "execution_count": 11,
   "metadata": {},
   "outputs": [],
   "source": [
    "def median(num1, num2):\n",
    "\n",
    "    # select A to be smaller one\n",
    "    if len(num1)>len(num2):\n",
    "        A = num2\n",
    "        B = num1\n",
    "    else:\n",
    "        A = num1\n",
    "        B = num2\n",
    "\n",
    "    total = len(A)+len(B)\n",
    "    half = total//2\n",
    "\n",
    "    # inital partition\n",
    "    l=0\n",
    "    r=len(A)-1\n",
    "\n",
    "    while True:\n",
    "        # lets partition\n",
    "        # partition A\n",
    "        midA = (l+r)//2\n",
    "        midB = half-midA-2\n",
    "\n",
    "        ## finding right most element of partitiaon A\n",
    "        Aleft = A[midA] if midA>=0 else float('-inf')\n",
    "        Aright = A[midA+1] if (midA+1)<len(A) else float('+inf')\n",
    "\n",
    "        # same for B\n",
    "        Bleft = B[midB] if midB>=0 else float('-inf')\n",
    "        Bright = B[midB+1] if (midB+1)<len(A) else float('+inf')\n",
    "\n",
    "        # validate the partiton\n",
    "        if Aleft<=Bright and Bleft<=Aright:\n",
    "            # means success\n",
    "            if total%2:\n",
    "                # odd condtion\n",
    "                return min(Aright, Bright)\n",
    "            else:\n",
    "                return (max(Aleft,Bleft)+min(Aright, Bright))/2\n",
    "\n",
    "        # partiton is small\n",
    "        elif Bleft>Aright:\n",
    "            l = midA+1\n",
    "        else:\n",
    "            r = midA-1"
   ]
  },
  {
   "cell_type": "code",
   "execution_count": 12,
   "metadata": {},
   "outputs": [
    {
     "data": {
      "text/plain": [
       "2.5"
      ]
     },
     "execution_count": 12,
     "metadata": {},
     "output_type": "execute_result"
    }
   ],
   "source": [
    "median([1,3],[2,4])\n"
   ]
  },
  {
   "cell_type": "code",
   "execution_count": null,
   "metadata": {},
   "outputs": [],
   "source": []
  }
 ],
 "metadata": {
  "kernelspec": {
   "display_name": "Python 3",
   "language": "python",
   "name": "python3"
  },
  "language_info": {
   "codemirror_mode": {
    "name": "ipython",
    "version": 3
   },
   "file_extension": ".py",
   "mimetype": "text/x-python",
   "name": "python",
   "nbconvert_exporter": "python",
   "pygments_lexer": "ipython3",
   "version": "3.9.7"
  }
 },
 "nbformat": 4,
 "nbformat_minor": 2
}
