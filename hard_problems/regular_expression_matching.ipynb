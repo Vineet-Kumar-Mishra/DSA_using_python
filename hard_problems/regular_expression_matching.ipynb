{
 "cells": [
  {
   "cell_type": "markdown",
   "metadata": {},
   "source": [
    "## REGEX given s (sentence) and p (pattern) --> check if it matches the pattern\n",
    "## There can be '.' and '*'\n",
    "### '.' - can be replaced with any character\n",
    "### '*' - can make 0 or more number of preceding elemnt e.g. 'a*' - ['','a','aa','aaa',..............]\n",
    "\n",
    "> e.g. = s = 'aa' p = 'a' --> False\n",
    ">\n",
    "> e.g. = s = 'aa' p = 'a*' --> True"
   ]
  },
  {
   "cell_type": "code",
   "execution_count": 1,
   "metadata": {},
   "outputs": [],
   "source": [
    "def match_expression(s,p):\n",
    "    i=0\n",
    "    j=0\n",
    "\n",
    "    memo = {}\n",
    "    def dfs(i,j):\n",
    "        if (i,j) in memo:\n",
    "            return memo[(i,j)]\n",
    "        # base case\n",
    "        if i>=len(s) and j>=len(p):\n",
    "            return True\n",
    "\n",
    "        if j>=len(p):\n",
    "            return False\n",
    "\n",
    "        match = i<len(s) and (s[i]==p[j] or p[j]=='.')\n",
    "\n",
    "        # * case\n",
    "        if (j+1)<len(p) and p[j+1] =='*':\n",
    "            memo[(i,j)] = (dfs(i,j+2) or dfs(i+1,j))\n",
    "            return memo[(i,j)]\n",
    "\n",
    "        if match:\n",
    "            memo[(i,j)] = dfs(i+1,j+1)\n",
    "            return memo[(i,j)]\n",
    "\n",
    "    return dfs(0,0)\n",
    "\n",
    "\n"
   ]
  },
  {
   "cell_type": "code",
   "execution_count": 2,
   "metadata": {},
   "outputs": [
    {
     "name": "stdout",
     "output_type": "stream",
     "text": [
      "True\n",
      "0.0009968280792236328\n"
     ]
    }
   ],
   "source": [
    "import time\n",
    "\n",
    "st = time.time()\n",
    "print(match_expression('cccccccccccccccccccccccccccccccccccccccaaaaaaaaaaaaaaaaaaaaaaaaaaaaaaaaaaaaaaaaaaaaaaaaaaaaaaaaaaaaaaaaaaaaaaaaaaaaaaaaaaaaaaaaaaaaaaaaaaaaaaaaaaaaaab','c*a*.'))\n",
    "\n",
    "total = time.time()-st\n",
    "print(total)"
   ]
  },
  {
   "cell_type": "code",
   "execution_count": 21,
   "metadata": {},
   "outputs": [],
   "source": [
    "def match(s,p):\n",
    "    i=0\n",
    "    j=0\n",
    "    memo = {}\n",
    "    def dfs(i,j):\n",
    "        # base conditions\n",
    "        if i>=len(s) and j>=len(p): \n",
    "            return True\n",
    "        if j>=len(p): \n",
    "            return False\n",
    "\n",
    "        if (i,j) in memo:\n",
    "            return memo[(i,j)]\n",
    "        \n",
    "        # simple matching\n",
    "        match = i<len(s) and ((s[i]==p[j]) or p[j]=='.')\n",
    "\n",
    "\n",
    "        # condition of *\n",
    "        if (j+1)<len(p) and p[j+1]=='*':\n",
    "            memo[(i,j)] = (dfs(i,j+2) or dfs(i+1,j))\n",
    "            return memo[(i,j)]\n",
    "    \n",
    "        if match:\n",
    "            memo[(i,j)] = dfs(i+1, j+1)\n",
    "            return memo[(i,j)]\n",
    "        \n",
    "\n",
    "    \n",
    "    return dfs(0,0)\n"
   ]
  },
  {
   "cell_type": "code",
   "execution_count": 22,
   "metadata": {},
   "outputs": [
    {
     "name": "stdout",
     "output_type": "stream",
     "text": [
      "True\n"
     ]
    }
   ],
   "source": [
    "\n",
    "print(match('cccccbb','c*b.'))"
   ]
  },
  {
   "cell_type": "code",
   "execution_count": 8,
   "metadata": {},
   "outputs": [
    {
     "data": {
      "text/plain": [
       "True"
      ]
     },
     "execution_count": 8,
     "metadata": {},
     "output_type": "execute_result"
    }
   ],
   "source": [
    "match_expression('cccccbb','c*b.')"
   ]
  },
  {
   "cell_type": "code",
   "execution_count": null,
   "metadata": {},
   "outputs": [],
   "source": []
  }
 ],
 "metadata": {
  "kernelspec": {
   "display_name": "Python 3",
   "language": "python",
   "name": "python3"
  },
  "language_info": {
   "codemirror_mode": {
    "name": "ipython",
    "version": 3
   },
   "file_extension": ".py",
   "mimetype": "text/x-python",
   "name": "python",
   "nbconvert_exporter": "python",
   "pygments_lexer": "ipython3",
   "version": "3.9.7"
  }
 },
 "nbformat": 4,
 "nbformat_minor": 2
}
