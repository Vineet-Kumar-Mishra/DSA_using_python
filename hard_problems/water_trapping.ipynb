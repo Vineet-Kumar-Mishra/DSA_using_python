{
 "cells": [
  {
   "cell_type": "markdown",
   "metadata": {},
   "source": [
    "## Rain Water Trapping gievn heights"
   ]
  },
  {
   "cell_type": "code",
   "execution_count": 49,
   "metadata": {},
   "outputs": [],
   "source": [
    "height = [0,1,0,2,1,0,1,3,2,1,2,1]"
   ]
  },
  {
   "cell_type": "code",
   "execution_count": 50,
   "metadata": {},
   "outputs": [],
   "source": [
    "def trap(height):\n",
    "    l = 0\n",
    "    r = len(height)-1\n",
    "\n",
    "    maxl = height[l]\n",
    "    maxr = height[r]\n",
    "    res = 0\n",
    "    while l<r:\n",
    "        if maxl<=maxr:\n",
    "\n",
    "            # when code begings it has to not do for 0th and last index\n",
    "            #  so we increment and decrement first and then proceede\n",
    "            res+=max(0,maxl-height[l]) # result can be come negative \n",
    "            maxl = max(maxl,height[l])\n",
    "            l+=1\n",
    "\n",
    "\n",
    "\n",
    "\n",
    "        else:\n",
    "            res+=max(0,maxr-height[r])\n",
    "            maxr = max(maxr, height[r])\n",
    "            r-=1\n",
    "\n",
    "\n",
    "    return res"
   ]
  },
  {
   "cell_type": "code",
   "execution_count": 51,
   "metadata": {},
   "outputs": [
    {
     "data": {
      "text/plain": [
       "6"
      ]
     },
     "execution_count": 51,
     "metadata": {},
     "output_type": "execute_result"
    }
   ],
   "source": [
    "trap(height)"
   ]
  },
  {
   "cell_type": "code",
   "execution_count": null,
   "metadata": {},
   "outputs": [],
   "source": []
  }
 ],
 "metadata": {
  "kernelspec": {
   "display_name": "Python 3",
   "language": "python",
   "name": "python3"
  },
  "language_info": {
   "codemirror_mode": {
    "name": "ipython",
    "version": 3
   },
   "file_extension": ".py",
   "mimetype": "text/x-python",
   "name": "python",
   "nbconvert_exporter": "python",
   "pygments_lexer": "ipython3",
   "version": "3.9.7"
  }
 },
 "nbformat": 4,
 "nbformat_minor": 2
}
