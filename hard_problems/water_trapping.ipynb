{
 "cells": [
  {
   "cell_type": "markdown",
   "metadata": {},
   "source": [
    "## Rain Water Trapping gievn heights"
   ]
  },
  {
   "cell_type": "code",
   "execution_count": 1,
   "metadata": {},
   "outputs": [],
   "source": [
    "height = [0,1,0,2,1,0,1,3,2,1,2,1]"
   ]
  },
  {
   "cell_type": "code",
   "execution_count": null,
   "metadata": {},
   "outputs": [],
   "source": [
    "def trap(height):\n",
    "    l = 0\n",
    "    r = len(height)-1\n",
    "\n",
    "    maxl = height[l]\n",
    "    maxr = height[r]\n",
    "    res = 0\n",
    "    while l<r:\n",
    "        if maxl<=maxr:\n",
    "\n",
    "            # when code begings it has to not do for 0th and last index\n",
    "            #  so we increment and decrement first and then proceede\n",
    "            res+=max(0,maxl-height[l]) # result can be come negative \n",
    "            maxl = max(maxl,height[l])\n",
    "            l+=1\n",
    "\n",
    "\n",
    "\n",
    "\n",
    "        else:\n",
    "            res+=max(0,maxr-height[r])\n",
    "            maxr = max(maxr, height[r])\n",
    "            r-=1\n",
    "\n",
    "\n",
    "    return res"
   ]
  },
  {
   "cell_type": "code",
   "execution_count": 51,
   "metadata": {},
   "outputs": [
    {
     "data": {
      "text/plain": [
       "6"
      ]
     },
     "execution_count": 51,
     "metadata": {},
     "output_type": "execute_result"
    }
   ],
   "source": [
    "trap(height)"
   ]
  },
  {
   "cell_type": "code",
   "execution_count": 23,
   "metadata": {},
   "outputs": [],
   "source": [
    "def trap_multi(height):\n",
    "    max_left = [0]*len(height)\n",
    "    max_right = [0]*len(height)\n",
    "\n",
    "    for i in range(1,len(height)):\n",
    "        max_left[i] = max(max_left[i-1],height[i-1])\n",
    "    print(max_left)\n",
    "\n",
    "    for j in range(len(height)-2, -1,-1):\n",
    "        max_right[j] = max(max_right[j+1], height[j+1])\n",
    "    print(max_right)\n",
    "\n",
    "    min_l_r = []\n",
    "    for i,j in zip(max_left, max_right):\n",
    "        min_l_r.append(min(i,j))\n",
    "\n",
    "    print(min_l_r)\n",
    "\n",
    "    for i in range(len(height)):\n",
    "        min_l_r[i] = max((min_l_r[i]-height[i]),0)\n",
    "    print(min_l_r)\n",
    "    print(sum(min_l_r))\n",
    "\n"
   ]
  },
  {
   "cell_type": "code",
   "execution_count": 24,
   "metadata": {},
   "outputs": [
    {
     "name": "stdout",
     "output_type": "stream",
     "text": [
      "[0, 0, 1, 1, 2, 2, 2, 2, 3, 3, 3, 3]\n",
      "[3, 3, 3, 3, 3, 3, 3, 2, 2, 2, 1, 0]\n",
      "[0, 0, 1, 1, 2, 2, 2, 2, 2, 2, 1, 0]\n",
      "[0, 0, 1, 0, 1, 2, 1, 0, 0, 1, 0, 0]\n",
      "6\n"
     ]
    }
   ],
   "source": [
    "trap_multi(height)"
   ]
  },
  {
   "cell_type": "code",
   "execution_count": 39,
   "metadata": {},
   "outputs": [],
   "source": [
    "def trap_o_n(height):\n",
    "    res = 0\n",
    "    l=0\n",
    "    r = len(height)-1\n",
    "    max_L = height[l]\n",
    "    max_R = height[r]\n",
    "\n",
    "    while l<r:\n",
    "        if max_L<=max_R:\n",
    "            l+=1\n",
    "            max_L = max(max_L, height[l])\n",
    "            res+= (max_L-height[l])\n",
    "        else:\n",
    "            r-=1\n",
    "            max_R = max(max_R, height[r])\n",
    "            res+= (max_R-height[r])\n",
    "    return res"
   ]
  },
  {
   "cell_type": "code",
   "execution_count": 40,
   "metadata": {},
   "outputs": [
    {
     "data": {
      "text/plain": [
       "6"
      ]
     },
     "execution_count": 40,
     "metadata": {},
     "output_type": "execute_result"
    }
   ],
   "source": [
    "trap_o_n(height)"
   ]
  },
  {
   "cell_type": "code",
   "execution_count": null,
   "metadata": {},
   "outputs": [],
   "source": []
  }
 ],
 "metadata": {
  "kernelspec": {
   "display_name": "Python 3",
   "language": "python",
   "name": "python3"
  },
  "language_info": {
   "codemirror_mode": {
    "name": "ipython",
    "version": 3
   },
   "file_extension": ".py",
   "mimetype": "text/x-python",
   "name": "python",
   "nbconvert_exporter": "python",
   "pygments_lexer": "ipython3",
   "version": "3.9.7"
  }
 },
 "nbformat": 4,
 "nbformat_minor": 2
}
