{
 "cells": [
  {
   "cell_type": "markdown",
   "metadata": {},
   "source": [
    "## Jump Game II\n",
    "## given an array nums with value = ma jump idstance from the index. Find min number of jumps to reach the last\n",
    "\n",
    "e.g.  `nums = [2,3,1,1,4]` --> `op = 2`"
   ]
  },
  {
   "cell_type": "code",
   "execution_count": 1,
   "metadata": {},
   "outputs": [],
   "source": [
    "def jump_game_2(nums):\n",
    "    # inital index l=r=0 i.e 1st elemesnt\n",
    "    l=r=0\n",
    "    level = 0\n",
    "    while r<len(nums)-1:\n",
    "        # check the jumps from this window\n",
    "        farthest = 0\n",
    "        for i in range(l,r+1):\n",
    "            farthest = max(farthest, i+nums[i])\n",
    "\n",
    "        # at each iteraion os while loop we have the levels of thois BFS\n",
    "        level+=1\n",
    "\n",
    "        l=r+1\n",
    "        r = farthest\n",
    "    return level\n",
    "\n",
    "\n",
    "\n",
    "    "
   ]
  },
  {
   "cell_type": "code",
   "execution_count": 2,
   "metadata": {},
   "outputs": [
    {
     "data": {
      "text/plain": [
       "2"
      ]
     },
     "execution_count": 2,
     "metadata": {},
     "output_type": "execute_result"
    }
   ],
   "source": [
    "jump_game_2([2,3,1,1,4])"
   ]
  },
  {
   "cell_type": "code",
   "execution_count": 3,
   "metadata": {},
   "outputs": [
    {
     "data": {
      "text/plain": [
       "3"
      ]
     },
     "execution_count": 3,
     "metadata": {},
     "output_type": "execute_result"
    }
   ],
   "source": [
    "jump_game_2([2,1,1,1,4])\n"
   ]
  },
  {
   "cell_type": "code",
   "execution_count": 41,
   "metadata": {},
   "outputs": [],
   "source": [
    "def jp_g2(nums):\n",
    "    from collections import deque\n",
    "\n",
    "    dq = deque()\n",
    "    dq.append((0,0))\n",
    "    visited = set()\n",
    "    visited.add(0)\n",
    "    while dq:\n",
    "    \n",
    "        item, level = dq.popleft()\n",
    "\n",
    "        for i in range(nums[item]+1):\n",
    "            indices = item+i\n",
    "            if indices not in visited:\n",
    "                \n",
    "                dq.append((indices,level+1))\n",
    "                visited.add(indices)\n",
    "                if indices==len(nums)-1:\n",
    "                    return level+1\n",
    "    return -1\n",
    "\n"
   ]
  },
  {
   "cell_type": "code",
   "execution_count": 42,
   "metadata": {},
   "outputs": [
    {
     "data": {
      "text/plain": [
       "2"
      ]
     },
     "execution_count": 42,
     "metadata": {},
     "output_type": "execute_result"
    }
   ],
   "source": [
    "jp_g2([2,3,1,1,4])"
   ]
  },
  {
   "cell_type": "code",
   "execution_count": null,
   "metadata": {},
   "outputs": [],
   "source": []
  }
 ],
 "metadata": {
  "kernelspec": {
   "display_name": "Python 3",
   "language": "python",
   "name": "python3"
  },
  "language_info": {
   "codemirror_mode": {
    "name": "ipython",
    "version": 3
   },
   "file_extension": ".py",
   "mimetype": "text/x-python",
   "name": "python",
   "nbconvert_exporter": "python",
   "pygments_lexer": "ipython3",
   "version": "3.9.7"
  }
 },
 "nbformat": 4,
 "nbformat_minor": 2
}
