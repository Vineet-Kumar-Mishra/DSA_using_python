{
 "cells": [
  {
   "cell_type": "markdown",
   "metadata": {},
   "source": [
    "## Find missing positive value in a list of unsorted array\n",
    ">\n",
    "`a = [1,2,0]`  `op=3`\n",
    ">\n",
    "`a = [3,4,-1,1]` `op=2`"
   ]
  },
  {
   "cell_type": "code",
   "execution_count": 24,
   "metadata": {},
   "outputs": [],
   "source": [
    "def min_miss_pos(A):\n",
    "\n",
    "    print(A)\n",
    "    # remove -ve values and replace with 0 to make neutral\n",
    "    for i in range(len(A)):\n",
    "        if A[i]<0:\n",
    "            A[i]=0\n",
    "\n",
    "    print(A)\n",
    "    # Search which values are present\n",
    "    for i in range(len(A)):\n",
    "        val = abs(A[i])\n",
    "        index = val-1\n",
    "        # print(val,index)\n",
    "        if index in range(len(A)):\n",
    "            if A[index]>0:\n",
    "                A[index] *=-1\n",
    "            else:\n",
    "                A[index] = -1*(len(A)+1)\n",
    "\n",
    "    print(A)\n",
    "\n",
    "    # look for values which are no there\n",
    "    for possib_val in range(1, len(A)+1):\n",
    "        if A[possib_val-1]>=0:\n",
    "            return possib_val\n",
    "    return len(A)+1"
   ]
  },
  {
   "cell_type": "code",
   "execution_count": 25,
   "metadata": {},
   "outputs": [
    {
     "name": "stdout",
     "output_type": "stream",
     "text": [
      "[3, 4, -1, 1]\n",
      "[3, 4, 0, 1]\n",
      "[-3, 4, -5, -1]\n"
     ]
    },
    {
     "data": {
      "text/plain": [
       "2"
      ]
     },
     "execution_count": 25,
     "metadata": {},
     "output_type": "execute_result"
    }
   ],
   "source": [
    "min_miss_pos([3,4,-1,1])"
   ]
  },
  {
   "cell_type": "code",
   "execution_count": null,
   "metadata": {},
   "outputs": [],
   "source": []
  }
 ],
 "metadata": {
  "kernelspec": {
   "display_name": "Python 3",
   "language": "python",
   "name": "python3"
  },
  "language_info": {
   "codemirror_mode": {
    "name": "ipython",
    "version": 3
   },
   "file_extension": ".py",
   "mimetype": "text/x-python",
   "name": "python",
   "nbconvert_exporter": "python",
   "pygments_lexer": "ipython3",
   "version": "3.9.7"
  }
 },
 "nbformat": 4,
 "nbformat_minor": 2
}
