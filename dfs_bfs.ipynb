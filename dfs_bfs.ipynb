{
 "cells": [
  {
   "cell_type": "markdown",
   "metadata": {},
   "source": [
    "## Build a graph"
   ]
  },
  {
   "cell_type": "code",
   "execution_count": 13,
   "metadata": {},
   "outputs": [],
   "source": [
    "class Node:\n",
    "    def __init__(self, val = None, neighbours = None):\n",
    "        self.val = val\n",
    "        self.neighbours = neighbours if neighbours is not None else []"
   ]
  },
  {
   "cell_type": "code",
   "execution_count": 14,
   "metadata": {},
   "outputs": [],
   "source": [
    "node1 = Node(val = 1)\n",
    "node2 = Node(val = 2)\n",
    "node3 = Node(val = 3)\n",
    "node4 = Node(val = 4)\n",
    "\n",
    "node1.neighbours = [node2, node4]\n",
    "node2.neighbours = [node3, node1]\n",
    "node3.neighbours = [node2, node4]\n",
    "node4.neighbours = [node1, node3]\n"
   ]
  },
  {
   "cell_type": "code",
   "execution_count": 15,
   "metadata": {},
   "outputs": [],
   "source": [
    "def print_graph(node, visited=set()):\n",
    "    if node in visited:\n",
    "        return\n",
    "    visited.add(node)\n",
    "    print(f\"Node {node.val}: {[n.val for n in node.neighbours]}\")\n",
    "    for neighbour in node.neighbours:\n",
    "        print_graph(neighbour, visited)"
   ]
  },
  {
   "cell_type": "code",
   "execution_count": 16,
   "metadata": {},
   "outputs": [
    {
     "name": "stdout",
     "output_type": "stream",
     "text": [
      "Node 1: [2, 4]\n",
      "Node 2: [3, 1]\n",
      "Node 3: [2, 4]\n",
      "Node 4: [1, 3]\n"
     ]
    }
   ],
   "source": [
    "print_graph(node1, set())"
   ]
  },
  {
   "cell_type": "markdown",
   "metadata": {},
   "source": [
    "## BFS: Uses FIFO i.e. Queue"
   ]
  },
  {
   "cell_type": "code",
   "execution_count": 17,
   "metadata": {},
   "outputs": [],
   "source": [
    "from collections import deque"
   ]
  },
  {
   "cell_type": "code",
   "execution_count": 18,
   "metadata": {},
   "outputs": [],
   "source": [
    "def bfs(node):\n",
    "\n",
    "    # start with visited empty and 1st node in queue\n",
    "    visited = set()\n",
    "\n",
    "    # In above exmple 1 will go here\n",
    "    queue = deque([node])\n",
    "\n",
    "    while queue:\n",
    "        node = queue.popleft()\n",
    "\n",
    "        if node in visited:\n",
    "            continue\n",
    "        print(node.val, end = ' ')\n",
    "        visited.add(node)\n",
    "\n",
    "        # neighbours are 2 and 4\n",
    "        for neigh in node.neighbours:\n",
    "            if neigh in visited:\n",
    "                continue\n",
    "            queue.append(neigh)\n",
    "\n",
    "        # Then 2 and 4 are in queue so they will go in order 1 then 4\n",
    "        # 3rd iteration neighbour of 2 i.e 3 will be added and this will be preocessed\n",
    "        # Queu will look like\n",
    "        # [1]\n",
    "        # poped 1 --> [2,4]\n",
    "        # popped 2 -->[4,3]\n",
    "        # popped 4 --> [3]\n",
    "        # popped 3 --> [] --> exit the loop\n",
    "        # op - 1,2,4,3\n"
   ]
  },
  {
   "cell_type": "code",
   "execution_count": 19,
   "metadata": {},
   "outputs": [
    {
     "name": "stdout",
     "output_type": "stream",
     "text": [
      "1 2 4 3 "
     ]
    }
   ],
   "source": [
    "bfs(node1)"
   ]
  },
  {
   "cell_type": "code",
   "execution_count": 27,
   "metadata": {},
   "outputs": [],
   "source": [
    "def dfs(node):\n",
    "\n",
    "    # start with visited empty and 1st node in queue\n",
    "    visited = set()\n",
    "    queue = deque([node])\n",
    "\n",
    "    while queue:\n",
    "        node = queue.pop()\n",
    "\n",
    "        if node in visited:\n",
    "            continue\n",
    "        print(node.val, end = ' ')\n",
    "        visited.add(node)\n",
    "\n",
    "        for neigh in reversed(node.neighbours):\n",
    "            if neigh in visited:\n",
    "                continue\n",
    "            queue.append(neigh)\n",
    "\n",
    "    # Iteration 1 --> stack = [1]\n",
    "    # Iter2 --> 1 popped out and stack becomes [2,4]\n",
    "    # iter 3 --> 4 popped out and stack becomes [2]\n",
    "    # iter 4 --> 2 popped out and stack becomes [3]\n",
    "    # iter 5 --> 3 popped out and loop ends\n",
    "    # 1,4,2,3"
   ]
  },
  {
   "cell_type": "code",
   "execution_count": 28,
   "metadata": {},
   "outputs": [
    {
     "name": "stdout",
     "output_type": "stream",
     "text": [
      "1 2 4 3 "
     ]
    }
   ],
   "source": [
    "bfs(node1)"
   ]
  },
  {
   "cell_type": "code",
   "execution_count": 29,
   "metadata": {},
   "outputs": [
    {
     "name": "stdout",
     "output_type": "stream",
     "text": [
      "1 2 3 4 "
     ]
    }
   ],
   "source": [
    "dfs(node1)"
   ]
  },
  {
   "cell_type": "code",
   "execution_count": 30,
   "metadata": {},
   "outputs": [],
   "source": [
    "def dfs_rec(node, visited = None):\n",
    "    if not visited:\n",
    "        visited = set()\n",
    "\n",
    "    if node in visited:\n",
    "        return\n",
    "    print(node.val)\n",
    "    visited.add(node)\n",
    "    for neib in node.neighbours:\n",
    "        dfs_rec(neib, visited)\n",
    "    "
   ]
  },
  {
   "cell_type": "code",
   "execution_count": 26,
   "metadata": {},
   "outputs": [
    {
     "name": "stdout",
     "output_type": "stream",
     "text": [
      "1\n",
      "2\n",
      "3\n",
      "4\n"
     ]
    }
   ],
   "source": [
    "dfs_rec(node1)"
   ]
  },
  {
   "cell_type": "code",
   "execution_count": null,
   "metadata": {},
   "outputs": [],
   "source": []
  }
 ],
 "metadata": {
  "kernelspec": {
   "display_name": "Python 3",
   "language": "python",
   "name": "python3"
  },
  "language_info": {
   "codemirror_mode": {
    "name": "ipython",
    "version": 3
   },
   "file_extension": ".py",
   "mimetype": "text/x-python",
   "name": "python",
   "nbconvert_exporter": "python",
   "pygments_lexer": "ipython3",
   "version": "3.9.7"
  }
 },
 "nbformat": 4,
 "nbformat_minor": 2
}
