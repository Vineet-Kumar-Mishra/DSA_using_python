{
 "cells": [
  {
   "cell_type": "code",
   "execution_count": 1,
   "id": "a0ae87e9",
   "metadata": {},
   "outputs": [],
   "source": [
    "from collections import deque\n",
    "\n",
    "class queue:\n",
    "    def __init__(self):\n",
    "        self.buffer = deque()\n",
    "        \n",
    "    def push(self,element):\n",
    "        self.buffer.appendleft(element)\n",
    "    \n",
    "    def pop(self):\n",
    "        return self.buffer.pop()\n",
    "   \n",
    "    def size(self):\n",
    "        return len(self.buffer)\n",
    "    "
   ]
  },
  {
   "cell_type": "code",
   "execution_count": 2,
   "id": "327dd9be",
   "metadata": {},
   "outputs": [
    {
     "data": {
      "text/plain": [
       "10"
      ]
     },
     "execution_count": 2,
     "metadata": {},
     "output_type": "execute_result"
    }
   ],
   "source": [
    "q = queue()\n",
    "q.push(10)\n",
    "q.push(20)\n",
    "q.push(30)\n",
    "q.pop()"
   ]
  },
  {
   "cell_type": "markdown",
   "id": "9e995b7e",
   "metadata": {},
   "source": [
    "Design a food ordering system where your python program will run two threads,\n",
    "\n",
    "Place Order: This thread will be placing an order and inserting that into a queue. This thread places new order every 0.5 second. (hint: use time.sleep(0.5) function)\n",
    "\n",
    "\n",
    "Serve Order: This thread will server the order. All you need to do is pop the order out of the queue and print it. This thread serves an order every 2 seconds. Also start this thread 1 second after place order thread is started."
   ]
  },
  {
   "cell_type": "code",
   "execution_count": 8,
   "id": "1f825bc7",
   "metadata": {},
   "outputs": [],
   "source": [
    "import threading\n",
    "import time\n",
    "\n",
    "food_queue = queue()\n",
    "\n",
    "def take_order(orders):\n",
    "    for order in orders:\n",
    "        food_queue.push(order)\n",
    "        time.sleep(0.5)\n",
    "        \n",
    "def process_order():\n",
    "    time.sleep(1)\n",
    "    while 1:\n",
    "        print('serving order',food_queue.pop())\n",
    "        time.sleep(2)\n",
    "        if food_queue.size()==0: \n",
    "            break"
   ]
  },
  {
   "cell_type": "code",
   "execution_count": 9,
   "id": "48c2dd7b",
   "metadata": {},
   "outputs": [
    {
     "name": "stdout",
     "output_type": "stream",
     "text": [
      "serving order pizza\n",
      "serving order samosa\n",
      "serving order pasta\n",
      "serving order biryani\n",
      "serving order burger\n"
     ]
    }
   ],
   "source": [
    "orders = ['pizza','samosa','pasta','biryani','burger']\n",
    "t1 = threading.Thread(target=take_order, args=(orders,))\n",
    "t2 = threading.Thread(target=process_order)\n",
    "\n",
    "t1.run()\n",
    "t2.run()"
   ]
  },
  {
   "cell_type": "code",
   "execution_count": null,
   "id": "6fbf4a29",
   "metadata": {},
   "outputs": [],
   "source": []
  }
 ],
 "metadata": {
  "kernelspec": {
   "display_name": "Python 3",
   "language": "python",
   "name": "python3"
  },
  "language_info": {
   "codemirror_mode": {
    "name": "ipython",
    "version": 3
   },
   "file_extension": ".py",
   "mimetype": "text/x-python",
   "name": "python",
   "nbconvert_exporter": "python",
   "pygments_lexer": "ipython3",
   "version": "3.8.8"
  }
 },
 "nbformat": 4,
 "nbformat_minor": 5
}
