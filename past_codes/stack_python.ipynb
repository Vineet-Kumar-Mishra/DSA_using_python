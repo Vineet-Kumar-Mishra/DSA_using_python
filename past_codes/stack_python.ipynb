{
 "cells": [
  {
   "cell_type": "code",
   "execution_count": 1,
   "id": "6202777f",
   "metadata": {},
   "outputs": [],
   "source": [
    "from collections import deque\n",
    "\n",
    "class stack:\n",
    "    def __init__(self):\n",
    "        self.stack_container = deque()\n",
    "        \n",
    "    def push(self,element):\n",
    "        self.stack_container.append(element)\n",
    "        \n",
    "    def pop(self):\n",
    "        return self.stack_container.pop()\n",
    "    \n",
    "    def peek(self):\n",
    "        return self.stack_container[-1]\n",
    "    \n",
    "    def length(self):\n",
    "        return len(self.stack_container)\n",
    "        "
   ]
  },
  {
   "cell_type": "markdown",
   "id": "55227434",
   "metadata": {},
   "source": [
    "# Reverse a string using stack"
   ]
  },
  {
   "cell_type": "code",
   "execution_count": 7,
   "id": "0fa7a175",
   "metadata": {},
   "outputs": [],
   "source": [
    "def reverse_string_using_stack(string):\n",
    "    stack_container = stack()\n",
    "    for element in string:\n",
    "        stack_container.push(element)\n",
    "        \n",
    "    reverse = \"\"\n",
    "    while stack_container.length():\n",
    "        reverse += str(stack_container.pop())\n",
    "    \n",
    "    return reverse"
   ]
  },
  {
   "cell_type": "code",
   "execution_count": 8,
   "id": "10d7e1e9",
   "metadata": {},
   "outputs": [
    {
     "data": {
      "text/plain": [
       "'? uoy era woH ,olleH'"
      ]
     },
     "execution_count": 8,
     "metadata": {},
     "output_type": "execute_result"
    }
   ],
   "source": [
    "reverse_string_using_stack(\"Hello, How are you ?\")"
   ]
  }
 ],
 "metadata": {
  "kernelspec": {
   "display_name": "Python 3",
   "language": "python",
   "name": "python3"
  },
  "language_info": {
   "codemirror_mode": {
    "name": "ipython",
    "version": 3
   },
   "file_extension": ".py",
   "mimetype": "text/x-python",
   "name": "python",
   "nbconvert_exporter": "python",
   "pygments_lexer": "ipython3",
   "version": "3.8.8"
  }
 },
 "nbformat": 4,
 "nbformat_minor": 5
}
