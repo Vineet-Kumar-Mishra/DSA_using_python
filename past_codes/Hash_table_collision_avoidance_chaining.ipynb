{
 "cells": [
  {
   "cell_type": "code",
   "execution_count": 38,
   "id": "74ec9ffb",
   "metadata": {},
   "outputs": [],
   "source": [
    "class HashTable:\n",
    "    def __init__(self):\n",
    "        \n",
    "        # set the size of array to be 10\n",
    "        self.size = 10\n",
    "        \n",
    "        # make empty array of array of size required i.e. 10\n",
    "        self.array = [[] for _ in range(self.size)]\n",
    "    \n",
    "    def hash_function(self,key):\n",
    "        \n",
    "        # function to calculate the hash value using ASCII\n",
    "        sum_ord = 0\n",
    "        for i in str(key):\n",
    "            sum_ord += ord(i)\n",
    "        return sum_ord%self.size\n",
    "    \n",
    "    # function to get value given a key\n",
    "    def __getitem__(self,key):\n",
    "        k = self.hash_function(key)\n",
    "        found = False\n",
    "        for item in self.array[k]:\n",
    "            if item[0]==key:\n",
    "                found = True\n",
    "                return item[1]\n",
    "        if found == False:\n",
    "                return None\n",
    "    # function to set value given a key\n",
    "    def __setitem__(self,key,value):\n",
    "        k = self.hash_function(key)\n",
    "        found = False\n",
    "        for item in self.array[k]:\n",
    "            if item[0]==key:\n",
    "                item[1] = value\n",
    "                found = True\n",
    "        if found==False:\n",
    "            self.array[k].append([key,value])\n",
    "    "
   ]
  },
  {
   "cell_type": "code",
   "execution_count": 32,
   "id": "99ed036a",
   "metadata": {},
   "outputs": [
    {
     "data": {
      "text/plain": [
       "(9, 9)"
      ]
     },
     "execution_count": 32,
     "metadata": {},
     "output_type": "execute_result"
    }
   ],
   "source": [
    "h = HashTable()\n",
    "h.hash_function('march 6'), h.hash_function('march 17')"
   ]
  },
  {
   "cell_type": "code",
   "execution_count": 33,
   "id": "ac157b0a",
   "metadata": {},
   "outputs": [],
   "source": [
    "h['march 6'] = 310"
   ]
  },
  {
   "cell_type": "code",
   "execution_count": 34,
   "id": "eeb508de",
   "metadata": {},
   "outputs": [],
   "source": [
    "h['march 17'] = 15"
   ]
  },
  {
   "cell_type": "code",
   "execution_count": 37,
   "id": "d4fd8a71",
   "metadata": {},
   "outputs": [
    {
     "data": {
      "text/plain": [
       "[[], [], [], [], [], [], [], [], [], [['march 6', 310], ['march 17', 15]]]"
      ]
     },
     "execution_count": 37,
     "metadata": {},
     "output_type": "execute_result"
    }
   ],
   "source": [
    "h.array"
   ]
  },
  {
   "cell_type": "code",
   "execution_count": null,
   "id": "90ed5c85",
   "metadata": {},
   "outputs": [],
   "source": []
  }
 ],
 "metadata": {
  "kernelspec": {
   "display_name": "Python 3",
   "language": "python",
   "name": "python3"
  },
  "language_info": {
   "codemirror_mode": {
    "name": "ipython",
    "version": 3
   },
   "file_extension": ".py",
   "mimetype": "text/x-python",
   "name": "python",
   "nbconvert_exporter": "python",
   "pygments_lexer": "ipython3",
   "version": "3.8.8"
  }
 },
 "nbformat": 4,
 "nbformat_minor": 5
}
