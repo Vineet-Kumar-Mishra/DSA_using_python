{
 "cells": [
  {
   "cell_type": "code",
   "execution_count": 19,
   "id": "94203b16",
   "metadata": {},
   "outputs": [],
   "source": [
    "class Binary_Tree:\n",
    "    def __init__(self, data):\n",
    "        self.data = data\n",
    "        self.left = None\n",
    "        self.right = None\n",
    "        \n",
    "    def add_child(self,data):\n",
    "        if self.data==data:\n",
    "            return\n",
    "        if self.data>data:\n",
    "            # set it to left\n",
    "            if self.left:\n",
    "                self.left.add_child(data)\n",
    "            else:\n",
    "                self.left = Binary_Tree(data)\n",
    "            \n",
    "        if self.data<data:\n",
    "            # set it to the right\n",
    "            if self.right:\n",
    "                self.right.add_child(data)\n",
    "            else:\n",
    "                self.right = Binary_Tree(data)\n",
    "                \n",
    "    def inorder_traversal(self):\n",
    "        elements = []\n",
    "        if self.left:\n",
    "            elements += self.left.inorder_traversal()\n",
    "        elements.append(self.data)\n",
    "        if self.right:\n",
    "            elements +=self.right.inorder_traversal()\n",
    "        return elements\n",
    "    \n",
    "    def pre_order_traversal(self):\n",
    "        elements = [self.data]\n",
    "        if self.left:\n",
    "            elements += self.left.pre_order_traversal()\n",
    "        if self.right:\n",
    "            elements += self.right.pre_order_traversal()\n",
    "        return elements\n",
    "            \n",
    "    def post_order_traversal(self):\n",
    "        elements = []\n",
    "        if self.left:\n",
    "            elements += self.left.post_order_traversal()\n",
    "        if self.right:\n",
    "            elements += self.right.post_order_traversal()\n",
    "        elements.append(self.data)\n",
    "        return elements\n",
    "        \n",
    "    def min_element(self):\n",
    "        \n",
    "#         method 1\n",
    "#         minimum = self\n",
    "#         while minimum.left:\n",
    "#             minimum = minimum.left\n",
    "#         return minimum.data\n",
    "\n",
    "#         method 2\n",
    "        if self.left is None:\n",
    "            return self.data\n",
    "        else:\n",
    "            return self.left.min_element()\n",
    "        \n",
    "    def max_element(self):\n",
    "#         method 1\n",
    "#         maximum = self\n",
    "#         while maximum.right:\n",
    "#             maximum = maximum.right\n",
    "#         return maximum.data\n",
    "#         method 2\n",
    "        if self.right is None:\n",
    "            return self.data\n",
    "        else:\n",
    "            return self.right.max_element()\n",
    "        \n",
    "    def calculate_sum(self):\n",
    "        return sum(self.inorder_traversal())\n",
    "        \n",
    "    def delete(self, val):\n",
    "        if val<self.data:\n",
    "            # check in left subtree\n",
    "            if self.left:\n",
    "                self.left = self.left.delete(val)\n",
    "        elif val>self.data:\n",
    "            #check in right subtree\n",
    "            if self.right:\n",
    "                self.right = self.right.delete(val)\n",
    "       \n",
    "        # it means we came to the element\n",
    "        else:\n",
    "            if self.left is None and self.right is None:\n",
    "                return None\n",
    "            if self.left is None:\n",
    "                return self.right\n",
    "            if self.right is None:\n",
    "                return self.left\n",
    "            \n",
    "            min_val = self.right.min_element()\n",
    "            self.data = min_val\n",
    "            self.right = self.right.delete(min_val)\n",
    "        return self"
   ]
  },
  {
   "cell_type": "code",
   "execution_count": 20,
   "id": "05718702",
   "metadata": {},
   "outputs": [],
   "source": [
    "ele = [14,18,5,32,10,56,98,102]\n",
    "root = Binary_Tree(ele[0])\n",
    "for i in range(1, len(ele)):\n",
    "    root.add_child(ele[i])"
   ]
  },
  {
   "cell_type": "code",
   "execution_count": 21,
   "id": "db302fe2",
   "metadata": {},
   "outputs": [
    {
     "data": {
      "text/plain": [
       "[5, 10, 14, 18, 32, 56, 98, 102]"
      ]
     },
     "execution_count": 21,
     "metadata": {},
     "output_type": "execute_result"
    }
   ],
   "source": [
    "root.inorder_traversal()"
   ]
  },
  {
   "cell_type": "code",
   "execution_count": 22,
   "id": "6d4146a5",
   "metadata": {},
   "outputs": [
    {
     "data": {
      "text/plain": [
       "[14, 5, 10, 18, 32, 56, 98, 102]"
      ]
     },
     "execution_count": 22,
     "metadata": {},
     "output_type": "execute_result"
    }
   ],
   "source": [
    "root.pre_order_traversal()"
   ]
  },
  {
   "cell_type": "code",
   "execution_count": 23,
   "id": "620165ba",
   "metadata": {},
   "outputs": [
    {
     "data": {
      "text/plain": [
       "[10, 5, 102, 98, 56, 32, 18, 14]"
      ]
     },
     "execution_count": 23,
     "metadata": {},
     "output_type": "execute_result"
    }
   ],
   "source": [
    "root.post_order_traversal()"
   ]
  },
  {
   "cell_type": "code",
   "execution_count": 24,
   "id": "59d2e192",
   "metadata": {},
   "outputs": [
    {
     "data": {
      "text/plain": [
       "102"
      ]
     },
     "execution_count": 24,
     "metadata": {},
     "output_type": "execute_result"
    }
   ],
   "source": [
    "root.max_element()"
   ]
  },
  {
   "cell_type": "code",
   "execution_count": 25,
   "id": "7bc8c01d",
   "metadata": {},
   "outputs": [
    {
     "data": {
      "text/plain": [
       "5"
      ]
     },
     "execution_count": 25,
     "metadata": {},
     "output_type": "execute_result"
    }
   ],
   "source": [
    "root.min_element()"
   ]
  },
  {
   "cell_type": "code",
   "execution_count": 26,
   "id": "d0306732",
   "metadata": {},
   "outputs": [
    {
     "data": {
      "text/plain": [
       "335"
      ]
     },
     "execution_count": 26,
     "metadata": {},
     "output_type": "execute_result"
    }
   ],
   "source": [
    "root.calculate_sum()"
   ]
  },
  {
   "cell_type": "code",
   "execution_count": 27,
   "id": "88941387",
   "metadata": {},
   "outputs": [
    {
     "data": {
      "text/plain": [
       "[5, 14, 18, 32, 56, 98, 102]"
      ]
     },
     "execution_count": 27,
     "metadata": {},
     "output_type": "execute_result"
    }
   ],
   "source": [
    "root.delete(10)\n",
    "root.inorder_traversal()"
   ]
  },
  {
   "cell_type": "code",
   "execution_count": null,
   "id": "de03f7d4",
   "metadata": {},
   "outputs": [],
   "source": []
  }
 ],
 "metadata": {
  "kernelspec": {
   "display_name": "Python 3",
   "language": "python",
   "name": "python3"
  },
  "language_info": {
   "codemirror_mode": {
    "name": "ipython",
    "version": 3
   },
   "file_extension": ".py",
   "mimetype": "text/x-python",
   "name": "python",
   "nbconvert_exporter": "python",
   "pygments_lexer": "ipython3",
   "version": "3.8.8"
  }
 },
 "nbformat": 4,
 "nbformat_minor": 5
}
