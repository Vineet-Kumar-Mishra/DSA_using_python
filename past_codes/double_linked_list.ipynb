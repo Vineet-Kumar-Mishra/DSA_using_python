{
 "cells": [
  {
   "cell_type": "code",
   "execution_count": 1,
   "id": "dc0b4e78",
   "metadata": {},
   "outputs": [],
   "source": [
    "class Node():\n",
    "    def __init__(self, data = None, next = None, previous = None):\n",
    "        self.data = data\n",
    "        self.next = next\n",
    "        self.previous = previous"
   ]
  },
  {
   "cell_type": "code",
   "execution_count": 68,
   "id": "f475b004",
   "metadata": {},
   "outputs": [],
   "source": [
    "class double_linked_list():\n",
    "    def __init__(self):\n",
    "        self.head = None\n",
    "        \n",
    "    def get_tail(self):\n",
    "        itr = self.head\n",
    "        while itr.next:\n",
    "            itr = itr.next\n",
    "        return itr\n",
    "    \n",
    "    def insert_at_beginning(self,data):\n",
    "        if self.head is None:\n",
    "            self.head = Node(data, self.head,None)\n",
    "            return\n",
    "        node = Node(data, self.head, None)\n",
    "        self.head.previous = node\n",
    "        self.head = node\n",
    "        \n",
    "    def print(self,reverse=False):\n",
    "        if self.head is None:\n",
    "            print(\"Empty\")\n",
    "            return\n",
    "        \n",
    "        if reverse:\n",
    "            tail = self.get_tail()\n",
    "            itr = tail\n",
    "            string = \"\"\n",
    "            while itr:\n",
    "                string += str(itr.data)+\"<-->\" if itr.previous else str(itr.data)\n",
    "                itr = itr.previous\n",
    "            print(string)\n",
    "        else:\n",
    "            itr = self.head\n",
    "            string = \"\"\n",
    "            while itr:\n",
    "                string += str(itr.data)+\"<-->\" if itr.next else str(itr.data)\n",
    "                itr = itr.next\n",
    "            print(string)\n",
    "    def insert_at_end(self, data):\n",
    "        tail = self.get_tail()\n",
    "        node = Node(data,None,tail)\n",
    "        tail.next = node\n",
    "    \n",
    "    def len(self):\n",
    "        itr = self.head\n",
    "        count = 0\n",
    "        while itr:\n",
    "            count+=1\n",
    "            itr = itr.next\n",
    "        return count\n",
    "            \n",
    "    def insert_at_index(self,index,data):\n",
    "        if index<0 or index>self.len():\n",
    "            raise Exception(\"Invalid index\")\n",
    "        itr = self.head\n",
    "        count=0\n",
    "        while itr:\n",
    "            if count==index-1:\n",
    "                node = Node(data, itr.next,itr)\n",
    "                itr.next = node\n",
    "                break\n",
    "            count+=1\n",
    "            itr = itr.next\n",
    "        \n",
    "    def insert_after_number(self,data_after, data):\n",
    "        itr = self.head\n",
    "        while itr:\n",
    "            if itr.data==data_after:\n",
    "                node = Node(data,itr.next,itr)\n",
    "                itr.next = node\n",
    "            itr = itr.next"
   ]
  },
  {
   "cell_type": "code",
   "execution_count": 69,
   "id": "c3b8db8c",
   "metadata": {},
   "outputs": [
    {
     "name": "stdout",
     "output_type": "stream",
     "text": [
      "40<-->30<-->20<-->10\n",
      "10<-->20<-->30<-->40\n",
      "40<-->30<-->20<-->10<-->1\n",
      "40<-->30<-->100<-->20<-->10<-->1\n",
      "40<-->30<-->100<-->200<-->20<-->10<-->1\n"
     ]
    }
   ],
   "source": [
    "l1 = double_linked_list()\n",
    "l1.insert_at_beginning(10)\n",
    "l1.insert_at_beginning(20)\n",
    "l1.insert_at_beginning(30)\n",
    "l1.insert_at_beginning(40)\n",
    "l1.print()\n",
    "l1.print(reverse=True)\n",
    "l1.insert_at_end(1)\n",
    "l1.print()\n",
    "l1.insert_at_index(2,100)\n",
    "l1.print()\n",
    "l1.insert_after_number(100,200)\n",
    "l1.print()"
   ]
  },
  {
   "cell_type": "code",
   "execution_count": null,
   "id": "8559db2d",
   "metadata": {},
   "outputs": [],
   "source": []
  }
 ],
 "metadata": {
  "kernelspec": {
   "display_name": "Python 3 (ipykernel)",
   "language": "python",
   "name": "python3"
  },
  "language_info": {
   "codemirror_mode": {
    "name": "ipython",
    "version": 3
   },
   "file_extension": ".py",
   "mimetype": "text/x-python",
   "name": "python",
   "nbconvert_exporter": "python",
   "pygments_lexer": "ipython3",
   "version": "3.9.7"
  }
 },
 "nbformat": 4,
 "nbformat_minor": 5
}
