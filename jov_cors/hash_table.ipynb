{
 "cells": [
  {
   "cell_type": "markdown",
   "metadata": {},
   "source": [
    "## Implementing a hash table\n"
   ]
  },
  {
   "cell_type": "code",
   "execution_count": 1,
   "metadata": {},
   "outputs": [],
   "source": [
    "max_len = 1024"
   ]
  },
  {
   "cell_type": "code",
   "execution_count": 2,
   "metadata": {},
   "outputs": [],
   "source": [
    "class Hash_Table():\n",
    "    def __init__(self,max_len = 1024):\n",
    "        self.max_len = max_len\n",
    "        self.hash = [None]* self.max_len\n",
    "\n",
    "    def get_hash(self, string):\n",
    "        ord_value = sum([ord(i) for i in string])\n",
    "        hash_val = ord_value % self.max_len\n",
    "        return hash_val\n",
    "    def insert(self, key, value):\n",
    "        hash_val = self.get_hash(key)\n",
    "        self.hash[hash_val] = (key,value)\n",
    "    def find(self, key):\n",
    "        hash_val = self.get_hash(key)\n",
    "        return self.hash[hash_val]\n",
    "    def print_hash(self):\n",
    "        print([i for i in self.hash if i!=None])"
   ]
  },
  {
   "cell_type": "code",
   "execution_count": 3,
   "metadata": {},
   "outputs": [],
   "source": [
    "my_hash = Hash_Table()"
   ]
  },
  {
   "cell_type": "code",
   "execution_count": 4,
   "metadata": {},
   "outputs": [],
   "source": [
    "my_hash.insert('vineet',9415)"
   ]
  },
  {
   "cell_type": "code",
   "execution_count": 5,
   "metadata": {},
   "outputs": [],
   "source": [
    "my_hash.insert('pandey', 924)"
   ]
  },
  {
   "cell_type": "code",
   "execution_count": 6,
   "metadata": {},
   "outputs": [
    {
     "data": {
      "text/plain": [
       "('vineet', 9415)"
      ]
     },
     "execution_count": 6,
     "metadata": {},
     "output_type": "execute_result"
    }
   ],
   "source": [
    "my_hash.find('vineet')"
   ]
  },
  {
   "cell_type": "code",
   "execution_count": 7,
   "metadata": {},
   "outputs": [
    {
     "name": "stdout",
     "output_type": "stream",
     "text": [
      "[('pandey', 924), ('vineet', 9415)]\n"
     ]
    }
   ],
   "source": [
    "my_hash.print_hash()"
   ]
  },
  {
   "cell_type": "code",
   "execution_count": 21,
   "metadata": {},
   "outputs": [],
   "source": [
    "class HT():\n",
    "    def __init__(self,max_len = 1024):\n",
    "        self.max_len = max_len\n",
    "        self.hash = [None]* self.max_len\n",
    "\n",
    "    def get_hash(self, string):\n",
    "        ord_value = sum([ord(i) for i in string])\n",
    "        hash_val = ord_value % self.max_len\n",
    "        return hash_val\n",
    "    \n",
    "    def __setitem__(self, key, value):\n",
    "        hash_val = self.get_hash(key)\n",
    "        self.hash[hash_val] = (key,value)\n",
    "\n",
    "    def __getitem__(self, key):\n",
    "        hash_val = self.get_hash(key)\n",
    "        return self.hash[hash_val]\n",
    "    \n",
    "    def non_none_items(self):\n",
    "        return [i for i in self.hash if i!=None]\n",
    "    \n",
    "    def __len__(self):\n",
    "        return len(self.non_none_items())\n",
    "    \n",
    "    def __str__(self):\n",
    "        return f\"{self.non_none_items()}\""
   ]
  },
  {
   "cell_type": "code",
   "execution_count": 22,
   "metadata": {},
   "outputs": [],
   "source": [
    "hash = HT()"
   ]
  },
  {
   "cell_type": "code",
   "execution_count": 23,
   "metadata": {},
   "outputs": [],
   "source": [
    "hash['vineet'] = 9415\n",
    "hash['pandey'] = 7847"
   ]
  },
  {
   "cell_type": "code",
   "execution_count": 24,
   "metadata": {},
   "outputs": [
    {
     "data": {
      "text/plain": [
       "('vineet', 9415)"
      ]
     },
     "execution_count": 24,
     "metadata": {},
     "output_type": "execute_result"
    }
   ],
   "source": [
    "hash['vineet']"
   ]
  },
  {
   "cell_type": "code",
   "execution_count": 25,
   "metadata": {},
   "outputs": [
    {
     "data": {
      "text/plain": [
       "2"
      ]
     },
     "execution_count": 25,
     "metadata": {},
     "output_type": "execute_result"
    }
   ],
   "source": [
    "len(hash)"
   ]
  },
  {
   "cell_type": "code",
   "execution_count": 27,
   "metadata": {},
   "outputs": [
    {
     "name": "stdout",
     "output_type": "stream",
     "text": [
      "[('pandey', 7847), ('vineet', 9415)]\n"
     ]
    }
   ],
   "source": [
    "print((hash))"
   ]
  },
  {
   "cell_type": "markdown",
   "metadata": {},
   "source": [
    "## Linear Probing for collsion avoidance"
   ]
  },
  {
   "cell_type": "code",
   "execution_count": 49,
   "metadata": {},
   "outputs": [],
   "source": [
    "class HT_LP():\n",
    "    def __init__(self,max_len = 1024):\n",
    "        self.max_len = max_len\n",
    "        self.hash = [None]* self.max_len\n",
    "\n",
    "    def get_hash(self, string):\n",
    "        ord_value = sum([ord(i) for i in string])\n",
    "        hash_val = ord_value % self.max_len\n",
    "        return hash_val\n",
    "    \n",
    "    def __setitem__(self, key, value):\n",
    "        hash_val = self.get_hash(key)\n",
    "        idx = hash_val\n",
    "        traverse = 0\n",
    "        while traverse!=self.max_len:\n",
    "            if self.hash[idx]==None:\n",
    "                self.hash[idx] = (key,value, hash_val)\n",
    "                return\n",
    "            else:\n",
    "                if idx==len(self.hash):\n",
    "                    idx = 0\n",
    "                else:\n",
    "                    idx+=1\n",
    "                traverse+=1\n",
    "\n",
    "    def __getitem__(self, key):\n",
    "        hash_val = self.get_hash(key)\n",
    "        idx = hash_val\n",
    "        traverse = 0\n",
    "        while traverse!=self.max_len:\n",
    "            if self.hash[idx]==None:\n",
    "                    return \n",
    "            else:\n",
    "                if self.hash[idx][0]==key:\n",
    "                    return self.hash[idx]\n",
    "                else: \n",
    "                    idx+=1\n",
    "                    traverse+=1\n",
    "    \n",
    "    def non_none_items(self):\n",
    "        return [(id,i) for id,i in enumerate(self.hash) if i!=None]\n",
    "    \n",
    "    def __len__(self):\n",
    "        return len(self.non_none_items())\n",
    "    \n",
    "    def __str__(self):\n",
    "        return f\"{self.non_none_items()}\""
   ]
  },
  {
   "cell_type": "code",
   "execution_count": 50,
   "metadata": {},
   "outputs": [],
   "source": [
    "ht = HT_LP()"
   ]
  },
  {
   "cell_type": "code",
   "execution_count": 51,
   "metadata": {},
   "outputs": [],
   "source": [
    "ht['abc'] = 21\n",
    "ht['bca'] = 22\n",
    "ht['cab'] = 23\n",
    "ht['vt'] = 8"
   ]
  },
  {
   "cell_type": "code",
   "execution_count": 52,
   "metadata": {},
   "outputs": [
    {
     "name": "stdout",
     "output_type": "stream",
     "text": [
      "[(234, ('vt', 8, 234)), (294, ('abc', 21, 294)), (295, ('bca', 22, 294)), (296, ('cab', 23, 294))]\n"
     ]
    }
   ],
   "source": [
    "print(ht)"
   ]
  },
  {
   "cell_type": "code",
   "execution_count": 53,
   "metadata": {},
   "outputs": [],
   "source": [
    "ht['fd']"
   ]
  },
  {
   "cell_type": "code",
   "execution_count": null,
   "metadata": {},
   "outputs": [],
   "source": []
  }
 ],
 "metadata": {
  "kernelspec": {
   "display_name": "Python 3",
   "language": "python",
   "name": "python3"
  },
  "language_info": {
   "codemirror_mode": {
    "name": "ipython",
    "version": 3
   },
   "file_extension": ".py",
   "mimetype": "text/x-python",
   "name": "python",
   "nbconvert_exporter": "python",
   "pygments_lexer": "ipython3",
   "version": "3.9.7"
  }
 },
 "nbformat": 4,
 "nbformat_minor": 2
}
