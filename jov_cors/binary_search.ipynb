{
 "cells": [
  {
   "cell_type": "markdown",
   "metadata": {},
   "source": [
    "## Basic binary Search algorithm\n",
    "\n",
    "#### array = [2,4,6,8,9,13,44], element = 9\n",
    "#### result = 4"
   ]
  },
  {
   "cell_type": "code",
   "execution_count": 14,
   "metadata": {},
   "outputs": [],
   "source": [
    "def search_direction(array, mid, element, requirement):\n",
    "    if array[mid]==element:\n",
    "        if requirement == 'first':\n",
    "            if mid>1 and array[mid-1] == element:\n",
    "                return 'left'\n",
    "            else:\n",
    "                return 'found'\n",
    "        else:\n",
    "            if mid< len(array) and array[mid+1] == element:\n",
    "                return 'right'\n",
    "            else:\n",
    "                return 'found'\n",
    "    elif array[mid] > element:\n",
    "        return 'left'\n",
    "    else:\n",
    "        return 'right'\n",
    "    \n",
    "def binary_search(array, element, requirement = 'first'):\n",
    "    low = 0\n",
    "    high = len(array) - 1\n",
    "    while low<=high:\n",
    "        mid = (low + high) // 2\n",
    "        direction = search_direction(array, mid, element, requirement)\n",
    "        if direction == 'found':\n",
    "            return mid\n",
    "        elif direction == 'right':\n",
    "            low = mid + 1\n",
    "        else:\n",
    "            high = mid - 1\n",
    "    return -1\n"
   ]
  },
  {
   "cell_type": "code",
   "execution_count": 18,
   "metadata": {},
   "outputs": [],
   "source": [
    "tests_first = [{'input': {'array':  [2,4,6,8,9,13,44], 'element': 9}, 'output': 4},\n",
    "        {'input': {'array':  [2,4,6,8,9,13,44], 'element': 12}, 'output': -1},\n",
    "        {'input': {'array':  [], 'element': 9}, 'output': -1},\n",
    "        {'input': {'array':  [2,4,6,6,6,8,9,13,44], 'element': 6}, 'output': 2},]\n",
    "\n",
    "tests_last = [{'input': {'array':  [2,4,6,8,9,13,44], 'element': 9}, 'output': 4},\n",
    "        {'input': {'array':  [2,4,6,8,9,13,44], 'element': 12}, 'output': -1},\n",
    "        {'input': {'array':  [], 'element': 9}, 'output': -1},\n",
    "        {'input': {'array':  [2,4,6,6,6,8,9,13,44], 'element': 6}, 'output': 4},]"
   ]
  },
  {
   "cell_type": "code",
   "execution_count": 20,
   "metadata": {},
   "outputs": [
    {
     "name": "stdout",
     "output_type": "stream",
     "text": [
      "first requirement\n",
      "4 4\n",
      "-1 -1\n",
      "-1 -1\n",
      "2 2\n",
      "Last requirement\n",
      "4 4\n",
      "-1 -1\n",
      "-1 -1\n",
      "4 4\n"
     ]
    }
   ],
   "source": [
    "print('first requirement')\n",
    "for test in tests_first:\n",
    "    print(binary_search(**test['input'], requirement = 'first'), test['output'])\n",
    "\n",
    "print('Last requirement')\n",
    "for test in tests_last:\n",
    "    print(binary_search(**test['input'], requirement = 'last'), test['output'])"
   ]
  },
  {
   "cell_type": "code",
   "execution_count": null,
   "metadata": {},
   "outputs": [],
   "source": []
  }
 ],
 "metadata": {
  "language_info": {
   "name": "python"
  }
 },
 "nbformat": 4,
 "nbformat_minor": 2
}
