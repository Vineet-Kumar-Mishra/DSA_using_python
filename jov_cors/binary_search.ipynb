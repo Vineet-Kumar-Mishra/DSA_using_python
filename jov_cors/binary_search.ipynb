{
 "cells": [
  {
   "cell_type": "markdown",
   "metadata": {},
   "source": [
    "## Basic binary Search algorithm\n",
    "\n",
    "> array = [2,4,6,8,9,13,44], element = 9\n",
    "> \n",
    ">result = 4"
   ]
  },
  {
   "cell_type": "code",
   "execution_count": 14,
   "metadata": {},
   "outputs": [],
   "source": [
    "def search_direction(array, mid, element, requirement):\n",
    "    if array[mid]==element:\n",
    "        if requirement == 'first':\n",
    "            if mid>1 and array[mid-1] == element:\n",
    "                return 'left'\n",
    "            else:\n",
    "                return 'found'\n",
    "        else:\n",
    "            if mid< len(array) and array[mid+1] == element:\n",
    "                return 'right'\n",
    "            else:\n",
    "                return 'found'\n",
    "    elif array[mid] > element:\n",
    "        return 'left'\n",
    "    else:\n",
    "        return 'right'\n",
    "    \n",
    "def binary_search(array, element, requirement = 'first'):\n",
    "    low = 0\n",
    "    high = len(array) - 1\n",
    "    while low<=high:\n",
    "        mid = (low + high) // 2\n",
    "        direction = search_direction(array, mid, element, requirement)\n",
    "        if direction == 'found':\n",
    "            return mid\n",
    "        elif direction == 'right':\n",
    "            low = mid + 1\n",
    "        else:\n",
    "            high = mid - 1\n",
    "    return -1\n"
   ]
  },
  {
   "cell_type": "code",
   "execution_count": 18,
   "metadata": {},
   "outputs": [],
   "source": [
    "tests_first = [{'input': {'array':  [2,4,6,8,9,13,44], 'element': 9}, 'output': 4},\n",
    "        {'input': {'array':  [2,4,6,8,9,13,44], 'element': 12}, 'output': -1},\n",
    "        {'input': {'array':  [], 'element': 9}, 'output': -1},\n",
    "        {'input': {'array':  [2,4,6,6,6,8,9,13,44], 'element': 6}, 'output': 2},]\n",
    "\n",
    "tests_last = [{'input': {'array':  [2,4,6,8,9,13,44], 'element': 9}, 'output': 4},\n",
    "        {'input': {'array':  [2,4,6,8,9,13,44], 'element': 12}, 'output': -1},\n",
    "        {'input': {'array':  [], 'element': 9}, 'output': -1},\n",
    "        {'input': {'array':  [2,4,6,6,6,8,9,13,44], 'element': 6}, 'output': 4},]"
   ]
  },
  {
   "cell_type": "code",
   "execution_count": 20,
   "metadata": {},
   "outputs": [
    {
     "name": "stdout",
     "output_type": "stream",
     "text": [
      "first requirement\n",
      "4 4\n",
      "-1 -1\n",
      "-1 -1\n",
      "2 2\n",
      "Last requirement\n",
      "4 4\n",
      "-1 -1\n",
      "-1 -1\n",
      "4 4\n"
     ]
    }
   ],
   "source": [
    "print('first requirement')\n",
    "for test in tests_first:\n",
    "    print(binary_search(**test['input'], requirement = 'first'), test['output'])\n",
    "\n",
    "print('Last requirement')\n",
    "for test in tests_last:\n",
    "    print(binary_search(**test['input'], requirement = 'last'), test['output'])"
   ]
  },
  {
   "cell_type": "markdown",
   "metadata": {},
   "source": [
    "## Problem - Rotated Lists\n",
    "\n",
    "We'll solve the following problem step-by-step:\n",
    "\n",
    "> You are given list of numbers, obtained by rotating a sorted list an unknown number of times. Write a function to determine the minimum number of times the original sorted list was rotated to obtain the given list. Your function should have the worst-case complexity of `O(log N)`, where N is the length of the list. You can assume that all the numbers in the list are unique.\n",
    ">\n",
    "> Example: The list `[5, 6, 9, 0, 2, 3, 4]` was obtained by rotating the sorted list `[0, 2, 3, 4, 5, 6, 9]` 3 times.\n",
    ">\n",
    "> We define \"rotating a list\" as removing the last element of the list and adding it before the first element. E.g. rotating the list `[3, 2, 4, 1]` produces `[1, 3, 2, 4]`. \n",
    ">\n",
    ">\"Sorted list\" refers to a list where the elements are arranged in the increasing order  e.g. `[1, 3, 5, 7]`.\n",
    ">"
   ]
  },
  {
   "cell_type": "code",
   "execution_count": 60,
   "metadata": {},
   "outputs": [],
   "source": [
    "tests_rotated = [{'input': {'array':  [5, 6, 9, 0, 1,2, 3, 4]}, 'output': 3},\n",
    "        {'input': {'array':  [8,9,13,44,2,4,6]}, 'output': 4},\n",
    "        {'input': {'array':  [8,9,13,44,74,2,4,6]}, 'output': 5},\n",
    "        {'input': {'array':  [1,2,3,4,5,6,7]}, 'output': 0},\n",
    "        {'input': {'array':  [7,7,7,7,7,7,7,7,7]}, 'output': 0},\n",
    "        {'input': {'array':  [5, 6, 6, 9, 9, 9, 0, 0, 2, 3, 3, 3, 3, 4, 4]}, 'output': 6},\n",
    "        {'input': {'array':  [8,9,13,44,74,74, 74,2,2,4,4,6]}, 'output': 7},]"
   ]
  },
  {
   "cell_type": "code",
   "execution_count": 61,
   "metadata": {},
   "outputs": [],
   "source": [
    "def detect_rotation(array):\n",
    "    low = 0\n",
    "    high = len(array) - 1\n",
    "    # if not rotated then ascending order\n",
    "    if array[low] < array[high]:\n",
    "            return 0\n",
    "    \n",
    "    while low<=high:\n",
    "        mid = (low + high) // 2\n",
    "        \n",
    "        # print(low, mid, high)\n",
    "        # at the point of rotation the the element on left and right will be larger\n",
    "        if mid>0 and array[mid-1]> array[mid]:\n",
    "            return mid\n",
    "        \n",
    "        if array[mid]<array[high]:\n",
    "            high = mid-1\n",
    "        else:\n",
    "            low = mid+1\n",
    "    return 0\n",
    "        "
   ]
  },
  {
   "cell_type": "code",
   "execution_count": 62,
   "metadata": {},
   "outputs": [
    {
     "name": "stdout",
     "output_type": "stream",
     "text": [
      "Rotated Test\n",
      "[INFO]: for 0\n",
      "output 3 3\n",
      "[INFO]: for 1\n",
      "output 4 4\n",
      "[INFO]: for 2\n",
      "output 5 5\n",
      "[INFO]: for 3\n",
      "output 0 0\n",
      "[INFO]: for 4\n",
      "output 0 0\n",
      "[INFO]: for 5\n",
      "output 6 6\n",
      "[INFO]: for 6\n",
      "output 7 7\n"
     ]
    }
   ],
   "source": [
    "print('Rotated Test')\n",
    "for idx,test in enumerate(tests_rotated):\n",
    "    print(f\"[INFO]: for {idx}\")\n",
    "    print(\"output\", detect_rotation(**test['input']), test['output'])"
   ]
  },
  {
   "cell_type": "markdown",
   "metadata": {},
   "source": [
    "## Searching in a rotated list"
   ]
  },
  {
   "cell_type": "code",
   "execution_count": 63,
   "metadata": {},
   "outputs": [],
   "source": [
    "tests_rotated_search = [{'input': {'array':  [5, 6, 9, 0, 1,2, 3, 4], 'element': 9}, 'output': 2},\n",
    "        {'input': {'array':  [8,9,13,44,2,4,6], 'element': 4}, 'output': 5},\n",
    "        {'input': {'array':  [8,9,13,44,74,2,4,6], 'element': 13}, 'output': 2},\n",
    "        {'input': {'array':  [1,2,3,4,5,6,7], 'element': 1}, 'output': 0},\n",
    "        {'input': {'array':  [7,7,7,7,7,7,7,7,7], 'element': 6}, 'output': -1},\n",
    "        {'input': {'array':  [5, 6, 6, 9, 9, 9, 0, 0, 2, 3, 3, 3, 3, 4, 4], 'element': 6}, 'output': 1},\n",
    "        {'input': {'array':  [], 'element': 6}, 'output': -1},\n",
    "        {'input': {'array':  [8,9,13,44,74,74,74,2,2,4,4,6], 'element': 2}, 'output': 7},]"
   ]
  },
  {
   "cell_type": "code",
   "execution_count": 85,
   "metadata": {},
   "outputs": [],
   "source": [
    "def search_rotated(array, element):\n",
    "    low = 0\n",
    "    high = len(array) - 1\n",
    "    while low<=high:\n",
    "        mid = (low + high) // 2\n",
    "\n",
    "        if array[mid]==element:\n",
    "            if mid>0 and array[mid-1]==array[mid]:\n",
    "                high = mid -1\n",
    "            else:\n",
    "                return mid\n",
    "        \n",
    "        if array[low]<=array[mid]: # left side is sorted\n",
    "            if array[low] <= element < array[mid]:\n",
    "                high = mid - 1\n",
    "            else:\n",
    "                low = mid + 1\n",
    "        else: #right half is sorted\n",
    "            if array[mid] < element <= array[high]:\n",
    "                low = mid +1\n",
    "            else:\n",
    "                high = mid -1\n",
    "    return -1"
   ]
  },
  {
   "cell_type": "code",
   "execution_count": 86,
   "metadata": {},
   "outputs": [
    {
     "name": "stdout",
     "output_type": "stream",
     "text": [
      "Search Rotated Test\n",
      "[INFO]: for 0\n",
      "output 2 2\n",
      "[INFO]: for 1\n",
      "output 5 5\n",
      "[INFO]: for 2\n",
      "output 2 2\n",
      "[INFO]: for 3\n",
      "output 0 0\n",
      "[INFO]: for 4\n",
      "output -1 -1\n",
      "[INFO]: for 5\n",
      "output 1 1\n",
      "[INFO]: for 6\n",
      "output -1 -1\n",
      "[INFO]: for 7\n",
      "output 7 7\n"
     ]
    }
   ],
   "source": [
    "print('Search Rotated Test')\n",
    "for idx,test in enumerate(tests_rotated_search):\n",
    "    print(f\"[INFO]: for {idx}\")\n",
    "    print(\"output\", search_rotated(**test['input']), test['output'])"
   ]
  },
  {
   "cell_type": "markdown",
   "metadata": {},
   "source": [
    "# square root of a number using binary search"
   ]
  },
  {
   "cell_type": "code",
   "execution_count": 117,
   "metadata": {},
   "outputs": [],
   "source": [
    "def square_root(num):\n",
    "    if num<0:\n",
    "        return None\n",
    "    \n",
    "    low = 0\n",
    "    high = num\n",
    "    while low<= high:\n",
    "\n",
    "        mid = (low+high)/2\n",
    "\n",
    "        if mid*mid == num:\n",
    "            return mid\n",
    "        elif mid*mid > num:\n",
    "            high = mid\n",
    "        else:\n",
    "            low = mid\n",
    "    return mid\n"
   ]
  },
  {
   "cell_type": "code",
   "execution_count": 118,
   "metadata": {},
   "outputs": [
    {
     "data": {
      "text/plain": [
       "4.123105625617661"
      ]
     },
     "execution_count": 118,
     "metadata": {},
     "output_type": "execute_result"
    }
   ],
   "source": [
    "square_root(17)"
   ]
  },
  {
   "cell_type": "markdown",
   "metadata": {},
   "source": [
    "## Count occurence of  number in list"
   ]
  },
  {
   "cell_type": "code",
   "execution_count": 123,
   "metadata": {},
   "outputs": [],
   "source": [
    "test = {'input':{'array':  [2,4,6,6,6,8,8,8,8,8,8,9,13,44], 'element': 8}}"
   ]
  },
  {
   "cell_type": "code",
   "execution_count": 124,
   "metadata": {},
   "outputs": [
    {
     "data": {
      "text/plain": [
       "6"
      ]
     },
     "execution_count": 124,
     "metadata": {},
     "output_type": "execute_result"
    }
   ],
   "source": [
    "binary_search(**test['input'], requirement='last') - binary_search(**test['input'], requirement='first') + 1"
   ]
  },
  {
   "cell_type": "code",
   "execution_count": null,
   "metadata": {},
   "outputs": [],
   "source": []
  }
 ],
 "metadata": {
  "kernelspec": {
   "display_name": "Python 3",
   "language": "python",
   "name": "python3"
  },
  "language_info": {
   "name": "python",
   "version": "3.9.7"
  }
 },
 "nbformat": 4,
 "nbformat_minor": 2
}
