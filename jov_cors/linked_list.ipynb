{
 "cells": [
  {
   "cell_type": "markdown",
   "metadata": {},
   "source": [
    "## Single Linked list in python"
   ]
  },
  {
   "cell_type": "code",
   "execution_count": 32,
   "metadata": {},
   "outputs": [],
   "source": [
    "class Node():\n",
    "    def __init__(self, value = None, next = None):\n",
    "        self.value = value\n",
    "        self.next = next\n",
    "\n",
    "class Linked_List():\n",
    "    def __init__(self):\n",
    "        self.head = None\n",
    "\n",
    "    def insert_at_beginning(self, key):\n",
    "        present_node = Node(key, None)\n",
    "        if self.head == None:\n",
    "            self.head = present_node\n",
    "        else:\n",
    "            present_node.next = self.head\n",
    "            self.head = present_node\n",
    "    \n",
    "    def insert_at_end(self,key):\n",
    "        present_node = Node(key, None)\n",
    "        if self.head == None:\n",
    "            self.head = present_node\n",
    "        else:\n",
    "            itr = self.head\n",
    "            while itr.next:\n",
    "                itr = itr.next\n",
    "            itr.next = present_node\n",
    "    \n",
    "    def get_length(self):\n",
    "        if self.head == None:\n",
    "            return 0\n",
    "        else:\n",
    "            count = 0\n",
    "            itr = self.head\n",
    "            while itr:\n",
    "                itr = itr.next\n",
    "                count+=1\n",
    "            return count\n",
    "\n",
    "    def __setitem__(self, loc, key):\n",
    "        if loc<0 or loc>self.get_length():\n",
    "            print('invalid Index')\n",
    "            return\n",
    "        if loc==0:\n",
    "            self.insert_at_beginning(key)\n",
    "            return\n",
    "        \n",
    "        count = 0\n",
    "        itr = self.head\n",
    "        while itr:\n",
    "            if count == loc-1:\n",
    "                present_node = Node(key, itr.next)\n",
    "                itr.next = present_node\n",
    "                break\n",
    "            count+=1\n",
    "            itr = itr.next\n",
    "\n",
    "    def remove_at_loc(self, loc):\n",
    "        if loc<0 or loc>self.get_length():\n",
    "            print('Invalid Location')\n",
    "            return\n",
    "        count = 0\n",
    "        itr = self.head\n",
    "        while itr:\n",
    "            if count==loc-1:\n",
    "                itr.next = itr.next.next\n",
    "                break\n",
    "            count+=1\n",
    "            itr = itr.next\n",
    "                \n",
    "    def print_list(self):\n",
    "        if self.head == None:\n",
    "            print('Empty List')\n",
    "        else:\n",
    "            string = ''\n",
    "            itr = self.head\n",
    "            while itr:\n",
    "                string = string + str(itr.value) + \"-->\" if itr.next else string + str(itr.value)\n",
    "                itr = itr.next\n",
    "            print(string)\n"
   ]
  },
  {
   "cell_type": "code",
   "execution_count": 34,
   "metadata": {},
   "outputs": [
    {
     "name": "stdout",
     "output_type": "stream",
     "text": [
      "30-->20\n",
      "240-->30-->20\n",
      "240-->30-->20-->40\n",
      "240-->30-->70-->20-->40\n",
      "240-->30-->20-->40\n"
     ]
    }
   ],
   "source": [
    "ll = Linked_List()\n",
    "\n",
    "\n",
    "ll[0] = 20\n",
    "ll.insert_at_beginning(30)\n",
    "ll.print_list()\n",
    "\n",
    "ll.insert_at_beginning(240)\n",
    "ll.print_list()\n",
    "ll.insert_at_end(40)\n",
    "ll.print_list()\n",
    "ll.get_length()\n",
    "ll[2] = 70\n",
    "ll.print_list()\n",
    "ll.remove_at_loc(2)\n",
    "ll.print_list()\n"
   ]
  },
  {
   "cell_type": "code",
   "execution_count": null,
   "metadata": {},
   "outputs": [],
   "source": []
  }
 ],
 "metadata": {
  "kernelspec": {
   "display_name": "Python 3",
   "language": "python",
   "name": "python3"
  },
  "language_info": {
   "codemirror_mode": {
    "name": "ipython",
    "version": 3
   },
   "file_extension": ".py",
   "mimetype": "text/x-python",
   "name": "python",
   "nbconvert_exporter": "python",
   "pygments_lexer": "ipython3",
   "version": "3.9.7"
  }
 },
 "nbformat": 4,
 "nbformat_minor": 2
}
