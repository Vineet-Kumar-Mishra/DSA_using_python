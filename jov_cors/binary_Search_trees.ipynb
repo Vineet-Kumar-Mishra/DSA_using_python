{
 "cells": [
  {
   "cell_type": "markdown",
   "metadata": {},
   "source": [
    "## BST\n",
    "#### Link: https://jovian.ai/aakashns/python-binary-search-trees\n",
    " Define a userdatabase and perform insert, find, update and list all on them"
   ]
  },
  {
   "cell_type": "markdown",
   "metadata": {},
   "source": [
    "#### Height of balanced BST\n",
    "`` height < log(N) + 1 ----> N = #records ``"
   ]
  },
  {
   "cell_type": "markdown",
   "metadata": {},
   "source": [
    "## Basic tree nodes\n",
    "> left node always less than parent node and right node always greater parent node"
   ]
  },
  {
   "cell_type": "code",
   "execution_count": 1,
   "metadata": {},
   "outputs": [
    {
     "name": "stdout",
     "output_type": "stream",
     "text": [
      "3\n",
      "2\n",
      "5\n"
     ]
    }
   ],
   "source": [
    "class TreeNode():\n",
    "    def __init__(self, key, value = None):\n",
    "        self.value = value\n",
    "        self.key = key\n",
    "        self.left = None\n",
    "        self.right = None\n",
    "\n",
    "# defining nodes\n",
    "node_0 = TreeNode(3)\n",
    "node_l = TreeNode(2)\n",
    "node_r = TreeNode(5)\n",
    "\n",
    "# joining nodes\n",
    "node_0.left = node_l\n",
    "node_0.right = node_r\n",
    "\n",
    "print(node_0.key)\n",
    "print(node_0.left.key)\n",
    "print(node_0.right.key)"
   ]
  },
  {
   "cell_type": "markdown",
   "metadata": {},
   "source": [
    "### creating Tree using Tuple"
   ]
  },
  {
   "cell_type": "code",
   "execution_count": 2,
   "metadata": {},
   "outputs": [],
   "source": [
    "tree_tuple = ((1,3,None),2,((None, 3, 4),5,(6,7,8)))"
   ]
  },
  {
   "cell_type": "code",
   "execution_count": 3,
   "metadata": {},
   "outputs": [],
   "source": [
    "def parse_tree(data):\n",
    "    if isinstance(data, tuple) and len(data)==3:\n",
    "        node = TreeNode(data[1])\n",
    "        node.left = parse_tree(data[0])\n",
    "        node.right = parse_tree(data[2])\n",
    "    elif data is None:\n",
    "        node = None\n",
    "    else:\n",
    "        node = TreeNode(data)\n",
    "    return node"
   ]
  },
  {
   "cell_type": "code",
   "execution_count": 4,
   "metadata": {},
   "outputs": [],
   "source": [
    "tree2 = parse_tree(tree_tuple)"
   ]
  },
  {
   "cell_type": "markdown",
   "metadata": {},
   "source": [
    "## BST Traversal\n",
    "1. Inorder traversal - traverse left subtree, current node, right subtree\n",
    "2. Preorder traveral - current node, left, right\n",
    "3. postorder traversal - left, right, node"
   ]
  },
  {
   "cell_type": "code",
   "execution_count": 23,
   "metadata": {},
   "outputs": [],
   "source": [
    "def inorder_traversal(tree):\n",
    "    if tree==None:\n",
    "        return\n",
    "    else:\n",
    "        inorder_traversal(tree.left)\n",
    "        print(tree.key, end = ' ')\n",
    "        inorder_traversal(tree.right)\n",
    "\n",
    "def preorder_traversal(tree):\n",
    "    if tree==None:\n",
    "        return\n",
    "    else:\n",
    "        print(tree.key, end = ' ')\n",
    "        preorder_traversal(tree.left)\n",
    "        preorder_traversal(tree.right)\n",
    "\n",
    "def postorder_traversal(tree):\n",
    "    if tree==None:\n",
    "        return\n",
    "    else:\n",
    "        \n",
    "        postorder_traversal(tree.left)\n",
    "        postorder_traversal(tree.right)\n",
    "        print(tree.key, end = ' ')"
   ]
  },
  {
   "cell_type": "code",
   "execution_count": 24,
   "metadata": {},
   "outputs": [
    {
     "name": "stdout",
     "output_type": "stream",
     "text": [
      "1 3 2 3 4 5 6 7 8 "
     ]
    }
   ],
   "source": [
    "inorder_traversal(tree2)"
   ]
  },
  {
   "cell_type": "code",
   "execution_count": 25,
   "metadata": {},
   "outputs": [
    {
     "name": "stdout",
     "output_type": "stream",
     "text": [
      "2 3 1 5 3 4 7 6 8 "
     ]
    }
   ],
   "source": [
    "preorder_traversal(tree2)"
   ]
  },
  {
   "cell_type": "code",
   "execution_count": 26,
   "metadata": {},
   "outputs": [
    {
     "name": "stdout",
     "output_type": "stream",
     "text": [
      "1 3 4 3 6 8 7 5 2 "
     ]
    }
   ],
   "source": [
    "postorder_traversal(tree2)"
   ]
  },
  {
   "cell_type": "markdown",
   "metadata": {},
   "source": [
    "## Finding height of a BST\n",
    "`1 for node and rest for longest (left or right)`\n",
    "\n",
    "## Finding nodes in tree"
   ]
  },
  {
   "cell_type": "code",
   "execution_count": 31,
   "metadata": {},
   "outputs": [],
   "source": [
    "def find_height_tree(tree):\n",
    "    if tree == None:\n",
    "        return 0\n",
    "    else:\n",
    "        return 1+ max(find_height_tree(tree.left), find_height_tree(tree.right))\n",
    "    \n",
    "def find_nodes(tree):\n",
    "    if tree == None:\n",
    "        return 0\n",
    "    else:\n",
    "        return 1 + find_nodes(tree.left) + find_nodes(tree.right)"
   ]
  },
  {
   "cell_type": "code",
   "execution_count": 30,
   "metadata": {},
   "outputs": [
    {
     "data": {
      "text/plain": [
       "4"
      ]
     },
     "execution_count": 30,
     "metadata": {},
     "output_type": "execute_result"
    }
   ],
   "source": [
    "find_height_tree(tree2)"
   ]
  },
  {
   "cell_type": "code",
   "execution_count": 32,
   "metadata": {},
   "outputs": [
    {
     "data": {
      "text/plain": [
       "9"
      ]
     },
     "execution_count": 32,
     "metadata": {},
     "output_type": "execute_result"
    }
   ],
   "source": [
    "find_nodes(tree2)"
   ]
  },
  {
   "cell_type": "code",
   "execution_count": 35,
   "metadata": {},
   "outputs": [
    {
     "data": {
      "text/plain": [
       "'   10\\n  /  5    20\\n    /    15    25\\n\\n'"
      ]
     },
     "execution_count": 35,
     "metadata": {},
     "output_type": "execute_result"
    }
   ],
   "source": [
    "'''   10\n",
    "  /  \\\n",
    "5    20\n",
    "    /  \\\n",
    "  15    25\n",
    "\n",
    "'''"
   ]
  },
  {
   "cell_type": "code",
   "execution_count": 51,
   "metadata": {},
   "outputs": [],
   "source": [
    "def find_diameter(tree):\n",
    "    if tree == None:\n",
    "        return 0\n",
    "    left_height = find_height_tree(tree.left)\n",
    "    right_height = find_height_tree(tree.right)\n",
    "\n",
    "    l_dia = find_diameter(tree.left)\n",
    "    r_dia = find_diameter(tree.right)\n",
    "    return max(left_height+right_height, l_dia, r_dia)"
   ]
  },
  {
   "cell_type": "code",
   "execution_count": 52,
   "metadata": {},
   "outputs": [
    {
     "data": {
      "text/plain": [
       "5"
      ]
     },
     "execution_count": 52,
     "metadata": {},
     "output_type": "execute_result"
    }
   ],
   "source": [
    "find_diameter(tree2)"
   ]
  },
  {
   "cell_type": "code",
   "execution_count": 59,
   "metadata": {},
   "outputs": [],
   "source": [
    "def find_min_node(node):\n",
    "    if node == None:\n",
    "        return float('+inf')\n",
    "    return min(node.key, find_min_node(node.left), find_min_node(node.right))"
   ]
  },
  {
   "cell_type": "code",
   "execution_count": 60,
   "metadata": {},
   "outputs": [
    {
     "data": {
      "text/plain": [
       "1"
      ]
     },
     "execution_count": 60,
     "metadata": {},
     "output_type": "execute_result"
    }
   ],
   "source": [
    "find_min_node(tree2)"
   ]
  },
  {
   "cell_type": "code",
   "execution_count": 61,
   "metadata": {},
   "outputs": [],
   "source": [
    "def find_max_node(node):\n",
    "    if node == None:\n",
    "        return 0\n",
    "    return max(node.key, find_max_node(node.left), find_max_node(node.right))"
   ]
  },
  {
   "cell_type": "code",
   "execution_count": 62,
   "metadata": {},
   "outputs": [
    {
     "data": {
      "text/plain": [
       "8"
      ]
     },
     "execution_count": 62,
     "metadata": {},
     "output_type": "execute_result"
    }
   ],
   "source": [
    "find_max_node(tree2)"
   ]
  },
  {
   "cell_type": "code",
   "execution_count": 63,
   "metadata": {},
   "outputs": [],
   "source": [
    "def list_all(tree):\n",
    "    if tree==None:\n",
    "        return []\n",
    "    return list_all(tree.left) + [tree.key] + list_all(tree.right)"
   ]
  },
  {
   "cell_type": "code",
   "execution_count": 64,
   "metadata": {},
   "outputs": [
    {
     "data": {
      "text/plain": [
       "[1, 3, 2, 3, 4, 5, 6, 7, 8]"
      ]
     },
     "execution_count": 64,
     "metadata": {},
     "output_type": "execute_result"
    }
   ],
   "source": [
    "list_all(tree2)"
   ]
  },
  {
   "cell_type": "markdown",
   "metadata": {},
   "source": [
    "### Building BST Nodes"
   ]
  },
  {
   "cell_type": "code",
   "execution_count": 65,
   "metadata": {},
   "outputs": [],
   "source": [
    "class BST_nodes():\n",
    "    def __init__(self, key):\n",
    "        self.key = key\n",
    "        self.left = None\n",
    "        self.right = None\n",
    "        self.parent = None"
   ]
  },
  {
   "cell_type": "code",
   "execution_count": 66,
   "metadata": {},
   "outputs": [],
   "source": [
    "node1 = BST_nodes('jadesh')\n",
    "node2 = BST_nodes('soan')\n",
    "node3 = BST_nodes('aak')\n",
    "node4 = BST_nodes('hem')\n",
    "node5 = BST_nodes('sid')\n",
    "node6 = BST_nodes('vis')"
   ]
  },
  {
   "cell_type": "code",
   "execution_count": 67,
   "metadata": {},
   "outputs": [],
   "source": [
    "def insert(node, key):\n",
    "    if node == None:\n",
    "        node = BST_nodes(key)\n",
    "    elif key<node.key:\n",
    "        node.left = insert(node.left, key)\n",
    "        node.left.parent = node\n",
    "    else:\n",
    "        node.right = insert(node.right, key)\n",
    "        node.right.parent = node\n",
    "    return node"
   ]
  },
  {
   "cell_type": "code",
   "execution_count": 83,
   "metadata": {},
   "outputs": [],
   "source": [
    "tree3 = insert(None, 'jad')"
   ]
  },
  {
   "cell_type": "code",
   "execution_count": 84,
   "metadata": {},
   "outputs": [
    {
     "data": {
      "text/plain": [
       "<__main__.BST_nodes at 0x21827e68df0>"
      ]
     },
     "execution_count": 84,
     "metadata": {},
     "output_type": "execute_result"
    }
   ],
   "source": [
    "insert(tree3,'bir')\n",
    "insert(tree3,'soan')\n",
    "insert(tree3,'aak')\n",
    "insert(tree3,'hem')\n",
    "insert(tree3,'sid')\n",
    "insert(tree3,'vis')"
   ]
  },
  {
   "cell_type": "code",
   "execution_count": 79,
   "metadata": {},
   "outputs": [],
   "source": [
    "def display_tree(tree, space = '\\t', level=0):\n",
    "    if tree == None:\n",
    "        print(space*level +'@')\n",
    "        return\n",
    "    if tree.left is None and tree.right is None:\n",
    "        print(space*level + str(tree.key))\n",
    "        return\n",
    "    display_tree(tree.right, space, level+1)\n",
    "    print(space*level+str(tree.key))\n",
    "    display_tree(tree.left, space, level+1)"
   ]
  },
  {
   "cell_type": "code",
   "execution_count": 85,
   "metadata": {},
   "outputs": [
    {
     "name": "stdout",
     "output_type": "stream",
     "text": [
      "      vis\n",
      "   soan\n",
      "      sid\n",
      "jad\n",
      "      hem\n",
      "   bir\n",
      "      aak\n"
     ]
    }
   ],
   "source": [
    "display_tree(tree3, '   ')"
   ]
  },
  {
   "cell_type": "markdown",
   "metadata": {},
   "source": [
    "## Building a balanced tree given a list"
   ]
  },
  {
   "cell_type": "code",
   "execution_count": 88,
   "metadata": {},
   "outputs": [],
   "source": [
    "def build_balanced_tree(data, low=0, high=None, parent=None):\n",
    "    if high==None:\n",
    "        high = len(data)-1\n",
    "    if low>high:\n",
    "        return None\n",
    "    mid = (low+high)//2\n",
    "    key = data[mid]\n",
    "    root = BST_nodes(key)\n",
    "    root.parent = parent\n",
    "    root.left = build_balanced_tree(data, low, mid-1, root)\n",
    "    root.right = build_balanced_tree(data, mid+1, high, root)\n",
    "    return root"
   ]
  },
  {
   "cell_type": "code",
   "execution_count": 89,
   "metadata": {},
   "outputs": [],
   "source": [
    "tree4 = build_balanced_tree(['ja','bi','so','ak','hm','sid','vis'])"
   ]
  },
  {
   "cell_type": "code",
   "execution_count": 90,
   "metadata": {},
   "outputs": [
    {
     "name": "stdout",
     "output_type": "stream",
     "text": [
      "\t\tvis\n",
      "\tsid\n",
      "\t\thm\n",
      "ak\n",
      "\t\tso\n",
      "\tbi\n",
      "\t\tja\n"
     ]
    }
   ],
   "source": [
    "display_tree(tree4)"
   ]
  },
  {
   "cell_type": "code",
   "execution_count": null,
   "metadata": {},
   "outputs": [],
   "source": []
  }
 ],
 "metadata": {
  "kernelspec": {
   "display_name": "Python 3",
   "language": "python",
   "name": "python3"
  },
  "language_info": {
   "codemirror_mode": {
    "name": "ipython",
    "version": 3
   },
   "file_extension": ".py",
   "mimetype": "text/x-python",
   "name": "python",
   "nbconvert_exporter": "python",
   "pygments_lexer": "ipython3",
   "version": "3.9.7"
  }
 },
 "nbformat": 4,
 "nbformat_minor": 2
}
